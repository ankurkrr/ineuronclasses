{
 "cells": [
  {
   "cell_type": "code",
   "execution_count": 1,
   "id": "f44d20f2",
   "metadata": {},
   "outputs": [],
   "source": [
    "a = 'ankur'"
   ]
  },
  {
   "cell_type": "code",
   "execution_count": 2,
   "id": "490fc3ae",
   "metadata": {},
   "outputs": [
    {
     "data": {
      "text/plain": [
       "str"
      ]
     },
     "execution_count": 2,
     "metadata": {},
     "output_type": "execute_result"
    }
   ],
   "source": [
    "type(a)"
   ]
  },
  {
   "cell_type": "code",
   "execution_count": 3,
   "id": "0afb31c9",
   "metadata": {},
   "outputs": [],
   "source": [
    "c = \"this is my 7th class for full data science class that's y i joined the class\""
   ]
  },
  {
   "cell_type": "code",
   "execution_count": 4,
   "id": "c5234c13",
   "metadata": {},
   "outputs": [
    {
     "data": {
      "text/plain": [
       "'ankur'"
      ]
     },
     "execution_count": 4,
     "metadata": {},
     "output_type": "execute_result"
    }
   ],
   "source": [
    "a"
   ]
  },
  {
   "cell_type": "code",
   "execution_count": 5,
   "id": "22bdba88",
   "metadata": {},
   "outputs": [
    {
     "data": {
      "text/plain": [
       "\"this is my 7th class for full data science class that's y i joined the class\""
      ]
     },
     "execution_count": 5,
     "metadata": {},
     "output_type": "execute_result"
    }
   ],
   "source": [
    "c"
   ]
  },
  {
   "cell_type": "code",
   "execution_count": 6,
   "id": "71c4dc54",
   "metadata": {},
   "outputs": [
    {
     "name": "stdout",
     "output_type": "stream",
     "text": [
      "this is my 7th class for full data science class that's y i joined the class\n"
     ]
    }
   ],
   "source": [
    "print(c)"
   ]
  },
  {
   "cell_type": "code",
   "execution_count": 7,
   "id": "906ab8d4",
   "metadata": {},
   "outputs": [],
   "source": [
    "s = \"thiss is stack class\""
   ]
  },
  {
   "cell_type": "code",
   "execution_count": 8,
   "id": "13feba68",
   "metadata": {},
   "outputs": [
    {
     "data": {
      "text/plain": [
       "'thiss is stack class'"
      ]
     },
     "execution_count": 8,
     "metadata": {},
     "output_type": "execute_result"
    }
   ],
   "source": [
    "s"
   ]
  },
  {
   "cell_type": "code",
   "execution_count": 9,
   "id": "933e642d",
   "metadata": {},
   "outputs": [
    {
     "data": {
      "text/plain": [
       "'thiss is stack class'"
      ]
     },
     "execution_count": 9,
     "metadata": {},
     "output_type": "execute_result"
    }
   ],
   "source": [
    "\"\". join(s)"
   ]
  },
  {
   "cell_type": "code",
   "execution_count": 10,
   "id": "e52c6fb3",
   "metadata": {},
   "outputs": [],
   "source": [
    "s = \"my name is ankur kumar, name of org is ineuron\""
   ]
  },
  {
   "cell_type": "code",
   "execution_count": 11,
   "id": "2207ace7",
   "metadata": {},
   "outputs": [
    {
     "data": {
      "text/plain": [
       "'my name is ankur kumar, name of org is ineuron'"
      ]
     },
     "execution_count": 11,
     "metadata": {},
     "output_type": "execute_result"
    }
   ],
   "source": [
    "s"
   ]
  },
  {
   "cell_type": "code",
   "execution_count": 12,
   "id": "f7529592",
   "metadata": {},
   "outputs": [
    {
     "data": {
      "text/plain": [
       "'my name is ankur kumar, name of org is ineuron'"
      ]
     },
     "execution_count": 12,
     "metadata": {},
     "output_type": "execute_result"
    }
   ],
   "source": [
    "s.lower()"
   ]
  },
  {
   "cell_type": "code",
   "execution_count": 13,
   "id": "472c49ef",
   "metadata": {},
   "outputs": [
    {
     "data": {
      "text/plain": [
       "'MY NAME IS ANKUR KUMAR, NAME OF ORG IS INEURON'"
      ]
     },
     "execution_count": 13,
     "metadata": {},
     "output_type": "execute_result"
    }
   ],
   "source": [
    "s.upper()"
   ]
  },
  {
   "cell_type": "code",
   "execution_count": 14,
   "id": "8970bbb9",
   "metadata": {},
   "outputs": [
    {
     "data": {
      "text/plain": [
       "'MY NAME IS ANKUR KUMAR, NAME OF ORG IS INEURON'"
      ]
     },
     "execution_count": 14,
     "metadata": {},
     "output_type": "execute_result"
    }
   ],
   "source": [
    "s.swapcase()"
   ]
  },
  {
   "cell_type": "code",
   "execution_count": 15,
   "id": "4e35574b",
   "metadata": {},
   "outputs": [
    {
     "data": {
      "text/plain": [
       "'m y   n a m e   i s   a n k u r   k u m a r ,   n a m e   o f   o r g   i s   i n e u r o n'"
      ]
     },
     "execution_count": 15,
     "metadata": {},
     "output_type": "execute_result"
    }
   ],
   "source": [
    "\" \". join(s)"
   ]
  },
  {
   "cell_type": "code",
   "execution_count": 104,
   "id": "1929d489",
   "metadata": {},
   "outputs": [],
   "source": [
    "a = \"we all are a part of full stAck\""
   ]
  },
  {
   "cell_type": "code",
   "execution_count": 17,
   "id": "b737fbc3",
   "metadata": {},
   "outputs": [
    {
     "data": {
      "text/plain": [
       "'we all are a part of full stack'"
      ]
     },
     "execution_count": 17,
     "metadata": {},
     "output_type": "execute_result"
    }
   ],
   "source": [
    "a.lower()"
   ]
  },
  {
   "cell_type": "code",
   "execution_count": 18,
   "id": "166bc2b6",
   "metadata": {},
   "outputs": [
    {
     "data": {
      "text/plain": [
       "'we ineuronll ineuronre ineuron pineuronrt of full stineuronck'"
      ]
     },
     "execution_count": 18,
     "metadata": {},
     "output_type": "execute_result"
    }
   ],
   "source": [
    "a.replace(\"a\", \"ineuron\")"
   ]
  },
  {
   "cell_type": "code",
   "execution_count": 19,
   "id": "b5777b47",
   "metadata": {},
   "outputs": [
    {
     "data": {
      "text/plain": [
       "'we all are a part of full stack'"
      ]
     },
     "execution_count": 19,
     "metadata": {},
     "output_type": "execute_result"
    }
   ],
   "source": [
    "a"
   ]
  },
  {
   "cell_type": "code",
   "execution_count": 20,
   "id": "27c251fd",
   "metadata": {},
   "outputs": [
    {
     "name": "stdout",
     "output_type": "stream",
     "text": [
      "w\n",
      "e\n",
      " \n",
      "a\n",
      "l\n",
      "l\n",
      " \n",
      "a\n",
      "r\n",
      "e\n",
      " \n",
      "a\n",
      " \n",
      "p\n",
      "a\n",
      "r\n",
      "t\n",
      " \n",
      "o\n",
      "f\n",
      " \n",
      "f\n",
      "u\n",
      "l\n",
      "l\n",
      " \n",
      "s\n",
      "t\n",
      "a\n",
      "c\n",
      "k\n"
     ]
    }
   ],
   "source": [
    "for i in a:\n",
    "    print(i)"
   ]
  },
  {
   "cell_type": "code",
   "execution_count": 21,
   "id": "bc86ff5c",
   "metadata": {},
   "outputs": [],
   "source": [
    "s=\"   ankur   \""
   ]
  },
  {
   "cell_type": "code",
   "execution_count": 22,
   "id": "84ee0d9f",
   "metadata": {},
   "outputs": [
    {
     "data": {
      "text/plain": [
       "'ankur'"
      ]
     },
     "execution_count": 22,
     "metadata": {},
     "output_type": "execute_result"
    }
   ],
   "source": [
    "s.strip()"
   ]
  },
  {
   "cell_type": "code",
   "execution_count": 23,
   "id": "9e648bc0",
   "metadata": {},
   "outputs": [
    {
     "data": {
      "text/plain": [
       "'ankur   '"
      ]
     },
     "execution_count": 23,
     "metadata": {},
     "output_type": "execute_result"
    }
   ],
   "source": [
    "s.lstrip()"
   ]
  },
  {
   "cell_type": "code",
   "execution_count": 24,
   "id": "b8734962",
   "metadata": {},
   "outputs": [
    {
     "data": {
      "text/plain": [
       "'   ankur'"
      ]
     },
     "execution_count": 24,
     "metadata": {},
     "output_type": "execute_result"
    }
   ],
   "source": [
    "s.rstrip()"
   ]
  },
  {
   "cell_type": "code",
   "execution_count": 25,
   "id": "cfb4619b",
   "metadata": {},
   "outputs": [
    {
     "data": {
      "text/plain": [
       "'we all are a part of full stack'"
      ]
     },
     "execution_count": 25,
     "metadata": {},
     "output_type": "execute_result"
    }
   ],
   "source": [
    "a"
   ]
  },
  {
   "cell_type": "code",
   "execution_count": 26,
   "id": "7ae8f50e",
   "metadata": {},
   "outputs": [
    {
     "data": {
      "text/plain": [
       "3"
      ]
     },
     "execution_count": 26,
     "metadata": {},
     "output_type": "execute_result"
    }
   ],
   "source": [
    "a.find(\"a\")"
   ]
  },
  {
   "cell_type": "code",
   "execution_count": 27,
   "id": "05820029",
   "metadata": {},
   "outputs": [
    {
     "name": "stdout",
     "output_type": "stream",
     "text": [
      "-1\n",
      "0\n",
      "1\n",
      "2\n"
     ]
    }
   ],
   "source": [
    "b = s.find(\"name\")\n",
    "for i in range(len(\"name\")):\n",
    "    print(b+i)"
   ]
  },
  {
   "cell_type": "code",
   "execution_count": 34,
   "id": "2ef1c2e6",
   "metadata": {},
   "outputs": [
    {
     "data": {
      "text/plain": [
       "5"
      ]
     },
     "execution_count": 34,
     "metadata": {},
     "output_type": "execute_result"
    }
   ],
   "source": [
    "a.count(\"a\")"
   ]
  },
  {
   "cell_type": "code",
   "execution_count": 31,
   "id": "6ac1f655",
   "metadata": {},
   "outputs": [
    {
     "data": {
      "text/plain": [
       "'   ankur   '"
      ]
     },
     "execution_count": 31,
     "metadata": {},
     "output_type": "execute_result"
    }
   ],
   "source": [
    "s"
   ]
  },
  {
   "cell_type": "code",
   "execution_count": 32,
   "id": "788f397a",
   "metadata": {},
   "outputs": [
    {
     "data": {
      "text/plain": [
       "'   ankur   '"
      ]
     },
     "execution_count": 32,
     "metadata": {},
     "output_type": "execute_result"
    }
   ],
   "source": [
    "s"
   ]
  },
  {
   "cell_type": "code",
   "execution_count": 33,
   "id": "19ce8115",
   "metadata": {},
   "outputs": [
    {
     "data": {
      "text/plain": [
       "'we all are a part of full stack'"
      ]
     },
     "execution_count": 33,
     "metadata": {},
     "output_type": "execute_result"
    }
   ],
   "source": [
    "a"
   ]
  },
  {
   "cell_type": "code",
   "execution_count": 35,
   "id": "58834922",
   "metadata": {},
   "outputs": [
    {
     "data": {
      "text/plain": [
       "1"
      ]
     },
     "execution_count": 35,
     "metadata": {},
     "output_type": "execute_result"
    }
   ],
   "source": [
    "s.count(\"a\")"
   ]
  },
  {
   "cell_type": "code",
   "execution_count": 37,
   "id": "330fb027",
   "metadata": {},
   "outputs": [
    {
     "data": {
      "text/plain": [
       "4"
      ]
     },
     "execution_count": 37,
     "metadata": {},
     "output_type": "execute_result"
    }
   ],
   "source": [
    "a.count(\"a\")"
   ]
  },
  {
   "cell_type": "code",
   "execution_count": 38,
   "id": "7f75b0f7",
   "metadata": {},
   "outputs": [
    {
     "data": {
      "text/plain": [
       "'we all are a part of full stAck'"
      ]
     },
     "execution_count": 38,
     "metadata": {},
     "output_type": "execute_result"
    }
   ],
   "source": [
    "a"
   ]
  },
  {
   "cell_type": "code",
   "execution_count": 40,
   "id": "8066c796",
   "metadata": {},
   "outputs": [
    {
     "data": {
      "text/plain": [
       "['we', 'all', 'are', 'a', 'part', 'of', 'full', 'stAck']"
      ]
     },
     "execution_count": 40,
     "metadata": {},
     "output_type": "execute_result"
    }
   ],
   "source": [
    "a.split()"
   ]
  },
  {
   "cell_type": "code",
   "execution_count": 41,
   "id": "21d2a9e3",
   "metadata": {},
   "outputs": [
    {
     "data": {
      "text/plain": [
       "['we all are a part of full stAck']"
      ]
     },
     "execution_count": 41,
     "metadata": {},
     "output_type": "execute_result"
    }
   ],
   "source": [
    "a.split(\",\")"
   ]
  },
  {
   "cell_type": "code",
   "execution_count": 51,
   "id": "293e2dd7",
   "metadata": {},
   "outputs": [],
   "source": [
    "s = \"my Name is ankur kumar, name of orig ineuron\""
   ]
  },
  {
   "cell_type": "code",
   "execution_count": 52,
   "id": "a105d3fb",
   "metadata": {},
   "outputs": [
    {
     "data": {
      "text/plain": [
       "['my', 'Name', 'is', 'ankur', 'kumar,', 'name', 'of', 'orig', 'ineuron']"
      ]
     },
     "execution_count": 52,
     "metadata": {},
     "output_type": "execute_result"
    }
   ],
   "source": [
    "s.split()"
   ]
  },
  {
   "cell_type": "code",
   "execution_count": 53,
   "id": "d7cbc25f",
   "metadata": {},
   "outputs": [
    {
     "data": {
      "text/plain": [
       "['my Name is ankur kumar', ' name of orig ineuron']"
      ]
     },
     "execution_count": 53,
     "metadata": {},
     "output_type": "execute_result"
    }
   ],
   "source": [
    "s.split(\",\")"
   ]
  },
  {
   "cell_type": "code",
   "execution_count": 54,
   "id": "9526f8a6",
   "metadata": {},
   "outputs": [
    {
     "data": {
      "text/plain": [
       "['my Name is ankur kumar, ', 'me of orig ineuron']"
      ]
     },
     "execution_count": 54,
     "metadata": {},
     "output_type": "execute_result"
    }
   ],
   "source": [
    "s.split(\"na\")"
   ]
  },
  {
   "cell_type": "code",
   "execution_count": 55,
   "id": "5f2269e5",
   "metadata": {},
   "outputs": [
    {
     "data": {
      "text/plain": [
       "list"
      ]
     },
     "execution_count": 55,
     "metadata": {},
     "output_type": "execute_result"
    }
   ],
   "source": [
    "type(s.split())"
   ]
  },
  {
   "cell_type": "code",
   "execution_count": 56,
   "id": "c2de41f5",
   "metadata": {},
   "outputs": [
    {
     "data": {
      "text/plain": [
       "'MY NAME IS ANKUR KUMAR, NAME OF ORIG INEURON'"
      ]
     },
     "execution_count": 56,
     "metadata": {},
     "output_type": "execute_result"
    }
   ],
   "source": [
    "s.upper()"
   ]
  },
  {
   "cell_type": "code",
   "execution_count": 57,
   "id": "745a891b",
   "metadata": {},
   "outputs": [
    {
     "data": {
      "text/plain": [
       "'MY nAME IS ANKUR KUMAR, NAME OF ORIG INEURON'"
      ]
     },
     "execution_count": 57,
     "metadata": {},
     "output_type": "execute_result"
    }
   ],
   "source": [
    "s.swapcase()"
   ]
  },
  {
   "cell_type": "code",
   "execution_count": 58,
   "id": "47a468ea",
   "metadata": {},
   "outputs": [
    {
     "data": {
      "text/plain": [
       "'My name is ankur kumar, name of orig ineuron'"
      ]
     },
     "execution_count": 58,
     "metadata": {},
     "output_type": "execute_result"
    }
   ],
   "source": [
    "s.capitalize()"
   ]
  },
  {
   "cell_type": "code",
   "execution_count": 59,
   "id": "23b112a7",
   "metadata": {},
   "outputs": [
    {
     "data": {
      "text/plain": [
       "'MY nAME IS ANKUR KUMAR, NAME OF ORIG INEURON'"
      ]
     },
     "execution_count": 59,
     "metadata": {},
     "output_type": "execute_result"
    }
   ],
   "source": [
    "s.swapcase()"
   ]
  },
  {
   "cell_type": "code",
   "execution_count": 60,
   "id": "63442ddf",
   "metadata": {},
   "outputs": [
    {
     "data": {
      "text/plain": [
       "'m y   N a m e   i s   a n k u r   k u m a r ,   n a m e   o f   o r i g   i n e u r o n'"
      ]
     },
     "execution_count": 60,
     "metadata": {},
     "output_type": "execute_result"
    }
   ],
   "source": [
    "\" \". join(s)"
   ]
  },
  {
   "cell_type": "code",
   "execution_count": 61,
   "id": "d10be0a1",
   "metadata": {},
   "outputs": [
    {
     "data": {
      "text/plain": [
       "'my Name is ankur kumar, name of orig ineuron'"
      ]
     },
     "execution_count": 61,
     "metadata": {},
     "output_type": "execute_result"
    }
   ],
   "source": [
    "s"
   ]
  },
  {
   "cell_type": "code",
   "execution_count": 65,
   "id": "604e25c9",
   "metadata": {},
   "outputs": [
    {
     "name": "stdout",
     "output_type": "stream",
     "text": [
      "n\n",
      "o\n",
      "r\n",
      "u\n",
      "e\n",
      "n\n",
      "i\n",
      " \n",
      "g\n",
      "i\n",
      "r\n",
      "o\n",
      " \n",
      "f\n",
      "o\n",
      " \n",
      "e\n",
      "m\n",
      "a\n",
      "n\n",
      " \n",
      ",\n",
      "r\n",
      "a\n",
      "m\n",
      "u\n",
      "k\n",
      " \n",
      "r\n",
      "u\n",
      "k\n",
      "n\n",
      "a\n",
      " \n",
      "s\n",
      "i\n",
      " \n",
      "e\n",
      "m\n",
      "a\n",
      "N\n",
      " \n",
      "y\n",
      "m\n"
     ]
    }
   ],
   "source": [
    "for i in reversed(s):\n",
    "    print(i)"
   ]
  },
  {
   "cell_type": "code",
   "execution_count": 79,
   "id": "a61bc06a",
   "metadata": {},
   "outputs": [],
   "source": [
    "s = \"ankur\""
   ]
  },
  {
   "cell_type": "code",
   "execution_count": 80,
   "id": "ea841af6",
   "metadata": {},
   "outputs": [
    {
     "data": {
      "text/plain": [
       "'aaaaaaaankuraaaaaaaa'"
      ]
     },
     "execution_count": 80,
     "metadata": {},
     "output_type": "execute_result"
    }
   ],
   "source": [
    "s.center(20, 'a')"
   ]
  },
  {
   "cell_type": "code",
   "execution_count": 112,
   "id": "a3773df7",
   "metadata": {},
   "outputs": [],
   "source": [
    "a = \"we all are a part of full stack\""
   ]
  },
  {
   "cell_type": "code",
   "execution_count": 113,
   "id": "3faf5c61",
   "metadata": {},
   "outputs": [
    {
     "data": {
      "text/plain": [
       "'we all are a part of full stack'"
      ]
     },
     "execution_count": 113,
     "metadata": {},
     "output_type": "execute_result"
    }
   ],
   "source": [
    "a.lower()"
   ]
  },
  {
   "cell_type": "code",
   "execution_count": null,
   "id": "824cb453",
   "metadata": {},
   "outputs": [],
   "source": []
  },
  {
   "cell_type": "code",
   "execution_count": 115,
   "id": "3125130f",
   "metadata": {},
   "outputs": [
    {
     "name": "stdout",
     "output_type": "stream",
     "text": [
      "5\n"
     ]
    }
   ],
   "source": [
    "a1 = a.count('a')\n",
    "print(a1)"
   ]
  },
  {
   "cell_type": "code",
   "execution_count": 121,
   "id": "b593fcc5",
   "metadata": {},
   "outputs": [
    {
     "name": "stdout",
     "output_type": "stream",
     "text": [
      "3\n",
      "7\n",
      "11\n",
      "14\n",
      "28\n"
     ]
    }
   ],
   "source": [
    "for i in range(len(a)):\n",
    "    if a[i]==\"a\":\n",
    "        print(i)"
   ]
  },
  {
   "cell_type": "code",
   "execution_count": 103,
   "id": "f874f20e",
   "metadata": {},
   "outputs": [
    {
     "data": {
      "text/plain": [
       "30"
      ]
     },
     "execution_count": 103,
     "metadata": {},
     "output_type": "execute_result"
    }
   ],
   "source": [
    "a"
   ]
  },
  {
   "cell_type": "code",
   "execution_count": 123,
   "id": "7529bb02",
   "metadata": {},
   "outputs": [
    {
     "name": "stdout",
     "output_type": "stream",
     "text": [
      "we iNeuronll iNeuronre iNeuron piNeuronrt of full stiNeuronck\n"
     ]
    }
   ],
   "source": [
    "a3 = a.replace('a' , 'iNeuron')\n",
    "print(a3)"
   ]
  },
  {
   "cell_type": "code",
   "execution_count": 125,
   "id": "cd8032ec",
   "metadata": {},
   "outputs": [
    {
     "name": "stdout",
     "output_type": "stream",
     "text": [
      "['we', 'all', 'are', 'a', 'part', 'of', 'full', 'stack']\n"
     ]
    }
   ],
   "source": [
    "a4 = a.split(\" \")\n",
    "print(a4)"
   ]
  },
  {
   "cell_type": "code",
   "execution_count": 126,
   "id": "a1d709ca",
   "metadata": {},
   "outputs": [
    {
     "data": {
      "text/plain": [
       "list"
      ]
     },
     "execution_count": 126,
     "metadata": {},
     "output_type": "execute_result"
    }
   ],
   "source": [
    "type(a.split())"
   ]
  },
  {
   "cell_type": "code",
   "execution_count": 177,
   "id": "aecd7cc7",
   "metadata": {},
   "outputs": [],
   "source": [
    "s = \"ankur\"\n",
    "s = s.upper()"
   ]
  },
  {
   "cell_type": "code",
   "execution_count": 178,
   "id": "d9a641e5",
   "metadata": {},
   "outputs": [
    {
     "data": {
      "text/plain": [
       "True"
      ]
     },
     "execution_count": 178,
     "metadata": {},
     "output_type": "execute_result"
    }
   ],
   "source": [
    "s.isupper()"
   ]
  },
  {
   "cell_type": "code",
   "execution_count": 179,
   "id": "3c5980ec",
   "metadata": {},
   "outputs": [
    {
     "data": {
      "text/plain": [
       "False"
      ]
     },
     "execution_count": 179,
     "metadata": {},
     "output_type": "execute_result"
    }
   ],
   "source": [
    "s.islower()"
   ]
  },
  {
   "cell_type": "code",
   "execution_count": 180,
   "id": "af261e75",
   "metadata": {},
   "outputs": [],
   "source": [
    "s = s.lower()"
   ]
  },
  {
   "cell_type": "code",
   "execution_count": 181,
   "id": "8092214b",
   "metadata": {},
   "outputs": [
    {
     "data": {
      "text/plain": [
       "True"
      ]
     },
     "execution_count": 181,
     "metadata": {},
     "output_type": "execute_result"
    }
   ],
   "source": [
    "s.islower()"
   ]
  },
  {
   "cell_type": "code",
   "execution_count": 182,
   "id": "30b8202e",
   "metadata": {},
   "outputs": [
    {
     "data": {
      "text/plain": [
       "False"
      ]
     },
     "execution_count": 182,
     "metadata": {},
     "output_type": "execute_result"
    }
   ],
   "source": [
    "s.isspace()"
   ]
  },
  {
   "cell_type": "code",
   "execution_count": 183,
   "id": "c700f58d",
   "metadata": {},
   "outputs": [],
   "source": [
    "s = \"Ankur\""
   ]
  },
  {
   "cell_type": "code",
   "execution_count": 184,
   "id": "e8fd772a",
   "metadata": {},
   "outputs": [
    {
     "data": {
      "text/plain": [
       "False"
      ]
     },
     "execution_count": 184,
     "metadata": {},
     "output_type": "execute_result"
    }
   ],
   "source": [
    "s.isspace()"
   ]
  },
  {
   "cell_type": "code",
   "execution_count": 185,
   "id": "b4c71e43",
   "metadata": {},
   "outputs": [
    {
     "data": {
      "text/plain": [
       "False"
      ]
     },
     "execution_count": 185,
     "metadata": {},
     "output_type": "execute_result"
    }
   ],
   "source": [
    "s.isdigit()"
   ]
  },
  {
   "cell_type": "code",
   "execution_count": 186,
   "id": "2577ce8e",
   "metadata": {},
   "outputs": [
    {
     "data": {
      "text/plain": [
       "True"
      ]
     },
     "execution_count": 186,
     "metadata": {},
     "output_type": "execute_result"
    }
   ],
   "source": [
    "s.endswith('r')"
   ]
  },
  {
   "cell_type": "code",
   "execution_count": 187,
   "id": "7b1c0d45",
   "metadata": {},
   "outputs": [
    {
     "data": {
      "text/plain": [
       "False"
      ]
     },
     "execution_count": 187,
     "metadata": {},
     "output_type": "execute_result"
    }
   ],
   "source": [
    "s.startswith('a')"
   ]
  },
  {
   "cell_type": "code",
   "execution_count": 188,
   "id": "00d35473",
   "metadata": {},
   "outputs": [
    {
     "data": {
      "text/plain": [
       "True"
      ]
     },
     "execution_count": 188,
     "metadata": {},
     "output_type": "execute_result"
    }
   ],
   "source": [
    "s.isalpha()"
   ]
  },
  {
   "cell_type": "code",
   "execution_count": 189,
   "id": "33923cd8",
   "metadata": {},
   "outputs": [
    {
     "data": {
      "text/plain": [
       "True"
      ]
     },
     "execution_count": 189,
     "metadata": {},
     "output_type": "execute_result"
    }
   ],
   "source": [
    "s.isalnum()"
   ]
  },
  {
   "cell_type": "code",
   "execution_count": 191,
   "id": "84bf056d",
   "metadata": {},
   "outputs": [
    {
     "data": {
      "text/plain": [
       "True"
      ]
     },
     "execution_count": 191,
     "metadata": {},
     "output_type": "execute_result"
    }
   ],
   "source": [
    "s.istitle()"
   ]
  },
  {
   "cell_type": "code",
   "execution_count": 192,
   "id": "8bb440c0",
   "metadata": {},
   "outputs": [
    {
     "data": {
      "text/plain": [
       "True"
      ]
     },
     "execution_count": 192,
     "metadata": {},
     "output_type": "execute_result"
    }
   ],
   "source": [
    "s.isprintable()"
   ]
  },
  {
   "cell_type": "code",
   "execution_count": 193,
   "id": "6c64a62b",
   "metadata": {},
   "outputs": [],
   "source": [
    "s = \"this is a full stack batch\""
   ]
  },
  {
   "cell_type": "code",
   "execution_count": 195,
   "id": "b0b20433",
   "metadata": {},
   "outputs": [
    {
     "name": "stdout",
     "output_type": "stream",
     "text": [
      "26\n"
     ]
    }
   ],
   "source": [
    "count = 0\n",
    "for i in s:\n",
    "    count = count+1\n",
    "print(count)"
   ]
  },
  {
   "cell_type": "code",
   "execution_count": 199,
   "id": "ec3694e0",
   "metadata": {},
   "outputs": [
    {
     "name": "stdout",
     "output_type": "stream",
     "text": [
      "t\n",
      "h\n",
      "c\n",
      "t\n",
      "a\n",
      "b\n",
      " \n",
      "k\n",
      "c\n",
      "a\n",
      "t\n",
      "s\n",
      " \n",
      "l\n",
      "l\n",
      "u\n",
      "f\n",
      " \n",
      "a\n",
      " \n",
      "s\n",
      "i\n",
      " \n",
      "s\n",
      "i\n",
      "h\n"
     ]
    }
   ],
   "source": [
    "for i in range(len(s)):\n",
    "    print(s[-i])"
   ]
  },
  {
   "cell_type": "code",
   "execution_count": 200,
   "id": "0de676ef",
   "metadata": {},
   "outputs": [
    {
     "name": "stdout",
     "output_type": "stream",
     "text": [
      "h\n",
      "d\n",
      "u\n",
      "s\n"
     ]
    }
   ],
   "source": [
    "s = \"sudh\"\n",
    "ch = len(s) -1\n",
    "while ch >= 0:\n",
    "    print(s[ch])\n",
    "    ch = ch-1"
   ]
  },
  {
   "cell_type": "code",
   "execution_count": 201,
   "id": "18b237ed",
   "metadata": {},
   "outputs": [
    {
     "data": {
      "text/plain": [
       "4"
      ]
     },
     "execution_count": 201,
     "metadata": {},
     "output_type": "execute_result"
    }
   ],
   "source": [
    "len(s)"
   ]
  },
  {
   "cell_type": "code",
   "execution_count": 203,
   "id": "bc92adcd",
   "metadata": {},
   "outputs": [
    {
     "name": "stdout",
     "output_type": "stream",
     "text": [
      "i is a vowel\n",
      "n is not vowel\n",
      "e is a vowel\n",
      "u is a vowel\n",
      "r is not vowel\n",
      "o is a vowel\n",
      "n is not vowel\n"
     ]
    }
   ],
   "source": [
    "name = \"ineuron\"\n",
    "vowels = \"AaEeIiOoUu\"\n",
    "\n",
    "for i in name:\n",
    "    if i in vowels:\n",
    "        print(\"{} is a vowel\".format(i))\n",
    "    else:\n",
    "        print(\"{} is not vowel\".format(i))"
   ]
  },
  {
   "cell_type": "code",
   "execution_count": 204,
   "id": "c4da7ebf",
   "metadata": {},
   "outputs": [
    {
     "data": {
      "text/plain": [
       "'my name is ankur'"
      ]
     },
     "execution_count": 204,
     "metadata": {},
     "output_type": "execute_result"
    }
   ],
   "source": [
    "\"{} name is ankur\".format(\"my\")"
   ]
  },
  {
   "cell_type": "code",
   "execution_count": 205,
   "id": "c66ad424",
   "metadata": {},
   "outputs": [
    {
     "data": {
      "text/plain": [
       "'my name is'"
      ]
     },
     "execution_count": 205,
     "metadata": {},
     "output_type": "execute_result"
    }
   ],
   "source": [
    "\"{} name {}\".format(\"my\",\"is\")"
   ]
  },
  {
   "cell_type": "code",
   "execution_count": 206,
   "id": "1bb6d2ff",
   "metadata": {},
   "outputs": [
    {
     "name": "stdout",
     "output_type": "stream",
     "text": [
      "my\n",
      "ankur\n"
     ]
    },
    {
     "data": {
      "text/plain": [
       "'my name is ankur'"
      ]
     },
     "execution_count": 206,
     "metadata": {},
     "output_type": "execute_result"
    }
   ],
   "source": [
    "a = input()\n",
    "b = input()\n",
    "\"{} name is {}\".format(a,b)"
   ]
  },
  {
   "cell_type": "code",
   "execution_count": 1,
   "id": "c657bad1",
   "metadata": {},
   "outputs": [],
   "source": [
    "#palindrome\n",
    "a = 'xyx'\n",
    "b = 'eye'\n",
    "c = 'nitin'"
   ]
  },
  {
   "cell_type": "code",
   "execution_count": 14,
   "id": "d2b59eab",
   "metadata": {},
   "outputs": [
    {
     "name": "stdout",
     "output_type": "stream",
     "text": [
      "Enter a data for which you would like to check palindrom ntish\n",
      "Not a same\n"
     ]
    }
   ],
   "source": [
    "s = input(\"Enter a data for which you would like to check palindrom \")\n",
    "s = s.lower()\n",
    "s1 = s[::-1]\n",
    "if s == s1:\n",
    "    print(\"its same\")\n",
    "\n",
    "else:\n",
    "    print(\"Not a same\")"
   ]
  },
  {
   "cell_type": "code",
   "execution_count": null,
   "id": "c08f31ba",
   "metadata": {},
   "outputs": [],
   "source": []
  }
 ],
 "metadata": {
  "kernelspec": {
   "display_name": "Python 3 (ipykernel)",
   "language": "python",
   "name": "python3"
  },
  "language_info": {
   "codemirror_mode": {
    "name": "ipython",
    "version": 3
   },
   "file_extension": ".py",
   "mimetype": "text/x-python",
   "name": "python",
   "nbconvert_exporter": "python",
   "pygments_lexer": "ipython3",
   "version": "3.9.12"
  }
 },
 "nbformat": 4,
 "nbformat_minor": 5
}
