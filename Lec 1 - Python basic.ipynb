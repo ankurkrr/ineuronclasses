{
 "cells": [
  {
   "cell_type": "code",
   "execution_count": 1,
   "id": "48ec1631",
   "metadata": {},
   "outputs": [
    {
     "data": {
      "text/plain": [
       "2"
      ]
     },
     "execution_count": 1,
     "metadata": {},
     "output_type": "execute_result"
    }
   ],
   "source": [
    "1+1"
   ]
  },
  {
   "cell_type": "code",
   "execution_count": 2,
   "id": "04ab7df7",
   "metadata": {},
   "outputs": [],
   "source": [
    "a = \"hello\""
   ]
  },
  {
   "cell_type": "code",
   "execution_count": 3,
   "id": "49fad9aa",
   "metadata": {},
   "outputs": [
    {
     "data": {
      "text/plain": [
       "str"
      ]
     },
     "execution_count": 3,
     "metadata": {},
     "output_type": "execute_result"
    }
   ],
   "source": [
    "type(a)"
   ]
  },
  {
   "cell_type": "code",
   "execution_count": 4,
   "id": "cca9d59e",
   "metadata": {},
   "outputs": [
    {
     "data": {
      "text/plain": [
       "'hello'"
      ]
     },
     "execution_count": 4,
     "metadata": {},
     "output_type": "execute_result"
    }
   ],
   "source": [
    "a"
   ]
  },
  {
   "cell_type": "code",
   "execution_count": 5,
   "id": "e083a767",
   "metadata": {},
   "outputs": [
    {
     "data": {
      "text/plain": [
       "int"
      ]
     },
     "execution_count": 5,
     "metadata": {},
     "output_type": "execute_result"
    }
   ],
   "source": [
    "a=3\n",
    "type(a)"
   ]
  },
  {
   "cell_type": "code",
   "execution_count": 6,
   "id": "4317b035",
   "metadata": {},
   "outputs": [
    {
     "data": {
      "text/plain": [
       "bool"
      ]
     },
     "execution_count": 6,
     "metadata": {},
     "output_type": "execute_result"
    }
   ],
   "source": [
    "a = True\n",
    "type(a)"
   ]
  },
  {
   "cell_type": "code",
   "execution_count": 1,
   "id": "0703f2b1",
   "metadata": {},
   "outputs": [],
   "source": [
    "a, b = 21, \"hey\""
   ]
  },
  {
   "cell_type": "code",
   "execution_count": 2,
   "id": "6abab400",
   "metadata": {},
   "outputs": [
    {
     "data": {
      "text/plain": [
       "21"
      ]
     },
     "execution_count": 2,
     "metadata": {},
     "output_type": "execute_result"
    }
   ],
   "source": [
    "a"
   ]
  },
  {
   "cell_type": "code",
   "execution_count": 3,
   "id": "62693b87",
   "metadata": {},
   "outputs": [
    {
     "data": {
      "text/plain": [
       "'hey'"
      ]
     },
     "execution_count": 3,
     "metadata": {},
     "output_type": "execute_result"
    }
   ],
   "source": [
    "b"
   ]
  },
  {
   "cell_type": "code",
   "execution_count": 4,
   "id": "8143f5bd",
   "metadata": {},
   "outputs": [
    {
     "data": {
      "text/plain": [
       "int"
      ]
     },
     "execution_count": 4,
     "metadata": {},
     "output_type": "execute_result"
    }
   ],
   "source": [
    "type(a)"
   ]
  },
  {
   "cell_type": "code",
   "execution_count": 5,
   "id": "4baec2ee",
   "metadata": {},
   "outputs": [
    {
     "data": {
      "text/plain": [
       "str"
      ]
     },
     "execution_count": 5,
     "metadata": {},
     "output_type": "execute_result"
    }
   ],
   "source": [
    "type(b)"
   ]
  },
  {
   "cell_type": "code",
   "execution_count": 6,
   "id": "af5c5387",
   "metadata": {},
   "outputs": [
    {
     "name": "stdout",
     "output_type": "stream",
     "text": [
      "21 hey\n"
     ]
    }
   ],
   "source": [
    "print(a,b)"
   ]
  },
  {
   "cell_type": "code",
   "execution_count": 7,
   "id": "0dd082a9",
   "metadata": {},
   "outputs": [
    {
     "data": {
      "text/plain": [
       "(21, 'hey')"
      ]
     },
     "execution_count": 7,
     "metadata": {},
     "output_type": "execute_result"
    }
   ],
   "source": [
    "a,b"
   ]
  },
  {
   "cell_type": "code",
   "execution_count": 11,
   "id": "3858cddc",
   "metadata": {},
   "outputs": [
    {
     "data": {
      "text/plain": [
       "21"
      ]
     },
     "execution_count": 11,
     "metadata": {},
     "output_type": "execute_result"
    }
   ],
   "source": [
    "a"
   ]
  },
  {
   "cell_type": "code",
   "execution_count": 13,
   "id": "e47831d0",
   "metadata": {},
   "outputs": [
    {
     "name": "stdout",
     "output_type": "stream",
     "text": [
      "hey\n"
     ]
    }
   ],
   "source": [
    "print(b)"
   ]
  },
  {
   "cell_type": "code",
   "execution_count": 14,
   "id": "52030771",
   "metadata": {},
   "outputs": [],
   "source": [
    "_n=1234"
   ]
  },
  {
   "cell_type": "code",
   "execution_count": 15,
   "id": "ba19c846",
   "metadata": {},
   "outputs": [
    {
     "data": {
      "text/plain": [
       "1234"
      ]
     },
     "execution_count": 15,
     "metadata": {},
     "output_type": "execute_result"
    }
   ],
   "source": [
    "_n"
   ]
  },
  {
   "cell_type": "code",
   "execution_count": 1,
   "id": "d414565b",
   "metadata": {},
   "outputs": [],
   "source": [
    "a = True"
   ]
  },
  {
   "cell_type": "code",
   "execution_count": 5,
   "id": "f49d173f",
   "metadata": {},
   "outputs": [
    {
     "data": {
      "text/plain": [
       "0"
      ]
     },
     "execution_count": 5,
     "metadata": {},
     "output_type": "execute_result"
    }
   ],
   "source": [
    "False - True + True"
   ]
  },
  {
   "cell_type": "code",
   "execution_count": 22,
   "id": "0a4f7a0a",
   "metadata": {},
   "outputs": [
    {
     "data": {
      "text/plain": [
       "True"
      ]
     },
     "execution_count": 22,
     "metadata": {},
     "output_type": "execute_result"
    }
   ],
   "source": [
    "a"
   ]
  },
  {
   "cell_type": "code",
   "execution_count": 7,
   "id": "5e9e7a23",
   "metadata": {},
   "outputs": [
    {
     "data": {
      "text/plain": [
       "1.0"
      ]
     },
     "execution_count": 7,
     "metadata": {},
     "output_type": "execute_result"
    }
   ],
   "source": [
    "True/True"
   ]
  },
  {
   "cell_type": "code",
   "execution_count": 32,
   "id": "3a698976",
   "metadata": {},
   "outputs": [],
   "source": [
    "h= 4+ 3j\n",
    "i= 2+6j"
   ]
  },
  {
   "cell_type": "code",
   "execution_count": 35,
   "id": "8836e372",
   "metadata": {},
   "outputs": [
    {
     "data": {
      "text/plain": [
       "(-10+30j)"
      ]
     },
     "execution_count": 35,
     "metadata": {},
     "output_type": "execute_result"
    }
   ],
   "source": [
    "#(a+ib)(c+id)= (ac - bd)+i(ad+bc)\n",
    "h*i"
   ]
  },
  {
   "cell_type": "code",
   "execution_count": 39,
   "id": "c500f5bc",
   "metadata": {},
   "outputs": [
    {
     "data": {
      "text/plain": [
       "'ankurankurankurankurankurankurankurankurankurankur'"
      ]
     },
     "execution_count": 39,
     "metadata": {},
     "output_type": "execute_result"
    }
   ],
   "source": [
    "\"ankur\" * 10"
   ]
  },
  {
   "cell_type": "code",
   "execution_count": 40,
   "id": "6384c205",
   "metadata": {},
   "outputs": [
    {
     "name": "stdout",
     "output_type": "stream",
     "text": [
      "226\n"
     ]
    }
   ],
   "source": [
    "a = input()"
   ]
  },
  {
   "cell_type": "code",
   "execution_count": 41,
   "id": "9d123f2b",
   "metadata": {},
   "outputs": [
    {
     "data": {
      "text/plain": [
       "'226'"
      ]
     },
     "execution_count": 41,
     "metadata": {},
     "output_type": "execute_result"
    }
   ],
   "source": [
    "a"
   ]
  },
  {
   "cell_type": "code",
   "execution_count": 2,
   "id": "6bc23b65",
   "metadata": {},
   "outputs": [
    {
     "name": "stdout",
     "output_type": "stream",
     "text": [
      "enter a enteger653255\n"
     ]
    }
   ],
   "source": [
    "a= input(\"enter a enteger\")"
   ]
  },
  {
   "cell_type": "code",
   "execution_count": 3,
   "id": "291acf26",
   "metadata": {},
   "outputs": [
    {
     "data": {
      "text/plain": [
       "str"
      ]
     },
     "execution_count": 3,
     "metadata": {},
     "output_type": "execute_result"
    }
   ],
   "source": [
    "type(a)"
   ]
  },
  {
   "cell_type": "code",
   "execution_count": 5,
   "id": "61ac92ec",
   "metadata": {},
   "outputs": [
    {
     "name": "stdout",
     "output_type": "stream",
     "text": [
      "Enter integer a 45\n",
      "Enter Integer b 45\n",
      "Enter Integer c 45\n",
      "135\n"
     ]
    }
   ],
   "source": [
    "a = int(input (\"Enter integer a \"))\n",
    "b = int(input (\"Enter Integer b \"))\n",
    "c = int(input (\"Enter Integer c \"))\n",
    "print(a+b+c)"
   ]
  },
  {
   "cell_type": "code",
   "execution_count": 6,
   "id": "46a3282d",
   "metadata": {},
   "outputs": [
    {
     "data": {
      "text/plain": [
       "2025"
      ]
     },
     "execution_count": 6,
     "metadata": {},
     "output_type": "execute_result"
    }
   ],
   "source": [
    "(a*b)"
   ]
  },
  {
   "cell_type": "code",
   "execution_count": 7,
   "id": "4aca653b",
   "metadata": {},
   "outputs": [
    {
     "name": "stdout",
     "output_type": "stream",
     "text": [
      "enter a 4\n",
      "enter b 5\n",
      "enter c 6\n",
      "15\n"
     ]
    },
    {
     "data": {
      "text/plain": [
       "(25+5j)"
      ]
     },
     "execution_count": 7,
     "metadata": {},
     "output_type": "execute_result"
    }
   ],
   "source": [
    "a = int(input(\"enter a \"))\n",
    "b = int(input(\"enter b \"))\n",
    "c = int(input(\"enter c \"))\n",
    "d = a+b+c\n",
    "print (d)\n",
    "d + 10+5j"
   ]
  },
  {
   "cell_type": "code",
   "execution_count": 8,
   "id": "d30d7376",
   "metadata": {},
   "outputs": [],
   "source": [
    "o = d+57+9j"
   ]
  },
  {
   "cell_type": "code",
   "execution_count": 9,
   "id": "8a108424",
   "metadata": {},
   "outputs": [
    {
     "data": {
      "text/plain": [
       "(72+9j)"
      ]
     },
     "execution_count": 9,
     "metadata": {},
     "output_type": "execute_result"
    }
   ],
   "source": [
    "o"
   ]
  },
  {
   "cell_type": "code",
   "execution_count": 10,
   "id": "b1b863df",
   "metadata": {},
   "outputs": [
    {
     "ename": "TypeError",
     "evalue": "unsupported operand type(s) for +: 'complex' and 'str'",
     "output_type": "error",
     "traceback": [
      "\u001b[1;31m---------------------------------------------------------------------------\u001b[0m",
      "\u001b[1;31mTypeError\u001b[0m                                 Traceback (most recent call last)",
      "Input \u001b[1;32mIn [10]\u001b[0m, in \u001b[0;36m<cell line: 1>\u001b[1;34m()\u001b[0m\n\u001b[1;32m----> 1\u001b[0m \u001b[43mo\u001b[49m\u001b[43m \u001b[49m\u001b[38;5;241;43m+\u001b[39;49m\u001b[43m \u001b[49m\u001b[38;5;124;43m\"\u001b[39;49m\u001b[38;5;124;43mankur\u001b[39;49m\u001b[38;5;124;43m\"\u001b[39;49m\n",
      "\u001b[1;31mTypeError\u001b[0m: unsupported operand type(s) for +: 'complex' and 'str'"
     ]
    }
   ],
   "source": [
    "o + \"ankur\""
   ]
  },
  {
   "cell_type": "code",
   "execution_count": 11,
   "id": "a0c31db4",
   "metadata": {},
   "outputs": [
    {
     "data": {
      "text/plain": [
       "'(72+9j)ankur'"
      ]
     },
     "execution_count": 11,
     "metadata": {},
     "output_type": "execute_result"
    }
   ],
   "source": [
    "str(o)+\"ankur\""
   ]
  },
  {
   "cell_type": "code",
   "execution_count": 13,
   "id": "c6049b02",
   "metadata": {},
   "outputs": [
    {
     "name": "stdout",
     "output_type": "stream",
     "text": [
      "ankurx 45\n"
     ]
    }
   ],
   "source": [
    "a = int(float(input(\"ankurx \")))"
   ]
  },
  {
   "cell_type": "code",
   "execution_count": 14,
   "id": "dd92783d",
   "metadata": {},
   "outputs": [
    {
     "data": {
      "text/plain": [
       "45"
      ]
     },
     "execution_count": 14,
     "metadata": {},
     "output_type": "execute_result"
    }
   ],
   "source": [
    "a"
   ]
  },
  {
   "cell_type": "code",
   "execution_count": 19,
   "id": "9aee6b43",
   "metadata": {},
   "outputs": [
    {
     "name": "stdout",
     "output_type": "stream",
     "text": [
      "enter value a 105\n",
      "value is more Then 100\n"
     ]
    }
   ],
   "source": [
    "a = int(input(\"enter value a \"))\n",
    "if a<30:\n",
    "    print(\"data input is less then 30\")\n",
    "elif a<100:\n",
    "    print (\"data is less then 100\")\n",
    "else:\n",
    "    print(\"value is more Then 100\")"
   ]
  },
  {
   "cell_type": "code",
   "execution_count": null,
   "id": "0bb02182",
   "metadata": {},
   "outputs": [],
   "source": []
  },
  {
   "cell_type": "code",
   "execution_count": 26,
   "id": "72ea5b44",
   "metadata": {},
   "outputs": [
    {
     "name": "stdout",
     "output_type": "stream",
     "text": [
      "enter your salary9000\n",
      "My salary is good\n",
      "I can buy Nano car\n",
      "Go With It\n"
     ]
    }
   ],
   "source": [
    "salary = int(input(\"enter your salary\"))\n",
    "if salary>1000:\n",
    "    print (\"My salary is good\")\n",
    "    if salary > 5000:\n",
    "        print(\"I can buy Nano car\")\n",
    "        if True:\n",
    "            print(\"Go With It\")\n",
    "        elif salary < 10000:\n",
    "            print(\"Can go with Maruit\")\n",
    "        elif salary < 50000:\n",
    "            print(\" i can go with aveo\")\n",
    "        else:\n",
    "            print(\"i will rent a car\")\n",
    "elif salary>500:\n",
    "    print (\"I can buy a bike\")\n",
    "elif salary>100:\n",
    "    print(\"I will maintain my house\")\n",
    "else:\n",
    "    print(\"I will do Nothing\")\n"
   ]
  },
  {
   "cell_type": "code",
   "execution_count": null,
   "id": "8f47781e",
   "metadata": {},
   "outputs": [],
   "source": []
  }
 ],
 "metadata": {
  "kernelspec": {
   "display_name": "Python 3 (ipykernel)",
   "language": "python",
   "name": "python3"
  },
  "language_info": {
   "codemirror_mode": {
    "name": "ipython",
    "version": 3
   },
   "file_extension": ".py",
   "mimetype": "text/x-python",
   "name": "python",
   "nbconvert_exporter": "python",
   "pygments_lexer": "ipython3",
   "version": "3.9.12"
  }
 },
 "nbformat": 4,
 "nbformat_minor": 5
}
