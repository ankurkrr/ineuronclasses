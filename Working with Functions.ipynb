{
 "cells": [
  {
   "cell_type": "code",
   "execution_count": 4,
   "id": "7ad36053",
   "metadata": {},
   "outputs": [
    {
     "data": {
      "text/plain": [
       "30"
      ]
     },
     "execution_count": 4,
     "metadata": {},
     "output_type": "execute_result"
    }
   ],
   "source": [
    "a = 10\n",
    "b = 20\n",
    "a+b"
   ]
  },
  {
   "cell_type": "code",
   "execution_count": 19,
   "id": "7cf4715c",
   "metadata": {},
   "outputs": [],
   "source": [
    "def lund(x ,y):\n",
    "    print(x+y)"
   ]
  },
  {
   "cell_type": "code",
   "execution_count": 44,
   "id": "30edcac5",
   "metadata": {},
   "outputs": [
    {
     "name": "stdout",
     "output_type": "stream",
     "text": [
      "68\n"
     ]
    }
   ],
   "source": [
    "lund(23, 45)"
   ]
  },
  {
   "cell_type": "code",
   "execution_count": 43,
   "id": "b1e8c093",
   "metadata": {},
   "outputs": [],
   "source": [
    "b"
   ]
  },
  {
   "cell_type": "code",
   "execution_count": 23,
   "id": "9fc97500",
   "metadata": {},
   "outputs": [
    {
     "name": "stdout",
     "output_type": "stream",
     "text": [
      "93\n"
     ]
    }
   ],
   "source": [
    "lund(4,89)"
   ]
  },
  {
   "cell_type": "code",
   "execution_count": 24,
   "id": "4c145e2f",
   "metadata": {},
   "outputs": [],
   "source": [
    "def test1(b, e):\n",
    "    return b*e"
   ]
  },
  {
   "cell_type": "code",
   "execution_count": 34,
   "id": "777b2ee3",
   "metadata": {},
   "outputs": [],
   "source": [
    "a = test1(2,6)"
   ]
  },
  {
   "cell_type": "code",
   "execution_count": 47,
   "id": "6f06f2cd",
   "metadata": {},
   "outputs": [
    {
     "data": {
      "text/plain": [
       "int"
      ]
     },
     "execution_count": 47,
     "metadata": {},
     "output_type": "execute_result"
    }
   ],
   "source": [
    "type(a)"
   ]
  },
  {
   "cell_type": "code",
   "execution_count": 48,
   "id": "e0637ee3",
   "metadata": {},
   "outputs": [
    {
     "data": {
      "text/plain": [
       "12"
      ]
     },
     "execution_count": 48,
     "metadata": {},
     "output_type": "execute_result"
    }
   ],
   "source": [
    "a"
   ]
  },
  {
   "cell_type": "code",
   "execution_count": 49,
   "id": "e2811e62",
   "metadata": {},
   "outputs": [],
   "source": [
    "def test2(t,n,m):\n",
    "    return t+n*m"
   ]
  },
  {
   "cell_type": "code",
   "execution_count": 53,
   "id": "b9ca7647",
   "metadata": {},
   "outputs": [
    {
     "data": {
      "text/plain": [
       "10"
      ]
     },
     "execution_count": 53,
     "metadata": {},
     "output_type": "execute_result"
    }
   ],
   "source": [
    "test2(4, 6, 9)"
   ]
  },
  {
   "cell_type": "code",
   "execution_count": 2,
   "id": "9e6f95db",
   "metadata": {},
   "outputs": [],
   "source": [
    "def test3(n , m):\n",
    "    return n*10 , m*40, n*m"
   ]
  },
  {
   "cell_type": "code",
   "execution_count": 3,
   "id": "7bcca4fc",
   "metadata": {},
   "outputs": [
    {
     "data": {
      "text/plain": [
       "(60, 160, 24)"
      ]
     },
     "execution_count": 3,
     "metadata": {},
     "output_type": "execute_result"
    }
   ],
   "source": [
    "test3(6, 4)"
   ]
  },
  {
   "cell_type": "code",
   "execution_count": 4,
   "id": "1a9e3e03",
   "metadata": {},
   "outputs": [],
   "source": [
    "c , x, v = test3(2,7)"
   ]
  },
  {
   "cell_type": "code",
   "execution_count": 5,
   "id": "618d62ea",
   "metadata": {},
   "outputs": [
    {
     "data": {
      "text/plain": [
       "20"
      ]
     },
     "execution_count": 5,
     "metadata": {},
     "output_type": "execute_result"
    }
   ],
   "source": [
    "c"
   ]
  },
  {
   "cell_type": "code",
   "execution_count": 6,
   "id": "9214bc73",
   "metadata": {},
   "outputs": [
    {
     "data": {
      "text/plain": [
       "280"
      ]
     },
     "execution_count": 6,
     "metadata": {},
     "output_type": "execute_result"
    }
   ],
   "source": [
    "x"
   ]
  },
  {
   "cell_type": "code",
   "execution_count": 7,
   "id": "49630e93",
   "metadata": {},
   "outputs": [
    {
     "data": {
      "text/plain": [
       "14"
      ]
     },
     "execution_count": 7,
     "metadata": {},
     "output_type": "execute_result"
    }
   ],
   "source": [
    "v"
   ]
  },
  {
   "cell_type": "code",
   "execution_count": 8,
   "id": "111b3dba",
   "metadata": {},
   "outputs": [],
   "source": [
    "c , x, _ = test3(2,7)"
   ]
  },
  {
   "cell_type": "code",
   "execution_count": 9,
   "id": "b6942ad3",
   "metadata": {},
   "outputs": [
    {
     "data": {
      "text/plain": [
       "14"
      ]
     },
     "execution_count": 9,
     "metadata": {},
     "output_type": "execute_result"
    }
   ],
   "source": [
    "_"
   ]
  },
  {
   "cell_type": "code",
   "execution_count": 10,
   "id": "f23e2d52",
   "metadata": {},
   "outputs": [
    {
     "data": {
      "text/plain": [
       "20"
      ]
     },
     "execution_count": 10,
     "metadata": {},
     "output_type": "execute_result"
    }
   ],
   "source": [
    "c"
   ]
  },
  {
   "cell_type": "code",
   "execution_count": 11,
   "id": "dbdb0576",
   "metadata": {},
   "outputs": [
    {
     "data": {
      "text/plain": [
       "280"
      ]
     },
     "execution_count": 11,
     "metadata": {},
     "output_type": "execute_result"
    }
   ],
   "source": [
    "x"
   ]
  },
  {
   "cell_type": "code",
   "execution_count": 13,
   "id": "287f8b47",
   "metadata": {},
   "outputs": [],
   "source": [
    "def test():\n",
    "    print(\"This is my first funtion\")"
   ]
  },
  {
   "cell_type": "code",
   "execution_count": 14,
   "id": "d37124d4",
   "metadata": {},
   "outputs": [
    {
     "name": "stdout",
     "output_type": "stream",
     "text": [
      "This is my first funtion\n"
     ]
    }
   ],
   "source": [
    "test()"
   ]
  },
  {
   "cell_type": "code",
   "execution_count": 17,
   "id": "9c106d5b",
   "metadata": {},
   "outputs": [
    {
     "name": "stdout",
     "output_type": "stream",
     "text": [
      "This is my first funtion\n"
     ]
    }
   ],
   "source": [
    "m  = test()"
   ]
  },
  {
   "cell_type": "code",
   "execution_count": 18,
   "id": "dddf9c04",
   "metadata": {},
   "outputs": [
    {
     "ename": "TypeError",
     "evalue": "unsupported operand type(s) for +: 'NoneType' and 'str'",
     "output_type": "error",
     "traceback": [
      "\u001b[1;31m---------------------------------------------------------------------------\u001b[0m",
      "\u001b[1;31mTypeError\u001b[0m                                 Traceback (most recent call last)",
      "Input \u001b[1;32mIn [18]\u001b[0m, in \u001b[0;36m<cell line: 1>\u001b[1;34m()\u001b[0m\n\u001b[1;32m----> 1\u001b[0m \u001b[43mm\u001b[49m\u001b[43m \u001b[49m\u001b[38;5;241;43m+\u001b[39;49m\u001b[43m \u001b[49m\u001b[38;5;124;43m\"\u001b[39;49m\u001b[38;5;124;43mdfdf\u001b[39;49m\u001b[38;5;124;43m\"\u001b[39;49m\n",
      "\u001b[1;31mTypeError\u001b[0m: unsupported operand type(s) for +: 'NoneType' and 'str'"
     ]
    }
   ],
   "source": [
    "m + \"dfdf\""
   ]
  },
  {
   "cell_type": "code",
   "execution_count": 20,
   "id": "d86eb978",
   "metadata": {},
   "outputs": [],
   "source": [
    "def test7():\n",
    "    return \"this is my ffirst function\""
   ]
  },
  {
   "cell_type": "code",
   "execution_count": 21,
   "id": "a70b9324",
   "metadata": {},
   "outputs": [],
   "source": [
    "n = test7()"
   ]
  },
  {
   "cell_type": "code",
   "execution_count": 22,
   "id": "8d3cfdac",
   "metadata": {},
   "outputs": [
    {
     "data": {
      "text/plain": [
       "'this is my ffirst functionfdf'"
      ]
     },
     "execution_count": 22,
     "metadata": {},
     "output_type": "execute_result"
    }
   ],
   "source": [
    "n + \"fdf\""
   ]
  },
  {
   "cell_type": "code",
   "execution_count": 25,
   "id": "306f9aa9",
   "metadata": {},
   "outputs": [],
   "source": [
    "def test8(n):\n",
    "    return n*2"
   ]
  },
  {
   "cell_type": "code",
   "execution_count": 26,
   "id": "c1e931e0",
   "metadata": {},
   "outputs": [
    {
     "data": {
      "text/plain": [
       "[3, 4, 5, 6, 3, 4, 5, 6]"
      ]
     },
     "execution_count": 26,
     "metadata": {},
     "output_type": "execute_result"
    }
   ],
   "source": [
    "test8([3,4,5,6,])"
   ]
  },
  {
   "cell_type": "code",
   "execution_count": 40,
   "id": "f0334239",
   "metadata": {},
   "outputs": [],
   "source": [
    "n1 = test8(4)"
   ]
  },
  {
   "cell_type": "code",
   "execution_count": 41,
   "id": "24220284",
   "metadata": {},
   "outputs": [
    {
     "data": {
      "text/plain": [
       "int"
      ]
     },
     "execution_count": 41,
     "metadata": {},
     "output_type": "execute_result"
    }
   ],
   "source": [
    "type(n1)"
   ]
  },
  {
   "cell_type": "code",
   "execution_count": 28,
   "id": "12b99294",
   "metadata": {},
   "outputs": [],
   "source": [
    "def test9(n):\n",
    "    return n, n*2"
   ]
  },
  {
   "cell_type": "code",
   "execution_count": 35,
   "id": "e5f7acae",
   "metadata": {},
   "outputs": [],
   "source": [
    "b = test9([4,5,6,7,8])"
   ]
  },
  {
   "cell_type": "code",
   "execution_count": 36,
   "id": "91c46cee",
   "metadata": {},
   "outputs": [
    {
     "data": {
      "text/plain": [
       "([4, 5, 6, 7, 8], [4, 5, 6, 7, 8, 4, 5, 6, 7, 8])"
      ]
     },
     "execution_count": 36,
     "metadata": {},
     "output_type": "execute_result"
    }
   ],
   "source": [
    "b"
   ]
  },
  {
   "cell_type": "code",
   "execution_count": 37,
   "id": "a5a03f9a",
   "metadata": {},
   "outputs": [
    {
     "data": {
      "text/plain": [
       "[4, 5, 6, 7, 8]"
      ]
     },
     "execution_count": 37,
     "metadata": {},
     "output_type": "execute_result"
    }
   ],
   "source": [
    "b[0]"
   ]
  },
  {
   "cell_type": "code",
   "execution_count": 38,
   "id": "52468914",
   "metadata": {},
   "outputs": [
    {
     "data": {
      "text/plain": [
       "[4, 5, 6, 7, 8, 4, 5, 6, 7, 8]"
      ]
     },
     "execution_count": 38,
     "metadata": {},
     "output_type": "execute_result"
    }
   ],
   "source": [
    "b[1]"
   ]
  },
  {
   "cell_type": "code",
   "execution_count": 39,
   "id": "39919e1f",
   "metadata": {},
   "outputs": [
    {
     "data": {
      "text/plain": [
       "tuple"
      ]
     },
     "execution_count": 39,
     "metadata": {},
     "output_type": "execute_result"
    }
   ],
   "source": [
    "type(b)"
   ]
  },
  {
   "cell_type": "code",
   "execution_count": 62,
   "id": "32911bb0",
   "metadata": {},
   "outputs": [],
   "source": [
    "def test10(n , m = 90):\n",
    "    return n+ m"
   ]
  },
  {
   "cell_type": "code",
   "execution_count": 63,
   "id": "ce31e410",
   "metadata": {},
   "outputs": [
    {
     "data": {
      "text/plain": [
       "100"
      ]
     },
     "execution_count": 63,
     "metadata": {},
     "output_type": "execute_result"
    }
   ],
   "source": [
    "test10(10)"
   ]
  },
  {
   "cell_type": "code",
   "execution_count": 66,
   "id": "d4e7e4a2",
   "metadata": {},
   "outputs": [],
   "source": [
    "def boolx(x = True, y = False):\n",
    "    return x + y"
   ]
  },
  {
   "cell_type": "code",
   "execution_count": 69,
   "id": "1f3554f2",
   "metadata": {},
   "outputs": [
    {
     "data": {
      "text/plain": [
       "1"
      ]
     },
     "execution_count": 69,
     "metadata": {},
     "output_type": "execute_result"
    }
   ],
   "source": [
    "boolx()"
   ]
  },
  {
   "cell_type": "code",
   "execution_count": 70,
   "id": "01fed9af",
   "metadata": {},
   "outputs": [
    {
     "data": {
      "text/plain": [
       "0"
      ]
     },
     "execution_count": 70,
     "metadata": {},
     "output_type": "execute_result"
    }
   ],
   "source": [
    "boolx(False)"
   ]
  },
  {
   "cell_type": "code",
   "execution_count": 71,
   "id": "9a1ce2fd",
   "metadata": {},
   "outputs": [
    {
     "data": {
      "text/plain": [
       "8"
      ]
     },
     "execution_count": 71,
     "metadata": {},
     "output_type": "execute_result"
    }
   ],
   "source": [
    "boolx(False , 8)"
   ]
  },
  {
   "cell_type": "code",
   "execution_count": 74,
   "id": "1fe21d65",
   "metadata": {},
   "outputs": [],
   "source": [
    "def travel(bike = True, car = False):\n",
    "    plan_travel = bike or car\n",
    "    return bike, car , plan_travel"
   ]
  },
  {
   "cell_type": "code",
   "execution_count": 76,
   "id": "74449c3e",
   "metadata": {},
   "outputs": [],
   "source": [
    "t1 = travel()"
   ]
  },
  {
   "cell_type": "code",
   "execution_count": 77,
   "id": "2415e0ed",
   "metadata": {},
   "outputs": [
    {
     "data": {
      "text/plain": [
       "tuple"
      ]
     },
     "execution_count": 77,
     "metadata": {},
     "output_type": "execute_result"
    }
   ],
   "source": [
    "type(t1)"
   ]
  },
  {
   "cell_type": "code",
   "execution_count": 78,
   "id": "8401e230",
   "metadata": {},
   "outputs": [
    {
     "data": {
      "text/plain": [
       "(True, False, True)"
      ]
     },
     "execution_count": 78,
     "metadata": {},
     "output_type": "execute_result"
    }
   ],
   "source": [
    "t1"
   ]
  },
  {
   "cell_type": "code",
   "execution_count": 87,
   "id": "aacf55e8",
   "metadata": {},
   "outputs": [
    {
     "data": {
      "text/plain": [
       "(True, False, True)"
      ]
     },
     "execution_count": 87,
     "metadata": {},
     "output_type": "execute_result"
    }
   ],
   "source": [
    "travel(True)"
   ]
  },
  {
   "cell_type": "code",
   "execution_count": 88,
   "id": "c3eb0069",
   "metadata": {},
   "outputs": [
    {
     "data": {
      "text/plain": [
       "(True, False, True)"
      ]
     },
     "execution_count": 88,
     "metadata": {},
     "output_type": "execute_result"
    }
   ],
   "source": [
    "t1"
   ]
  },
  {
   "cell_type": "code",
   "execution_count": 89,
   "id": "64e5771e",
   "metadata": {},
   "outputs": [
    {
     "data": {
      "text/plain": [
       "(True, True, True)"
      ]
     },
     "execution_count": 89,
     "metadata": {},
     "output_type": "execute_result"
    }
   ],
   "source": [
    "travel(car = True)"
   ]
  },
  {
   "cell_type": "code",
   "execution_count": 99,
   "id": "bf12d241",
   "metadata": {},
   "outputs": [],
   "source": [
    "def test11(*args):\n",
    "    return args"
   ]
  },
  {
   "cell_type": "code",
   "execution_count": 100,
   "id": "0a072d17",
   "metadata": {},
   "outputs": [
    {
     "data": {
      "text/plain": [
       "('ankurwa', 'kumar', 45, [34, 23, 4, 51, 112, 34])"
      ]
     },
     "execution_count": 100,
     "metadata": {},
     "output_type": "execute_result"
    }
   ],
   "source": [
    "test11(\"ankurwa\", \"kumar\" , 45, [34,23,4,51,112,34])"
   ]
  },
  {
   "cell_type": "code",
   "execution_count": 120,
   "id": "bb5a2a6e",
   "metadata": {},
   "outputs": [],
   "source": [
    "def test12(*args):\n",
    "    l = []\n",
    "    for i in args:\n",
    "        l = l+i\n",
    "    return l"
   ]
  },
  {
   "cell_type": "code",
   "execution_count": 122,
   "id": "02e354db",
   "metadata": {},
   "outputs": [
    {
     "data": {
      "text/plain": [
       "[2, 3, 45, 2, 3, 34, 4, 532, 45, 34, 4, 5, 5, 3, 56, 3, 3, 5, 6, 4, 32]"
      ]
     },
     "execution_count": 122,
     "metadata": {},
     "output_type": "execute_result"
    }
   ],
   "source": [
    "test12([2,3,45,2,3], [34,4,532,45,], [34,4,5,5,3,56,3], [3,5,6,4,32])"
   ]
  },
  {
   "cell_type": "code",
   "execution_count": 123,
   "id": "d0bb39da",
   "metadata": {},
   "outputs": [
    {
     "data": {
      "text/plain": [
       "[4, 2, 2, 4, 5, 4, 23, 6.05, 3, 234, 5]"
      ]
     },
     "execution_count": 123,
     "metadata": {},
     "output_type": "execute_result"
    }
   ],
   "source": [
    "test12([4,2,2,4,5], [4,23,6.05,3,234,5])"
   ]
  },
  {
   "cell_type": "code",
   "execution_count": 124,
   "id": "910b80bf",
   "metadata": {},
   "outputs": [],
   "source": [
    "def test14(*args):\n",
    "    return [i for i in args]"
   ]
  },
  {
   "cell_type": "code",
   "execution_count": 125,
   "id": "0f4a9920",
   "metadata": {},
   "outputs": [
    {
     "data": {
      "text/plain": [
       "[[9, 0, 7, 8, 5], [6, 8, 5, 6]]"
      ]
     },
     "execution_count": 125,
     "metadata": {},
     "output_type": "execute_result"
    }
   ],
   "source": [
    "test14([9,0,7,8,5],[6,8,5,6])"
   ]
  },
  {
   "cell_type": "code",
   "execution_count": 2,
   "id": "d6ab3ccb",
   "metadata": {},
   "outputs": [
    {
     "data": {
      "text/plain": [
       "[33, 42, 45, 6, 4, 5, 3, 44, 65]"
      ]
     },
     "execution_count": 2,
     "metadata": {},
     "output_type": "execute_result"
    }
   ],
   "source": [
    "test12(\"fdfdf\", 2,4,5,55,33,[33,42,45,6], [4,5,3,44,65])"
   ]
  },
  {
   "cell_type": "code",
   "execution_count": 1,
   "id": "0095501c",
   "metadata": {},
   "outputs": [],
   "source": [
    "def test12(*args):\n",
    "    l = []\n",
    "    for i in args:\n",
    "        if type(i) == list:\n",
    "            \n",
    "            l = l+i\n",
    "    return l"
   ]
  },
  {
   "cell_type": "code",
   "execution_count": 133,
   "id": "d58205ab",
   "metadata": {},
   "outputs": [],
   "source": [
    "def test16(**kwargs):\n",
    "    return kwargs"
   ]
  },
  {
   "cell_type": "code",
   "execution_count": 135,
   "id": "7f4ed704",
   "metadata": {},
   "outputs": [
    {
     "ename": "TypeError",
     "evalue": "test16() takes 0 positional arguments but 3 were given",
     "output_type": "error",
     "traceback": [
      "\u001b[1;31m---------------------------------------------------------------------------\u001b[0m",
      "\u001b[1;31mTypeError\u001b[0m                                 Traceback (most recent call last)",
      "Input \u001b[1;32mIn [135]\u001b[0m, in \u001b[0;36m<cell line: 1>\u001b[1;34m()\u001b[0m\n\u001b[1;32m----> 1\u001b[0m \u001b[43mtest16\u001b[49m\u001b[43m(\u001b[49m\u001b[38;5;241;43m4\u001b[39;49m\u001b[43m,\u001b[49m\u001b[38;5;241;43m56\u001b[39;49m\u001b[43m,\u001b[49m\u001b[38;5;241;43m56\u001b[39;49m\u001b[43m)\u001b[49m\n",
      "\u001b[1;31mTypeError\u001b[0m: test16() takes 0 positional arguments but 3 were given"
     ]
    }
   ],
   "source": [
    "test16(4,56,56)"
   ]
  },
  {
   "cell_type": "code",
   "execution_count": 141,
   "id": "5d2c02b4",
   "metadata": {},
   "outputs": [],
   "source": [
    "z1 = test16(a = 8, b = True, c = [7,4,5,6], d = \"ankur\")"
   ]
  },
  {
   "cell_type": "code",
   "execution_count": 142,
   "id": "9cc0ac14",
   "metadata": {},
   "outputs": [
    {
     "data": {
      "text/plain": [
       "{'a': 8, 'b': True, 'c': [7, 4, 5, 6], 'd': 'ankur'}"
      ]
     },
     "execution_count": 142,
     "metadata": {},
     "output_type": "execute_result"
    }
   ],
   "source": [
    "z1"
   ]
  },
  {
   "cell_type": "code",
   "execution_count": 143,
   "id": "0cea7b0a",
   "metadata": {},
   "outputs": [
    {
     "data": {
      "text/plain": [
       "dict"
      ]
     },
     "execution_count": 143,
     "metadata": {},
     "output_type": "execute_result"
    }
   ],
   "source": [
    "type(z1)"
   ]
  },
  {
   "cell_type": "code",
   "execution_count": 145,
   "id": "5ff0610f",
   "metadata": {},
   "outputs": [],
   "source": [
    "def test17(*args):\n",
    "    return args"
   ]
  },
  {
   "cell_type": "code",
   "execution_count": 146,
   "id": "e236916c",
   "metadata": {},
   "outputs": [
    {
     "data": {
      "text/plain": [
       "(4, 5, 6, 77, 'ankur', [4, 5, 6, 7])"
      ]
     },
     "execution_count": 146,
     "metadata": {},
     "output_type": "execute_result"
    }
   ],
   "source": [
    "test17(4,5,6,77,\"ankur\", [4,5,6,7])"
   ]
  },
  {
   "cell_type": "code",
   "execution_count": null,
   "id": "d7868534",
   "metadata": {},
   "outputs": [],
   "source": []
  },
  {
   "cell_type": "code",
   "execution_count": 5,
   "id": "02cdce64",
   "metadata": {},
   "outputs": [],
   "source": [
    "def test18(*args):\n",
    "    l = []\n",
    "    l1 = {}\n",
    "    l2 = ()\n",
    "    if i in args == list or tuple or str:\n",
    "        l = l+i\n",
    "    return l , l2, l1"
   ]
  },
  {
   "cell_type": "code",
   "execution_count": 6,
   "id": "e0a19c77",
   "metadata": {},
   "outputs": [
    {
     "ename": "NameError",
     "evalue": "name 'i' is not defined",
     "output_type": "error",
     "traceback": [
      "\u001b[1;31m---------------------------------------------------------------------------\u001b[0m",
      "\u001b[1;31mNameError\u001b[0m                                 Traceback (most recent call last)",
      "Input \u001b[1;32mIn [6]\u001b[0m, in \u001b[0;36m<cell line: 1>\u001b[1;34m()\u001b[0m\n\u001b[1;32m----> 1\u001b[0m \u001b[43mtest18\u001b[49m\u001b[43m(\u001b[49m\u001b[38;5;241;43m1\u001b[39;49m\u001b[43m,\u001b[49m\u001b[38;5;241;43m2\u001b[39;49m\u001b[43m,\u001b[49m\u001b[38;5;241;43m3\u001b[39;49m\u001b[43m,\u001b[49m\u001b[38;5;241;43m4\u001b[39;49m\u001b[43m,\u001b[49m\u001b[38;5;241;43m4\u001b[39;49m\u001b[43m,\u001b[49m\u001b[43m[\u001b[49m\u001b[38;5;241;43m4\u001b[39;49m\u001b[43m,\u001b[49m\u001b[38;5;241;43m5\u001b[39;49m\u001b[43m,\u001b[49m\u001b[38;5;241;43m33\u001b[39;49m\u001b[43m,\u001b[49m\u001b[38;5;241;43m4\u001b[39;49m\u001b[43m,\u001b[49m\u001b[38;5;241;43m5\u001b[39;49m\u001b[43m]\u001b[49m\u001b[43m,\u001b[49m\u001b[43m{\u001b[49m\u001b[38;5;241;43m23\u001b[39;49m\u001b[43m,\u001b[49m\u001b[38;5;241;43m4\u001b[39;49m\u001b[43m,\u001b[49m\u001b[38;5;241;43m53\u001b[39;49m\u001b[43m,\u001b[49m\u001b[38;5;241;43m23\u001b[39;49m\u001b[43m,\u001b[49m\u001b[38;5;241;43m4\u001b[39;49m\u001b[43m}\u001b[49m\u001b[43m,\u001b[49m\u001b[43m \u001b[49m\u001b[38;5;124;43m\"\u001b[39;49m\u001b[38;5;124;43msandland\u001b[39;49m\u001b[38;5;124;43m\"\u001b[39;49m\u001b[43m)\u001b[49m\n",
      "Input \u001b[1;32mIn [5]\u001b[0m, in \u001b[0;36mtest18\u001b[1;34m(*args)\u001b[0m\n\u001b[0;32m      3\u001b[0m l1 \u001b[38;5;241m=\u001b[39m {}\n\u001b[0;32m      4\u001b[0m l2 \u001b[38;5;241m=\u001b[39m ()\n\u001b[1;32m----> 5\u001b[0m \u001b[38;5;28;01mif\u001b[39;00m \u001b[43mi\u001b[49m \u001b[38;5;129;01min\u001b[39;00m args \u001b[38;5;241m==\u001b[39m \u001b[38;5;28mlist\u001b[39m \u001b[38;5;129;01mor\u001b[39;00m \u001b[38;5;28mtuple\u001b[39m \u001b[38;5;129;01mor\u001b[39;00m \u001b[38;5;28mstr\u001b[39m:\n\u001b[0;32m      6\u001b[0m     l \u001b[38;5;241m=\u001b[39m l\u001b[38;5;241m+\u001b[39mi\n\u001b[0;32m      7\u001b[0m \u001b[38;5;28;01mreturn\u001b[39;00m l , l2, l1\n",
      "\u001b[1;31mNameError\u001b[0m: name 'i' is not defined"
     ]
    }
   ],
   "source": [
    "test18(1,2,3,4,4,[4,5,33,4,5],{23,4,53,23,4}, \"sandland\")"
   ]
  },
  {
   "cell_type": "code",
   "execution_count": 19,
   "id": "3cb05733",
   "metadata": {},
   "outputs": [],
   "source": [
    "def test19(*args, **kwargs):\n",
    "    l = [i for i in args if type(i)==list]\n",
    "    l1= [i[1] for i in kwargs.items() if type (i[1])==list]\n",
    "    return l,l1"
   ]
  },
  {
   "cell_type": "code",
   "execution_count": 20,
   "id": "40a20e29",
   "metadata": {},
   "outputs": [
    {
     "data": {
      "text/plain": [
       "([[4, 4, 5, 6, 7, 7], [2, 3, 42, 3], [32, 3, 4, 32]], [[4, 3, 5, 56]])"
      ]
     },
     "execution_count": 20,
     "metadata": {},
     "output_type": "execute_result"
    }
   ],
   "source": [
    "test19([4,4,5,6,7,7],[2,3,42,3],[32,3,4,32], a = 5, b = 7, m = \"dgfgf\" , n = [4,3,5,56])"
   ]
  },
  {
   "cell_type": "code",
   "execution_count": 4,
   "id": "35555dde",
   "metadata": {},
   "outputs": [],
   "source": [
    "def test19(**kwargs):\n",
    "    for i in kwargs.items():\n",
    "        if type(i[1])==list:\n",
    "            if \"ankur\" in i[1]:\n",
    "                print(\"ABLE TO FIND NAME IN input data\")\n",
    "                print(i[1])\n",
    "    return kwargs"
   ]
  },
  {
   "cell_type": "code",
   "execution_count": 5,
   "id": "2aa8a165",
   "metadata": {},
   "outputs": [
    {
     "name": "stdout",
     "output_type": "stream",
     "text": [
      "ABLE TO FIND NAME IN input data\n",
      "['jhutha', 'ankur', 5.63]\n"
     ]
    },
    {
     "data": {
      "text/plain": [
       "{'b': 6, 'c': [4, 3, 2, 4], 'd': ['jhutha', 'ankur', 5.63], 'c2': (5+6j)}"
      ]
     },
     "execution_count": 5,
     "metadata": {},
     "output_type": "execute_result"
    }
   ],
   "source": [
    "test19(b = 6, c =[4,3,2,4], d = [\"jhutha\",\"ankur\", 5.63], c2= 5+6j) "
   ]
  },
  {
   "cell_type": "code",
   "execution_count": 6,
   "id": "e60ef2d5",
   "metadata": {},
   "outputs": [],
   "source": [
    "d = {'b': 6, 'c': [4, 3, 2, 4], 'd': ['jhutha', 'ankur', 5.63], 'c2': (5+6j)}"
   ]
  },
  {
   "cell_type": "code",
   "execution_count": 11,
   "id": "a33e2418",
   "metadata": {},
   "outputs": [
    {
     "data": {
      "text/plain": [
       "dict_items([('b', 6), ('c', [4, 3, 2, 4]), ('d', ['jhutha', 'ankur', 5.63]), ('c2', (5+6j))])"
      ]
     },
     "execution_count": 11,
     "metadata": {},
     "output_type": "execute_result"
    }
   ],
   "source": [
    "d.items()"
   ]
  },
  {
   "cell_type": "code",
   "execution_count": 15,
   "id": "7ed27072",
   "metadata": {},
   "outputs": [],
   "source": [
    "def func1(*args):\n",
    "    dt = {}\n",
    "    for i in args:\n",
    "        if type(i) in dt:\n",
    "            dt[type(i)].append(i)\n",
    "        else:\n",
    "            dt[type(i)] = [i]\n",
    "    return dt"
   ]
  },
  {
   "cell_type": "code",
   "execution_count": 16,
   "id": "384e7b75",
   "metadata": {},
   "outputs": [
    {
     "data": {
      "text/plain": [
       "{int: [1, 3, 4, 5, 3, 5],\n",
       " list: [[3, 45, 3, 25, 5]],\n",
       " str: ['ok', 'yolo'],\n",
       " complex: [(6+7j)]}"
      ]
     },
     "execution_count": 16,
     "metadata": {},
     "output_type": "execute_result"
    }
   ],
   "source": [
    "func1(1,3,4,5,3,5,[3,45,3,25,5],\"ok\", \"yolo\",6+7j)"
   ]
  },
  {
   "cell_type": "code",
   "execution_count": null,
   "id": "15b7cc89",
   "metadata": {},
   "outputs": [],
   "source": []
  }
 ],
 "metadata": {
  "kernelspec": {
   "display_name": "Python 3 (ipykernel)",
   "language": "python",
   "name": "python3"
  },
  "language_info": {
   "codemirror_mode": {
    "name": "ipython",
    "version": 3
   },
   "file_extension": ".py",
   "mimetype": "text/x-python",
   "name": "python",
   "nbconvert_exporter": "python",
   "pygments_lexer": "ipython3",
   "version": "3.9.12"
  }
 },
 "nbformat": 4,
 "nbformat_minor": 5
}
