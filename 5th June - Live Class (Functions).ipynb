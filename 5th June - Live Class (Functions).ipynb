{
 "cells": [
  {
   "cell_type": "code",
   "execution_count": 13,
   "id": "fe290c19",
   "metadata": {},
   "outputs": [],
   "source": [
    "def test (a, b):\n",
    "    '''this is my function for concatination or addition'''\n",
    "    return a+b\n",
    "    "
   ]
  },
  {
   "cell_type": "code",
   "execution_count": 11,
   "id": "c6fee01c",
   "metadata": {},
   "outputs": [
    {
     "data": {
      "text/plain": [
       "10"
      ]
     },
     "execution_count": 11,
     "metadata": {},
     "output_type": "execute_result"
    }
   ],
   "source": [
    "test(4,6)"
   ]
  },
  {
   "cell_type": "code",
   "execution_count": 6,
   "id": "20321306",
   "metadata": {},
   "outputs": [
    {
     "data": {
      "text/plain": [
       "'ankurkumar'"
      ]
     },
     "execution_count": 6,
     "metadata": {},
     "output_type": "execute_result"
    }
   ],
   "source": [
    "test(\"ankur\",\"kumar\")"
   ]
  },
  {
   "cell_type": "code",
   "execution_count": 7,
   "id": "d5741745",
   "metadata": {},
   "outputs": [
    {
     "data": {
      "text/plain": [
       "15"
      ]
     },
     "execution_count": 7,
     "metadata": {},
     "output_type": "execute_result"
    }
   ],
   "source": [
    "test(a = 9, b = 6)"
   ]
  },
  {
   "cell_type": "code",
   "execution_count": 8,
   "id": "d5f8347b",
   "metadata": {},
   "outputs": [
    {
     "data": {
      "text/plain": [
       "50"
      ]
     },
     "execution_count": 8,
     "metadata": {},
     "output_type": "execute_result"
    }
   ],
   "source": [
    "test(b = 45 , a = 5)"
   ]
  },
  {
   "cell_type": "code",
   "execution_count": 14,
   "id": "5f546a6a",
   "metadata": {},
   "outputs": [
    {
     "name": "stdout",
     "output_type": "stream",
     "text": [
      "\n"
     ]
    }
   ],
   "source": [
    "print()"
   ]
  },
  {
   "cell_type": "code",
   "execution_count": 15,
   "id": "ceb16a82",
   "metadata": {},
   "outputs": [],
   "source": [
    "def test1(a,b,c,d,e):\n",
    "    return a, b, c, d, e"
   ]
  },
  {
   "cell_type": "code",
   "execution_count": 21,
   "id": "ccdf44f1",
   "metadata": {},
   "outputs": [
    {
     "data": {
      "text/plain": [
       "(3, 4, 5, 3, 4)"
      ]
     },
     "execution_count": 21,
     "metadata": {},
     "output_type": "execute_result"
    }
   ],
   "source": [
    "test1(3,4,5,3,4)"
   ]
  },
  {
   "cell_type": "code",
   "execution_count": 22,
   "id": "c0a1b274",
   "metadata": {},
   "outputs": [],
   "source": [
    "def test(*a):\n",
    "    return a"
   ]
  },
  {
   "cell_type": "code",
   "execution_count": 23,
   "id": "31337326",
   "metadata": {},
   "outputs": [
    {
     "data": {
      "text/plain": [
       "(3, 45)"
      ]
     },
     "execution_count": 23,
     "metadata": {},
     "output_type": "execute_result"
    }
   ],
   "source": [
    "test(3,45)"
   ]
  },
  {
   "cell_type": "code",
   "execution_count": 25,
   "id": "b66f4d9d",
   "metadata": {},
   "outputs": [
    {
     "data": {
      "text/plain": [
       "(4, 5, 6, 3, 2, [4, 5, 6, 7])"
      ]
     },
     "execution_count": 25,
     "metadata": {},
     "output_type": "execute_result"
    }
   ],
   "source": [
    "test(4,5,6,3,2,[4,5,6,7])"
   ]
  },
  {
   "cell_type": "code",
   "execution_count": 26,
   "id": "88389ed9",
   "metadata": {},
   "outputs": [],
   "source": [
    "def test4(*args):\n",
    "    return args"
   ]
  },
  {
   "cell_type": "code",
   "execution_count": 27,
   "id": "9d7202b8",
   "metadata": {},
   "outputs": [
    {
     "data": {
      "text/plain": [
       "(3, 4, 5, 3, 2, 3, 5, 5)"
      ]
     },
     "execution_count": 27,
     "metadata": {},
     "output_type": "execute_result"
    }
   ],
   "source": [
    "test4(3,4,5,3,2,3,5,5)"
   ]
  },
  {
   "cell_type": "code",
   "execution_count": 29,
   "id": "acc0b158",
   "metadata": {},
   "outputs": [],
   "source": [
    "def test5(*a):\n",
    "    l= []\n",
    "    for i in a:\n",
    "        l.append(i)\n",
    "    return l"
   ]
  },
  {
   "cell_type": "code",
   "execution_count": 30,
   "id": "9d8a14c8",
   "metadata": {},
   "outputs": [
    {
     "data": {
      "text/plain": [
       "[2, 3, 4, 5, 45, [5, 45, 354, 6]]"
      ]
     },
     "execution_count": 30,
     "metadata": {},
     "output_type": "execute_result"
    }
   ],
   "source": [
    "test5(2,3,4,5,45,[5,45,354,6])"
   ]
  },
  {
   "cell_type": "code",
   "execution_count": 31,
   "id": "92b48278",
   "metadata": {},
   "outputs": [
    {
     "data": {
      "text/plain": [
       "[3, 4, 5, 6]"
      ]
     },
     "execution_count": 31,
     "metadata": {},
     "output_type": "execute_result"
    }
   ],
   "source": [
    "test5(3,4,5,6)"
   ]
  },
  {
   "cell_type": "code",
   "execution_count": 6,
   "id": "a27f2e75",
   "metadata": {},
   "outputs": [],
   "source": [
    "def test6(a,b,c,d, *m):\n",
    "    return a, b, c, d, m"
   ]
  },
  {
   "cell_type": "code",
   "execution_count": 7,
   "id": "1951c0ee",
   "metadata": {},
   "outputs": [
    {
     "data": {
      "text/plain": [
       "(3, 4, 5, 5, ())"
      ]
     },
     "execution_count": 7,
     "metadata": {},
     "output_type": "execute_result"
    }
   ],
   "source": [
    "test6(3,4,5,5)"
   ]
  },
  {
   "cell_type": "code",
   "execution_count": 8,
   "id": "676439df",
   "metadata": {},
   "outputs": [],
   "source": [
    "def test7(*m, a, b, c, d, e):\n",
    "    return m, a,b,c,d,e"
   ]
  },
  {
   "cell_type": "code",
   "execution_count": 9,
   "id": "89236479",
   "metadata": {},
   "outputs": [
    {
     "data": {
      "text/plain": [
       "((4, 5, 6, 4, 54), 6, 4, 23, 5, 6)"
      ]
     },
     "execution_count": 9,
     "metadata": {},
     "output_type": "execute_result"
    }
   ],
   "source": [
    "test7(4,5,6,4,54,a =6,b =4,c= 23,d= 5,e = 6)"
   ]
  },
  {
   "cell_type": "code",
   "execution_count": 13,
   "id": "f7dd6b31",
   "metadata": {},
   "outputs": [],
   "source": [
    "def test8(**ankur):\n",
    "    return ankur"
   ]
  },
  {
   "cell_type": "code",
   "execution_count": 15,
   "id": "09ad0a86",
   "metadata": {},
   "outputs": [
    {
     "data": {
      "text/plain": [
       "{'b': 5, 'c': 4, 'd': 3, 'e': 2}"
      ]
     },
     "execution_count": 15,
     "metadata": {},
     "output_type": "execute_result"
    }
   ],
   "source": [
    "test8(b = 5,c = 4,d = 3,e = 2)"
   ]
  },
  {
   "cell_type": "code",
   "execution_count": 17,
   "id": "bea85a96",
   "metadata": {},
   "outputs": [],
   "source": [
    "d = {'b' : 4, 'c' : 5, 'd' : 6}"
   ]
  },
  {
   "cell_type": "code",
   "execution_count": 19,
   "id": "c935012e",
   "metadata": {},
   "outputs": [
    {
     "ename": "TypeError",
     "evalue": "test8() takes 0 positional arguments but 1 was given",
     "output_type": "error",
     "traceback": [
      "\u001b[1;31m---------------------------------------------------------------------------\u001b[0m",
      "\u001b[1;31mTypeError\u001b[0m                                 Traceback (most recent call last)",
      "Input \u001b[1;32mIn [19]\u001b[0m, in \u001b[0;36m<cell line: 1>\u001b[1;34m()\u001b[0m\n\u001b[1;32m----> 1\u001b[0m \u001b[43mtest8\u001b[49m\u001b[43m(\u001b[49m\u001b[43md\u001b[49m\u001b[43m)\u001b[49m\n",
      "\u001b[1;31mTypeError\u001b[0m: test8() takes 0 positional arguments but 1 was given"
     ]
    }
   ],
   "source": [
    "test8(d)"
   ]
  },
  {
   "cell_type": "code",
   "execution_count": 20,
   "id": "c4e5a0d5",
   "metadata": {},
   "outputs": [],
   "source": [
    "def test9(*m , **s):\n",
    "    return m, s"
   ]
  },
  {
   "cell_type": "code",
   "execution_count": 21,
   "id": "28ec32a2",
   "metadata": {},
   "outputs": [
    {
     "data": {
      "text/plain": [
       "((345, 65, 6, 7, 7, 88, 95), {'b': 6, 'c': 7, 'g': 8})"
      ]
     },
     "execution_count": 21,
     "metadata": {},
     "output_type": "execute_result"
    }
   ],
   "source": [
    "test9(345,65,6,7,7,88,95,b = 6, c = 7, g = 8)"
   ]
  },
  {
   "cell_type": "code",
   "execution_count": 37,
   "id": "773528a0",
   "metadata": {},
   "outputs": [],
   "source": [
    "def test10(*m):\n",
    "    n = 0\n",
    "    for i in m:\n",
    "        if type(i) == int:\n",
    "            n = n+ i\n",
    "    return n"
   ]
  },
  {
   "cell_type": "code",
   "execution_count": 38,
   "id": "f6420ec5",
   "metadata": {},
   "outputs": [
    {
     "data": {
      "text/plain": [
       "31"
      ]
     },
     "execution_count": 38,
     "metadata": {},
     "output_type": "execute_result"
    }
   ],
   "source": [
    "test10(3,4,2,3,5,6,7,1)"
   ]
  },
  {
   "cell_type": "code",
   "execution_count": 39,
   "id": "80ecaf69",
   "metadata": {},
   "outputs": [],
   "source": [
    "def test11(*m):\n",
    "    n = 1\n",
    "    for i in m:\n",
    "        if type(i) == int:\n",
    "            n = n* i\n",
    "    return n"
   ]
  },
  {
   "cell_type": "code",
   "execution_count": 40,
   "id": "c558b0dc",
   "metadata": {},
   "outputs": [
    {
     "data": {
      "text/plain": [
       "6804"
      ]
     },
     "execution_count": 40,
     "metadata": {},
     "output_type": "execute_result"
    }
   ],
   "source": [
    "test11(3,54,6,7)"
   ]
  },
  {
   "cell_type": "code",
   "execution_count": 42,
   "id": "00b7ba22",
   "metadata": {},
   "outputs": [],
   "source": [
    "n = lambda a , b : a + b"
   ]
  },
  {
   "cell_type": "code",
   "execution_count": 43,
   "id": "eac0060d",
   "metadata": {},
   "outputs": [
    {
     "data": {
      "text/plain": [
       "<function __main__.<lambda>(a, b)>"
      ]
     },
     "execution_count": 43,
     "metadata": {},
     "output_type": "execute_result"
    }
   ],
   "source": [
    "n"
   ]
  },
  {
   "cell_type": "code",
   "execution_count": 44,
   "id": "c4e052dc",
   "metadata": {},
   "outputs": [
    {
     "data": {
      "text/plain": [
       "9"
      ]
     },
     "execution_count": 44,
     "metadata": {},
     "output_type": "execute_result"
    }
   ],
   "source": [
    "n(4,5)"
   ]
  },
  {
   "cell_type": "code",
   "execution_count": 45,
   "id": "f0604454",
   "metadata": {},
   "outputs": [
    {
     "data": {
      "text/plain": [
       "8"
      ]
     },
     "execution_count": 45,
     "metadata": {},
     "output_type": "execute_result"
    }
   ],
   "source": [
    "n(3,5)"
   ]
  },
  {
   "cell_type": "code",
   "execution_count": 46,
   "id": "bf4979ae",
   "metadata": {},
   "outputs": [],
   "source": [
    "b = lambda *ankur: ankur"
   ]
  },
  {
   "cell_type": "code",
   "execution_count": 47,
   "id": "991576eb",
   "metadata": {},
   "outputs": [
    {
     "data": {
      "text/plain": [
       "(4, 5, 6, 7, 8, 5, 3)"
      ]
     },
     "execution_count": 47,
     "metadata": {},
     "output_type": "execute_result"
    }
   ],
   "source": [
    "b(4,5,6,7,8,5,3)"
   ]
  },
  {
   "cell_type": "code",
   "execution_count": 48,
   "id": "66a6f885",
   "metadata": {},
   "outputs": [],
   "source": [
    "t = (3,4,4,5,6,7,7,8,8,9,9)\n",
    "l = []\n",
    "for i in t:\n",
    "    l.append(i)"
   ]
  },
  {
   "cell_type": "code",
   "execution_count": 49,
   "id": "f1091a54",
   "metadata": {},
   "outputs": [
    {
     "data": {
      "text/plain": [
       "[3, 4, 4, 5, 6, 7, 7, 8, 8, 9, 9]"
      ]
     },
     "execution_count": 49,
     "metadata": {},
     "output_type": "execute_result"
    }
   ],
   "source": [
    "l"
   ]
  },
  {
   "cell_type": "code",
   "execution_count": 51,
   "id": "cb953a33",
   "metadata": {},
   "outputs": [
    {
     "data": {
      "text/plain": [
       "[3, 4, 4, 5, 6, 7, 7, 8, 8, 9, 9]"
      ]
     },
     "execution_count": 51,
     "metadata": {},
     "output_type": "execute_result"
    }
   ],
   "source": [
    "[i for i in t]\n",
    "# list comprehension operation"
   ]
  },
  {
   "cell_type": "code",
   "execution_count": 52,
   "id": "14f8d747",
   "metadata": {},
   "outputs": [],
   "source": [
    "s = \"sudh\""
   ]
  },
  {
   "cell_type": "code",
   "execution_count": 57,
   "id": "268d0bde",
   "metadata": {},
   "outputs": [],
   "source": [
    "s1 = [i for i in s]"
   ]
  },
  {
   "cell_type": "code",
   "execution_count": 58,
   "id": "8a35ee43",
   "metadata": {},
   "outputs": [
    {
     "data": {
      "text/plain": [
       "['s', 'u', 'd', 'h']"
      ]
     },
     "execution_count": 58,
     "metadata": {},
     "output_type": "execute_result"
    }
   ],
   "source": [
    "s1"
   ]
  },
  {
   "cell_type": "code",
   "execution_count": 59,
   "id": "27eb6587",
   "metadata": {},
   "outputs": [
    {
     "data": {
      "text/plain": [
       "list"
      ]
     },
     "execution_count": 59,
     "metadata": {},
     "output_type": "execute_result"
    }
   ],
   "source": [
    "type(s1)"
   ]
  },
  {
   "cell_type": "code",
   "execution_count": 60,
   "id": "f6abbe6b",
   "metadata": {},
   "outputs": [
    {
     "data": {
      "text/plain": [
       "[0, 1, 4, 9, 16, 25, 36, 49, 64, 81]"
      ]
     },
     "execution_count": 60,
     "metadata": {},
     "output_type": "execute_result"
    }
   ],
   "source": [
    "[i*i for i in range(10)]"
   ]
  },
  {
   "cell_type": "code",
   "execution_count": 65,
   "id": "c54c306e",
   "metadata": {},
   "outputs": [],
   "source": [
    "l = []\n",
    "for i in range(10):\n",
    "    l.append(i*i)"
   ]
  },
  {
   "cell_type": "code",
   "execution_count": 66,
   "id": "5c43c60b",
   "metadata": {},
   "outputs": [
    {
     "data": {
      "text/plain": [
       "[0, 1, 4, 9, 16, 25, 36, 49, 64, 81]"
      ]
     },
     "execution_count": 66,
     "metadata": {},
     "output_type": "execute_result"
    }
   ],
   "source": [
    "l"
   ]
  },
  {
   "cell_type": "code",
   "execution_count": 73,
   "id": "8e8ed348",
   "metadata": {},
   "outputs": [],
   "source": [
    "l = lambda *x :[i**2 for i in x]"
   ]
  },
  {
   "cell_type": "code",
   "execution_count": 74,
   "id": "a03dc8c7",
   "metadata": {},
   "outputs": [
    {
     "data": {
      "text/plain": [
       "[16, 16, 25, 2025, 36, 49, 64, 81, 81]"
      ]
     },
     "execution_count": 74,
     "metadata": {},
     "output_type": "execute_result"
    }
   ],
   "source": [
    "l(4,4,5,45,6,7,8,9,9)"
   ]
  },
  {
   "cell_type": "code",
   "execution_count": 75,
   "id": "a3bd52fa",
   "metadata": {},
   "outputs": [
    {
     "ename": "NameError",
     "evalue": "name 'test14' is not defined",
     "output_type": "error",
     "traceback": [
      "\u001b[1;31m---------------------------------------------------------------------------\u001b[0m",
      "\u001b[1;31mNameError\u001b[0m                                 Traceback (most recent call last)",
      "Input \u001b[1;32mIn [75]\u001b[0m, in \u001b[0;36m<cell line: 1>\u001b[1;34m()\u001b[0m\n\u001b[1;32m----> 1\u001b[0m \u001b[43mtest14\u001b[49m(a \u001b[38;5;241m=\u001b[39m \u001b[38;5;241m7\u001b[39m, b \u001b[38;5;241m=\u001b[39m\u001b[38;5;124m'\u001b[39m\u001b[38;5;124msudh\u001b[39m\u001b[38;5;124m'\u001b[39m, c \u001b[38;5;241m=\u001b[39m \u001b[38;5;241m345\u001b[39m, d \u001b[38;5;241m=\u001b[39m \u001b[38;5;124m\"\u001b[39m\u001b[38;5;124msudh\u001b[39m\u001b[38;5;124m\"\u001b[39m , l \u001b[38;5;241m=\u001b[39m [\u001b[38;5;241m2\u001b[39m,\u001b[38;5;241m3\u001b[39m,\u001b[38;5;241m4\u001b[39m,\u001b[38;5;241m5\u001b[39m,\u001b[38;5;124m\"\u001b[39m\u001b[38;5;124msudh\u001b[39m\u001b[38;5;124m\"\u001b[39m])\n",
      "\u001b[1;31mNameError\u001b[0m: name 'test14' is not defined"
     ]
    }
   ],
   "source": [
    "test14(a = 7, b ='sudh', c = 345, d = \"sudh\" , l = [2,3,4,5,\"sudh\"])"
   ]
  },
  {
   "cell_type": "code",
   "execution_count": 87,
   "id": "fbb0c948",
   "metadata": {},
   "outputs": [],
   "source": [
    "def test14(**ak):\n",
    "    count = 0\n",
    "    print(ak)\n",
    "    print(a)\n",
    "    return\n"
   ]
  },
  {
   "cell_type": "code",
   "execution_count": 84,
   "id": "81841a67",
   "metadata": {},
   "outputs": [],
   "source": [
    "def test15(*kwargs):\n",
    "    return list(kwargs.values())"
   ]
  },
  {
   "cell_type": "code",
   "execution_count": 85,
   "id": "32cb6008",
   "metadata": {
    "scrolled": true
   },
   "outputs": [
    {
     "ename": "TypeError",
     "evalue": "test15() got an unexpected keyword argument 'a'",
     "output_type": "error",
     "traceback": [
      "\u001b[1;31m---------------------------------------------------------------------------\u001b[0m",
      "\u001b[1;31mTypeError\u001b[0m                                 Traceback (most recent call last)",
      "Input \u001b[1;32mIn [85]\u001b[0m, in \u001b[0;36m<cell line: 1>\u001b[1;34m()\u001b[0m\n\u001b[1;32m----> 1\u001b[0m \u001b[43mtest15\u001b[49m\u001b[43m(\u001b[49m\u001b[43ma\u001b[49m\u001b[43m \u001b[49m\u001b[38;5;241;43m=\u001b[39;49m\u001b[43m \u001b[49m\u001b[38;5;241;43m7\u001b[39;49m\u001b[43m,\u001b[49m\u001b[43m \u001b[49m\u001b[43mb\u001b[49m\u001b[43m \u001b[49m\u001b[38;5;241;43m=\u001b[39;49m\u001b[43m \u001b[49m\u001b[38;5;124;43m\"\u001b[39;49m\u001b[38;5;124;43msudh\u001b[39;49m\u001b[38;5;124;43m\"\u001b[39;49m\u001b[43m \u001b[49m\u001b[43m,\u001b[49m\u001b[43m \u001b[49m\u001b[43mc\u001b[49m\u001b[43m \u001b[49m\u001b[38;5;241;43m=\u001b[39;49m\u001b[43m \u001b[49m\u001b[38;5;241;43m345\u001b[39;49m\u001b[43m,\u001b[49m\u001b[43m \u001b[49m\u001b[43md\u001b[49m\u001b[43m \u001b[49m\u001b[38;5;241;43m=\u001b[39;49m\u001b[43m \u001b[49m\u001b[38;5;124;43m\"\u001b[39;49m\u001b[38;5;124;43msdr\u001b[39;49m\u001b[38;5;124;43m\"\u001b[39;49m\u001b[43m \u001b[49m\u001b[43m,\u001b[49m\u001b[43m \u001b[49m\u001b[43ml\u001b[49m\u001b[43m \u001b[49m\u001b[38;5;241;43m=\u001b[39;49m\u001b[43m \u001b[49m\u001b[43m[\u001b[49m\u001b[38;5;241;43m2\u001b[39;49m\u001b[43m,\u001b[49m\u001b[38;5;241;43m3\u001b[39;49m\u001b[43m,\u001b[49m\u001b[38;5;241;43m4\u001b[39;49m\u001b[43m,\u001b[49m\u001b[38;5;241;43m55\u001b[39;49m\u001b[43m,\u001b[49m\u001b[43m \u001b[49m\u001b[38;5;124;43m\"\u001b[39;49m\u001b[38;5;124;43mankur\u001b[39;49m\u001b[38;5;124;43m\"\u001b[39;49m\u001b[43m]\u001b[49m\u001b[43m)\u001b[49m\n",
      "\u001b[1;31mTypeError\u001b[0m: test15() got an unexpected keyword argument 'a'"
     ]
    }
   ],
   "source": [
    "test15(a = 7, b = \"sudh\" , c = 345, d = \"sdr\" , l = [2,3,4,55, \"ankur\"])"
   ]
  },
  {
   "cell_type": "code",
   "execution_count": null,
   "id": "20e29f2d",
   "metadata": {},
   "outputs": [],
   "source": []
  }
 ],
 "metadata": {
  "kernelspec": {
   "display_name": "Python 3 (ipykernel)",
   "language": "python",
   "name": "python3"
  },
  "language_info": {
   "codemirror_mode": {
    "name": "ipython",
    "version": 3
   },
   "file_extension": ".py",
   "mimetype": "text/x-python",
   "name": "python",
   "nbconvert_exporter": "python",
   "pygments_lexer": "ipython3",
   "version": "3.9.12"
  }
 },
 "nbformat": 4,
 "nbformat_minor": 5
}
