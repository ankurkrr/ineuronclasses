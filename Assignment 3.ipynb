{
 "cells": [
  {
   "cell_type": "code",
   "execution_count": 1,
   "id": "d757e829",
   "metadata": {},
   "outputs": [],
   "source": [
    "# 1. Why are functions advantageous to have in your programs?\n",
    "#Ans :- The advantages of using functions are Reducing duplication of code. \n",
    "#       Decomposing complex problems into simpler pieces. Improving clarity of the code"
   ]
  },
  {
   "cell_type": "code",
   "execution_count": 13,
   "id": "09ac5367",
   "metadata": {},
   "outputs": [
    {
     "data": {
      "text/plain": [
       "NoneType"
      ]
     },
     "execution_count": 13,
     "metadata": {},
     "output_type": "execute_result"
    }
   ],
   "source": []
  },
  {
   "cell_type": "code",
   "execution_count": 1,
   "id": "2143cbab",
   "metadata": {},
   "outputs": [],
   "source": [
    "# 2. When does the code in a function run: when it's specified or when it's called?\n",
    "#Ans :- The code in a function executes when the function is called, not when the function is defined"
   ]
  },
  {
   "cell_type": "code",
   "execution_count": null,
   "id": "e3e57410",
   "metadata": {},
   "outputs": [],
   "source": []
  },
  {
   "cell_type": "code",
   "execution_count": 2,
   "id": "48dc54b9",
   "metadata": {},
   "outputs": [],
   "source": [
    "# 3. What statement creates a function?\n",
    "#Ans. def statements defines a function"
   ]
  },
  {
   "cell_type": "code",
   "execution_count": null,
   "id": "a2d14a7c",
   "metadata": {},
   "outputs": [],
   "source": []
  },
  {
   "cell_type": "code",
   "execution_count": null,
   "id": "0c28895e",
   "metadata": {},
   "outputs": [],
   "source": [
    "#4.   What is the difference between a func A fution and a function call?\n",
    "#ANS. A function is a block of code that does a particular operation and returns a result. \n",
    "#     It usually accepts inputs as parameters and returns a result. The parameters are not mandatory. \n",
    "#     A function call is the code used to pass control to a function."
   ]
  },
  {
   "cell_type": "code",
   "execution_count": null,
   "id": "758189b0",
   "metadata": {},
   "outputs": [],
   "source": [
    "#5. How many global scopes are there in a Python program? How many local scopes?"
   ]
  }
 ],
 "metadata": {
  "kernelspec": {
   "display_name": "Python 3 (ipykernel)",
   "language": "python",
   "name": "python3"
  },
  "language_info": {
   "codemirror_mode": {
    "name": "ipython",
    "version": 3
   },
   "file_extension": ".py",
   "mimetype": "text/x-python",
   "name": "python",
   "nbconvert_exporter": "python",
   "pygments_lexer": "ipython3",
   "version": "3.9.12"
  }
 },
 "nbformat": 4,
 "nbformat_minor": 5
}
