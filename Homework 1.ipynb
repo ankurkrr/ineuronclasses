{
 "cells": [
  {
   "cell_type": "code",
   "execution_count": 50,
   "id": "19636aad",
   "metadata": {},
   "outputs": [],
   "source": [
    "s = \"This is my first python programming class and iam learning python string and its function\""
   ]
  },
  {
   "cell_type": "code",
   "execution_count": 93,
   "id": "6a0416af",
   "metadata": {},
   "outputs": [
    {
     "data": {
      "text/plain": [
       "'Tssyityopgmncsa mengyosi dtfco'"
      ]
     },
     "execution_count": 93,
     "metadata": {},
     "output_type": "execute_result"
    }
   ],
   "source": [
    "#1\n",
    "s[0:300:3]"
   ]
  },
  {
   "cell_type": "code",
   "execution_count": null,
   "id": "4a84276b",
   "metadata": {},
   "outputs": [],
   "source": []
  },
  {
   "cell_type": "code",
   "execution_count": 52,
   "id": "6223163c",
   "metadata": {},
   "outputs": [
    {
     "data": {
      "text/plain": [
       "'noitcnuf sti dna gnirts nohtyp gninrael mai dna ssalc gnimmargorp nohtyp tsrif ym si sihT'"
      ]
     },
     "execution_count": 52,
     "metadata": {},
     "output_type": "execute_result"
    }
   ],
   "source": [
    "#2\n",
    "s[::-1]"
   ]
  },
  {
   "cell_type": "code",
   "execution_count": null,
   "id": "f96669bd",
   "metadata": {},
   "outputs": [],
   "source": []
  },
  {
   "cell_type": "code",
   "execution_count": 53,
   "id": "185b26ac",
   "metadata": {},
   "outputs": [],
   "source": [
    "#3\n",
    "s = s.upper()"
   ]
  },
  {
   "cell_type": "code",
   "execution_count": 58,
   "id": "9783c20f",
   "metadata": {},
   "outputs": [
    {
     "data": {
      "text/plain": [
       "['this',\n",
       " 'is',\n",
       " 'my',\n",
       " 'first',\n",
       " 'python',\n",
       " 'programming',\n",
       " 'class',\n",
       " 'and',\n",
       " 'iam',\n",
       " 'learning',\n",
       " 'python',\n",
       " 'string',\n",
       " 'and',\n",
       " 'its',\n",
       " 'function']"
      ]
     },
     "execution_count": 58,
     "metadata": {},
     "output_type": "execute_result"
    }
   ],
   "source": [
    "s.split()"
   ]
  },
  {
   "cell_type": "code",
   "execution_count": null,
   "id": "573cc0f8",
   "metadata": {},
   "outputs": [],
   "source": []
  },
  {
   "cell_type": "code",
   "execution_count": 59,
   "id": "1c8b1bee",
   "metadata": {},
   "outputs": [],
   "source": [
    "#4\n",
    "s = s.lower()"
   ]
  },
  {
   "cell_type": "code",
   "execution_count": null,
   "id": "c01f0c05",
   "metadata": {},
   "outputs": [],
   "source": []
  },
  {
   "cell_type": "code",
   "execution_count": 92,
   "id": "5d1d9f07",
   "metadata": {},
   "outputs": [],
   "source": [
    "#5\n",
    "s = s.capitalize()"
   ]
  },
  {
   "cell_type": "code",
   "execution_count": null,
   "id": "604f28ba",
   "metadata": {},
   "outputs": [],
   "source": []
  },
  {
   "cell_type": "code",
   "execution_count": 62,
   "id": "8bcb45ed",
   "metadata": {},
   "outputs": [],
   "source": [
    "#6\n",
    "# Return True if the string is an alpha-numeric string, False otherwise.\n",
    "\n",
    "# A string is alpha-numeric if all characters in the string are alpha-numeric and\n",
    "# there is at least one character in the string."
   ]
  },
  {
   "cell_type": "code",
   "execution_count": 63,
   "id": "4b03ac63",
   "metadata": {},
   "outputs": [
    {
     "data": {
      "text/plain": [
       "False"
      ]
     },
     "execution_count": 63,
     "metadata": {},
     "output_type": "execute_result"
    }
   ],
   "source": [
    "s.isalnum()"
   ]
  },
  {
   "cell_type": "code",
   "execution_count": 64,
   "id": "6f111379",
   "metadata": {},
   "outputs": [],
   "source": [
    "#Return True if the string is an alphabetic string, False otherwise.\n",
    "\n",
    "#A string is alphabetic if all characters in the string are alphabetic and there\n",
    "#is at least one character in the string"
   ]
  },
  {
   "cell_type": "code",
   "execution_count": 65,
   "id": "24cfe4bc",
   "metadata": {},
   "outputs": [
    {
     "data": {
      "text/plain": [
       "False"
      ]
     },
     "execution_count": 65,
     "metadata": {},
     "output_type": "execute_result"
    }
   ],
   "source": [
    "s.isalpha()"
   ]
  },
  {
   "cell_type": "code",
   "execution_count": null,
   "id": "9d2e9648",
   "metadata": {},
   "outputs": [],
   "source": []
  },
  {
   "cell_type": "code",
   "execution_count": 66,
   "id": "cc64cc59",
   "metadata": {},
   "outputs": [
    {
     "data": {
      "text/plain": [
       "'This is my first python programming class and iam learning python string and its function'"
      ]
     },
     "execution_count": 66,
     "metadata": {},
     "output_type": "execute_result"
    }
   ],
   "source": [
    "#7\n",
    "s.expandtabs()"
   ]
  },
  {
   "cell_type": "code",
   "execution_count": 22,
   "id": "949b4570",
   "metadata": {},
   "outputs": [],
   "source": [
    "s1 = \"hello, bro\\t iam\\ using python\\t programming\""
   ]
  },
  {
   "cell_type": "code",
   "execution_count": 23,
   "id": "2809b333",
   "metadata": {},
   "outputs": [
    {
     "data": {
      "text/plain": [
       "'hello, bro       iam\\\\ using python       programming'"
      ]
     },
     "execution_count": 23,
     "metadata": {},
     "output_type": "execute_result"
    }
   ],
   "source": [
    "s1.expandtabs()"
   ]
  },
  {
   "cell_type": "code",
   "execution_count": null,
   "id": "eae6602d",
   "metadata": {},
   "outputs": [],
   "source": []
  },
  {
   "cell_type": "code",
   "execution_count": 87,
   "id": "99fb37ce",
   "metadata": {},
   "outputs": [
    {
     "data": {
      "text/plain": [
       "'hey,iam ankur'"
      ]
     },
     "execution_count": 87,
     "metadata": {},
     "output_type": "execute_result"
    }
   ],
   "source": [
    "#8 used to delete leading or trailing character\n",
    "s1.strip()"
   ]
  },
  {
   "cell_type": "code",
   "execution_count": 81,
   "id": "6f2eb889",
   "metadata": {},
   "outputs": [
    {
     "data": {
      "text/plain": [
       "'hey,iam ankur  '"
      ]
     },
     "execution_count": 81,
     "metadata": {},
     "output_type": "execute_result"
    }
   ],
   "source": [
    "s1 = \"   hey,iam ankur  \"\n",
    "s1.lstrip()"
   ]
  },
  {
   "cell_type": "code",
   "execution_count": 83,
   "id": "b7fd4c74",
   "metadata": {},
   "outputs": [
    {
     "data": {
      "text/plain": [
       "'   hey,iam ankur'"
      ]
     },
     "execution_count": 83,
     "metadata": {},
     "output_type": "execute_result"
    }
   ],
   "source": [
    "s1.rstrip()"
   ]
  },
  {
   "cell_type": "code",
   "execution_count": null,
   "id": "6dd2a4d0",
   "metadata": {},
   "outputs": [],
   "source": []
  },
  {
   "cell_type": "code",
   "execution_count": 88,
   "id": "9c2ff72d",
   "metadata": {},
   "outputs": [
    {
     "data": {
      "text/plain": [
       "'This is my first python programming class and iam learning python string and its ankur'"
      ]
     },
     "execution_count": 88,
     "metadata": {},
     "output_type": "execute_result"
    }
   ],
   "source": [
    "#9\n",
    "s.replace(\"function\", \"ankur\")"
   ]
  },
  {
   "cell_type": "code",
   "execution_count": null,
   "id": "5a6b440f",
   "metadata": {},
   "outputs": [],
   "source": []
  },
  {
   "cell_type": "code",
   "execution_count": 89,
   "id": "eca335f4",
   "metadata": {},
   "outputs": [
    {
     "data": {
      "text/plain": [
       "'iiiiiThis is my first python programming class and iam learning python string and its functioniiiiii'"
      ]
     },
     "execution_count": 89,
     "metadata": {},
     "output_type": "execute_result"
    }
   ],
   "source": [
    "#10\n",
    "s.center(100 , 'i')"
   ]
  },
  {
   "cell_type": "code",
   "execution_count": 24,
   "id": "e08c9866",
   "metadata": {},
   "outputs": [],
   "source": [
    "s1 =      \"hey i      'am ankur\""
   ]
  },
  {
   "cell_type": "code",
   "execution_count": 42,
   "id": "cbe2724f",
   "metadata": {},
   "outputs": [
    {
     "data": {
      "text/plain": [
       "\"aaaaaaaaaahey i      'am ankuraaaaaaaaaa\""
      ]
     },
     "execution_count": 42,
     "metadata": {},
     "output_type": "execute_result"
    }
   ],
   "source": [
    "s1.center(40 , 'a')"
   ]
  },
  {
   "cell_type": "code",
   "execution_count": null,
   "id": "402f5453",
   "metadata": {},
   "outputs": [],
   "source": []
  },
  {
   "cell_type": "code",
   "execution_count": 90,
   "id": "2c5cf041",
   "metadata": {},
   "outputs": [],
   "source": [
    "#11\n",
    "# Interpretor is trying to translate the code line by line or one statement at a time and it shows the error line by line\n",
    "# it is slower then the compiler cause of its line by line translation. due to its line by line translation it's easy to\n",
    "# understand the error and fixing it.\n",
    "\n",
    "# Compliler translates the code in one go. its does not go line by line that makes it more faster then interpretor and its\n",
    "# widely used. it shows the errors of the code in the last after translate the whole code. errors are little difficult to\n",
    "# understand as it complie whole code and then shows the error."
   ]
  },
  {
   "cell_type": "code",
   "execution_count": null,
   "id": "cd87c571",
   "metadata": {},
   "outputs": [],
   "source": []
  },
  {
   "cell_type": "code",
   "execution_count": 84,
   "id": "bb69dc9b",
   "metadata": {},
   "outputs": [],
   "source": [
    "#12 Python is not a fully interpreted language. it is complied interpreted language which first complied the code and then interpreted"
   ]
  },
  {
   "cell_type": "code",
   "execution_count": null,
   "id": "a4a15ccb",
   "metadata": {},
   "outputs": [],
   "source": []
  },
  {
   "cell_type": "code",
   "execution_count": 85,
   "id": "50380902",
   "metadata": {},
   "outputs": [],
   "source": [
    "#13 Python is used for web development, app development, Machilne learning, Game Development etc.\n",
    "# it is widely used for machine learning and artificial intelligence cause of its library. \n",
    "# there are so many library which helps developer to develop or train machines."
   ]
  },
  {
   "cell_type": "code",
   "execution_count": null,
   "id": "c32ef285",
   "metadata": {},
   "outputs": [],
   "source": []
  }
 ],
 "metadata": {
  "kernelspec": {
   "display_name": "Python 3 (ipykernel)",
   "language": "python",
   "name": "python3"
  },
  "language_info": {
   "codemirror_mode": {
    "name": "ipython",
    "version": 3
   },
   "file_extension": ".py",
   "mimetype": "text/x-python",
   "name": "python",
   "nbconvert_exporter": "python",
   "pygments_lexer": "ipython3",
   "version": "3.9.12"
  }
 },
 "nbformat": 4,
 "nbformat_minor": 5
}
