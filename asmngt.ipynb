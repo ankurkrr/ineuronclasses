{
 "cells": [
  {
   "cell_type": "code",
   "execution_count": null,
   "id": "03987166",
   "metadata": {},
   "outputs": [],
   "source": [
    "# Q1. In the below elements which of them are values or an expression? eg:- values can be\n",
    "# integer or string and expressions will be mathematical operators.\n",
    "# *\n",
    "# 'hello'\n",
    "# -87.8\n",
    "# -\n",
    "# /\n",
    "# +\n",
    "# 6"
   ]
  },
  {
   "cell_type": "code",
   "execution_count": null,
   "id": "0cc481e5",
   "metadata": {},
   "outputs": [],
   "source": [
    "#Ans 1"
   ]
  },
  {
   "cell_type": "code",
   "execution_count": null,
   "id": "dddc08ae",
   "metadata": {},
   "outputs": [],
   "source": [
    "# * It is an Expression called Mathematical Operators"
   ]
  },
  {
   "cell_type": "code",
   "execution_count": 4,
   "id": "de5124e8",
   "metadata": {},
   "outputs": [],
   "source": [
    "b = 'hello'"
   ]
  },
  {
   "cell_type": "code",
   "execution_count": 9,
   "id": "85906719",
   "metadata": {},
   "outputs": [
    {
     "data": {
      "text/plain": [
       "str"
      ]
     },
     "execution_count": 9,
     "metadata": {},
     "output_type": "execute_result"
    }
   ],
   "source": [
    "type(b)"
   ]
  },
  {
   "cell_type": "code",
   "execution_count": null,
   "id": "d08b7525",
   "metadata": {},
   "outputs": [],
   "source": [
    "#'hello' is Value"
   ]
  },
  {
   "cell_type": "code",
   "execution_count": 6,
   "id": "26c518dd",
   "metadata": {},
   "outputs": [],
   "source": [
    "c = -87.8"
   ]
  },
  {
   "cell_type": "code",
   "execution_count": 7,
   "id": "8e4747f2",
   "metadata": {},
   "outputs": [
    {
     "data": {
      "text/plain": [
       "float"
      ]
     },
     "execution_count": 7,
     "metadata": {},
     "output_type": "execute_result"
    }
   ],
   "source": [
    "type(c)"
   ]
  },
  {
   "cell_type": "code",
   "execution_count": 8,
   "id": "a20c375e",
   "metadata": {},
   "outputs": [],
   "source": [
    "# -87.8 is a Value"
   ]
  },
  {
   "cell_type": "code",
   "execution_count": null,
   "id": "cc6949bc",
   "metadata": {},
   "outputs": [],
   "source": [
    "# - is an Expression"
   ]
  },
  {
   "cell_type": "code",
   "execution_count": 13,
   "id": "152a7ec1",
   "metadata": {},
   "outputs": [],
   "source": [
    "# / is an Expression"
   ]
  },
  {
   "cell_type": "code",
   "execution_count": 14,
   "id": "aa68b54f",
   "metadata": {},
   "outputs": [],
   "source": [
    "# + is an Expression"
   ]
  },
  {
   "cell_type": "code",
   "execution_count": 15,
   "id": "19263bf8",
   "metadata": {},
   "outputs": [],
   "source": [
    "d = 6"
   ]
  },
  {
   "cell_type": "code",
   "execution_count": 16,
   "id": "f4dadddb",
   "metadata": {},
   "outputs": [
    {
     "data": {
      "text/plain": [
       "int"
      ]
     },
     "execution_count": 16,
     "metadata": {},
     "output_type": "execute_result"
    }
   ],
   "source": [
    "type (d)"
   ]
  },
  {
   "cell_type": "code",
   "execution_count": 17,
   "id": "93a83894",
   "metadata": {},
   "outputs": [],
   "source": [
    "# 6 is a Value"
   ]
  },
  {
   "cell_type": "code",
   "execution_count": null,
   "id": "654d9cad",
   "metadata": {},
   "outputs": [],
   "source": []
  },
  {
   "cell_type": "code",
   "execution_count": null,
   "id": "e0393689",
   "metadata": {},
   "outputs": [],
   "source": []
  },
  {
   "cell_type": "code",
   "execution_count": 18,
   "id": "ae4c218f",
   "metadata": {},
   "outputs": [],
   "source": [
    "#Q2. What is the difference between string and variable?\n",
    "#Ans - Variable is a location of memory where we can store any value to it.\n",
    "# for eg. x= 10, x is a variable which i assign to stores value 10. we can store integer, string, float etc. in its memory location.\n",
    "# anything assign in Variable using single or double quotes is string, like x = \"10\" or x = \"hello\" so \"10\" or \"hello\" is a string.\n",
    "# also, string is a datatypes."
   ]
  },
  {
   "cell_type": "code",
   "execution_count": null,
   "id": "3909389d",
   "metadata": {},
   "outputs": [],
   "source": []
  },
  {
   "cell_type": "code",
   "execution_count": 3,
   "id": "6040021c",
   "metadata": {},
   "outputs": [],
   "source": [
    "#Q3. Describe Three Diffrent datatypes.\n",
    "# Three Diffrent Datatypes are INTEGERS, FLOATING NUMBERS AND Boolean\n",
    "# INTEGERS represent as int it is a whole numbers whether it is positive or negative eg. 1,2,3,4 or -6, -5, -4 etc.\n",
    "# Floating no. are real no. represent as float it is also a whole no. whether positive or negative with decimal eg. 3.6, 4.1 , 2.0, -2.1, -2.3\n",
    "# Boolean is represent as bool it represent the value True or False with True=1 and False=0"
   ]
  },
  {
   "cell_type": "code",
   "execution_count": null,
   "id": "158157b1",
   "metadata": {},
   "outputs": [],
   "source": []
  },
  {
   "cell_type": "code",
   "execution_count": null,
   "id": "741d0adf",
   "metadata": {},
   "outputs": [],
   "source": [
    "#Q.4 What is Expressions madeup of? What do all expressions do?\n",
    " \n",
    "# Expressions are representations of value it is madeup of combination of Operators, variable, identifier etc. \n",
    "#They are different from statement in the fact that statements do something while expressions are representation of value. \n",
    "#For example any string is also an expressions since it represents the value of the string as well"
   ]
  },
  {
   "cell_type": "code",
   "execution_count": null,
   "id": "42b1e168",
   "metadata": {},
   "outputs": [],
   "source": []
  },
  {
   "cell_type": "code",
   "execution_count": 9,
   "id": "5d848270",
   "metadata": {},
   "outputs": [],
   "source": [
    "#Q.5 This assignment statements, like spam = 10. What is the difference between an expression and a statement?\n",
    "# Ans - Expressions are representations of value it is madeup of combination of Operators, variable, identifier etc.\n",
    "# Statement is just like a command that a python interpreter executes like print."
   ]
  },
  {
   "cell_type": "code",
   "execution_count": null,
   "id": "5b6b0b57",
   "metadata": {},
   "outputs": [],
   "source": []
  },
  {
   "cell_type": "code",
   "execution_count": 11,
   "id": "265fddb8",
   "metadata": {},
   "outputs": [
    {
     "data": {
      "text/plain": [
       "23"
      ]
     },
     "execution_count": 11,
     "metadata": {},
     "output_type": "execute_result"
    }
   ],
   "source": [
    "#Q.6 After running the following code, what does the variable bacon contain? bacon = 22 bacon + 1 \n",
    "bacon = 22\n",
    "bacon+1"
   ]
  },
  {
   "cell_type": "code",
   "execution_count": 12,
   "id": "9d4378f5",
   "metadata": {},
   "outputs": [],
   "source": [
    "# bacon contains integer value which is 22 and adding up +1 which gives output 23."
   ]
  },
  {
   "cell_type": "code",
   "execution_count": null,
   "id": "bcbaf41e",
   "metadata": {},
   "outputs": [],
   "source": []
  },
  {
   "cell_type": "code",
   "execution_count": 17,
   "id": "8f5b4ff9",
   "metadata": {},
   "outputs": [
    {
     "data": {
      "text/plain": [
       "'spamspamspam'"
      ]
     },
     "execution_count": 17,
     "metadata": {},
     "output_type": "execute_result"
    }
   ],
   "source": [
    "# Q.7 What should the values of the following two terms be?\n",
    "# 'spam'+'spamspam' 'spam'*3\n",
    "#Ans 7\n",
    "'spam'+ 'spamspam'"
   ]
  },
  {
   "cell_type": "code",
   "execution_count": 18,
   "id": "775f9627",
   "metadata": {},
   "outputs": [
    {
     "data": {
      "text/plain": [
       "'spamspamspam'"
      ]
     },
     "execution_count": 18,
     "metadata": {},
     "output_type": "execute_result"
    }
   ],
   "source": [
    "'spam'*3"
   ]
  },
  {
   "cell_type": "code",
   "execution_count": null,
   "id": "fe44f59c",
   "metadata": {},
   "outputs": [],
   "source": []
  },
  {
   "cell_type": "code",
   "execution_count": 19,
   "id": "52053905",
   "metadata": {},
   "outputs": [],
   "source": [
    "#Q8. Why is eggs a valid variable name while 100 is invalid?\n",
    "# Ans - Egg is Valid Variable because giving variable a name only starting by strings like albhabet not starting by \n",
    "# integers or float. for eg. we can name a variable by e100 but not 100e."
   ]
  },
  {
   "cell_type": "code",
   "execution_count": null,
   "id": "47e373e5",
   "metadata": {},
   "outputs": [],
   "source": []
  },
  {
   "cell_type": "code",
   "execution_count": 27,
   "id": "4a819225",
   "metadata": {},
   "outputs": [
    {
     "data": {
      "text/plain": [
       "0.0"
      ]
     },
     "execution_count": 27,
     "metadata": {},
     "output_type": "execute_result"
    }
   ],
   "source": [
    "#Q9. What three functions can be used to get the integer, floating-point number, or string version of a value?\n",
    "#Ans\n",
    "str()\n",
    "int()\n",
    "float()"
   ]
  },
  {
   "cell_type": "code",
   "execution_count": null,
   "id": "535ce285",
   "metadata": {},
   "outputs": [],
   "source": []
  },
  {
   "cell_type": "code",
   "execution_count": 4,
   "id": "5348ded5",
   "metadata": {},
   "outputs": [
    {
     "data": {
      "text/plain": [
       "'I have eaten99Burritos.'"
      ]
     },
     "execution_count": 4,
     "metadata": {},
     "output_type": "execute_result"
    }
   ],
   "source": [
    "#Q.10 Why does this expression cause an error? How can you fix it?\n",
    "# 'I have eaten' + 99 + 'burritos.'\n",
    "#aNS - It's an error cause 99 is integer while others are string and string is not go with integer, to fix this we need\n",
    "# to do typecasting\n",
    "# The Correct way to write is:-\n",
    "'I have eaten' +  str(99) +  'Burritos.'"
   ]
  },
  {
   "cell_type": "code",
   "execution_count": null,
   "id": "6b2e6e5c",
   "metadata": {},
   "outputs": [],
   "source": []
  }
 ],
 "metadata": {
  "kernelspec": {
   "display_name": "Python 3 (ipykernel)",
   "language": "python",
   "name": "python3"
  },
  "language_info": {
   "codemirror_mode": {
    "name": "ipython",
    "version": 3
   },
   "file_extension": ".py",
   "mimetype": "text/x-python",
   "name": "python",
   "nbconvert_exporter": "python",
   "pygments_lexer": "ipython3",
   "version": "3.9.12"
  }
 },
 "nbformat": 4,
 "nbformat_minor": 5
}
