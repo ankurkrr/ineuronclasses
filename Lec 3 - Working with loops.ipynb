{
 "cells": [
  {
   "cell_type": "code",
   "execution_count": 1,
   "id": "01da259d",
   "metadata": {},
   "outputs": [
    {
     "name": "stdout",
     "output_type": "stream",
     "text": [
      "1\n",
      "2\n",
      "3\n",
      "4\n",
      "no 10 rs notes are available\n"
     ]
    }
   ],
   "source": [
    "notes = 5\n",
    "i = 1\n",
    "while i < notes:\n",
    "    print(i)\n",
    "    i = i+1\n",
    "else:\n",
    "    print(\"no 10 rs notes are available\")"
   ]
  },
  {
   "cell_type": "code",
   "execution_count": 2,
   "id": "9ef5c62d",
   "metadata": {},
   "outputs": [],
   "source": [
    "s = \"sudh\""
   ]
  },
  {
   "cell_type": "code",
   "execution_count": 3,
   "id": "61ca9c38",
   "metadata": {},
   "outputs": [
    {
     "data": {
      "text/plain": [
       "'h'"
      ]
     },
     "execution_count": 3,
     "metadata": {},
     "output_type": "execute_result"
    }
   ],
   "source": [
    "s[3]"
   ]
  },
  {
   "cell_type": "code",
   "execution_count": 4,
   "id": "cda55ce2",
   "metadata": {},
   "outputs": [],
   "source": [
    "a = \"hello, i'am ankur kumar\""
   ]
  },
  {
   "cell_type": "code",
   "execution_count": 5,
   "id": "05f0e26d",
   "metadata": {},
   "outputs": [
    {
     "data": {
      "text/plain": [
       "'ell'"
      ]
     },
     "execution_count": 5,
     "metadata": {},
     "output_type": "execute_result"
    }
   ],
   "source": [
    "a[1:4]"
   ]
  },
  {
   "cell_type": "code",
   "execution_count": 6,
   "id": "11ff9e49",
   "metadata": {},
   "outputs": [
    {
     "data": {
      "text/plain": [
       "\"hello, i'am ankur kumar\""
      ]
     },
     "execution_count": 6,
     "metadata": {},
     "output_type": "execute_result"
    }
   ],
   "source": [
    "a[0:25:1]"
   ]
  },
  {
   "cell_type": "code",
   "execution_count": 58,
   "id": "ac9df6b9",
   "metadata": {},
   "outputs": [
    {
     "data": {
      "text/plain": [
       "\"ramuk rukna ma'i ,olle\""
      ]
     },
     "execution_count": 58,
     "metadata": {},
     "output_type": "execute_result"
    }
   ],
   "source": [
    "a[25:0:-1]"
   ]
  },
  {
   "cell_type": "code",
   "execution_count": 8,
   "id": "2d03a0b9",
   "metadata": {},
   "outputs": [],
   "source": [
    "b= \"hello, i'am nitish kumar\""
   ]
  },
  {
   "cell_type": "code",
   "execution_count": 9,
   "id": "d2d56c4a",
   "metadata": {},
   "outputs": [
    {
     "data": {
      "text/plain": [
       "\"ramuk hsitin ma'i ,olle\""
      ]
     },
     "execution_count": 9,
     "metadata": {},
     "output_type": "execute_result"
    }
   ],
   "source": [
    "b[25:0:-1]"
   ]
  },
  {
   "cell_type": "code",
   "execution_count": 10,
   "id": "bb066a94",
   "metadata": {},
   "outputs": [],
   "source": [
    "c= \"hello, i'am abhishek kumar pandey\""
   ]
  },
  {
   "cell_type": "code",
   "execution_count": 11,
   "id": "98e364cb",
   "metadata": {},
   "outputs": [
    {
     "data": {
      "text/plain": [
       "\"yednap ramuk kehsihba ma'i ,olle\""
      ]
     },
     "execution_count": 11,
     "metadata": {},
     "output_type": "execute_result"
    }
   ],
   "source": [
    "c[33:0:-1]"
   ]
  },
  {
   "cell_type": "code",
   "execution_count": 12,
   "id": "4686a1ed",
   "metadata": {},
   "outputs": [
    {
     "data": {
      "text/plain": [
       "\"yednap ramuk kehsihba ma'i ,olleh\""
      ]
     },
     "execution_count": 12,
     "metadata": {},
     "output_type": "execute_result"
    }
   ],
   "source": [
    "c[::-1]"
   ]
  },
  {
   "cell_type": "code",
   "execution_count": 13,
   "id": "e96dc842",
   "metadata": {},
   "outputs": [],
   "source": [
    "s = \"sudh\""
   ]
  },
  {
   "cell_type": "code",
   "execution_count": 14,
   "id": "02d769d6",
   "metadata": {},
   "outputs": [
    {
     "data": {
      "text/plain": [
       "'d'"
      ]
     },
     "execution_count": 14,
     "metadata": {},
     "output_type": "execute_result"
    }
   ],
   "source": [
    "s[-2]"
   ]
  },
  {
   "cell_type": "code",
   "execution_count": 15,
   "id": "c12f4a35",
   "metadata": {},
   "outputs": [
    {
     "data": {
      "text/plain": [
       "'sudh'"
      ]
     },
     "execution_count": 15,
     "metadata": {},
     "output_type": "execute_result"
    }
   ],
   "source": [
    "s"
   ]
  },
  {
   "cell_type": "code",
   "execution_count": 16,
   "id": "c121996a",
   "metadata": {},
   "outputs": [
    {
     "data": {
      "text/plain": [
       "'s'"
      ]
     },
     "execution_count": 16,
     "metadata": {},
     "output_type": "execute_result"
    }
   ],
   "source": [
    "s[0]"
   ]
  },
  {
   "cell_type": "code",
   "execution_count": 17,
   "id": "076d3e19",
   "metadata": {},
   "outputs": [
    {
     "data": {
      "text/plain": [
       "'u'"
      ]
     },
     "execution_count": 17,
     "metadata": {},
     "output_type": "execute_result"
    }
   ],
   "source": [
    "s[1]"
   ]
  },
  {
   "cell_type": "code",
   "execution_count": 18,
   "id": "fc13c454",
   "metadata": {},
   "outputs": [
    {
     "name": "stdout",
     "output_type": "stream",
     "text": [
      "s\n",
      "u\n",
      "d\n",
      "h\n"
     ]
    }
   ],
   "source": [
    "for i in s:\n",
    "    print(i)"
   ]
  },
  {
   "cell_type": "code",
   "execution_count": 2,
   "id": "eb1df517",
   "metadata": {},
   "outputs": [],
   "source": [
    "s = \"my name is ankur\""
   ]
  },
  {
   "cell_type": "code",
   "execution_count": 77,
   "id": "b47e7e47",
   "metadata": {},
   "outputs": [
    {
     "name": "stdout",
     "output_type": "stream",
     "text": [
      "my name is ankur\n",
      "my name is ankur\n",
      "my name is ankur\n",
      "my name is ankur\n",
      "my name is ankur\n",
      "my name is ankur\n",
      "my name is ankur\n",
      "my name is ankur\n",
      "my name is ankur\n",
      "my name is ankur\n",
      "my name is ankur\n",
      "my name is ankur\n",
      "my name is ankur\n",
      "my name is ankur\n",
      "my name is ankur\n",
      "my name is ankur\n"
     ]
    }
   ],
   "source": [
    "for i in s:\n",
    "    print(s)"
   ]
  },
  {
   "cell_type": "code",
   "execution_count": 79,
   "id": "8b102c6a",
   "metadata": {},
   "outputs": [
    {
     "name": "stdout",
     "output_type": "stream",
     "text": [
      "m\n",
      "y\n",
      " \n"
     ]
    }
   ],
   "source": [
    "for i in s:\n",
    "    if i == \"n\":\n",
    "        break\n",
    "    print(i)\n",
    "else:\n",
    "    if i == \"u\":\n",
    "        print(\"last char was u\")\n",
    "        \n",
    "    print(i)"
   ]
  },
  {
   "cell_type": "code",
   "execution_count": 3,
   "id": "6608b368",
   "metadata": {},
   "outputs": [],
   "source": [
    "s = \"ineuron\"\n",
    "ss=\"\"\n",
    "\n",
    "for i in range(len(s)):\n",
    "    if s[i] == \"n\":\n",
    "        continue\n",
    "    else:\n",
    "        ss = ss+s[i]"
   ]
  },
  {
   "cell_type": "code",
   "execution_count": 4,
   "id": "c5e57bab",
   "metadata": {},
   "outputs": [
    {
     "data": {
      "text/plain": [
       "'ieuro'"
      ]
     },
     "execution_count": 4,
     "metadata": {},
     "output_type": "execute_result"
    }
   ],
   "source": [
    "ss"
   ]
  },
  {
   "cell_type": "code",
   "execution_count": 24,
   "id": "e38dd80f",
   "metadata": {},
   "outputs": [
    {
     "data": {
      "text/plain": [
       "7"
      ]
     },
     "execution_count": 24,
     "metadata": {},
     "output_type": "execute_result"
    }
   ],
   "source": [
    "len(s)"
   ]
  },
  {
   "cell_type": "code",
   "execution_count": 25,
   "id": "46cc0b5a",
   "metadata": {},
   "outputs": [
    {
     "name": "stdout",
     "output_type": "stream",
     "text": [
      " *\n",
      "\n",
      " * *\n",
      "\n",
      " * * *\n",
      "\n",
      " * * * *\n",
      "\n",
      " * * * * *\n",
      "\n",
      " * * * * * *\n",
      "\n",
      " * * * * * * *\n",
      "\n"
     ]
    }
   ],
   "source": [
    "n = 7\n",
    "for i in range(0 ,n):\n",
    "    for j in range(0 ,i +1):\n",
    "\n",
    "        print(\" *\" , end =\"\")\n",
    "    print(\"\\n\")"
   ]
  },
  {
   "cell_type": "code",
   "execution_count": 26,
   "id": "7d567090",
   "metadata": {},
   "outputs": [],
   "source": [
    "s= \"my name is ankrwa\""
   ]
  },
  {
   "cell_type": "code",
   "execution_count": 27,
   "id": "f437d4fc",
   "metadata": {},
   "outputs": [
    {
     "data": {
      "text/plain": [
       "'my name i'"
      ]
     },
     "execution_count": 27,
     "metadata": {},
     "output_type": "execute_result"
    }
   ],
   "source": [
    "s[:9]"
   ]
  },
  {
   "cell_type": "code",
   "execution_count": 28,
   "id": "2dc7b871",
   "metadata": {},
   "outputs": [
    {
     "name": "stdout",
     "output_type": "stream",
     "text": [
      "         * \n",
      "        * * \n",
      "       * * * \n",
      "      * * * * \n",
      "     * * * * * \n",
      "    * * * * * * \n",
      "   * * * * * * * \n",
      "  * * * * * * * * \n",
      " * * * * * * * * * \n",
      "* * * * * * * * * * \n"
     ]
    }
   ],
   "source": [
    "n=10\n",
    "i=0\n",
    "while i<n:\n",
    "    print(\" \"*(n-i-1)+\"* \"*(i+1))\n",
    "    i +=1"
   ]
  },
  {
   "cell_type": "code",
   "execution_count": 29,
   "id": "da708220",
   "metadata": {},
   "outputs": [],
   "source": [
    "s=\"*\"*5"
   ]
  },
  {
   "cell_type": "code",
   "execution_count": 30,
   "id": "3507e412",
   "metadata": {},
   "outputs": [
    {
     "data": {
      "text/plain": [
       "'*****'"
      ]
     },
     "execution_count": 30,
     "metadata": {},
     "output_type": "execute_result"
    }
   ],
   "source": [
    "s"
   ]
  },
  {
   "cell_type": "code",
   "execution_count": 31,
   "id": "1f05880f",
   "metadata": {},
   "outputs": [
    {
     "name": "stdout",
     "output_type": "stream",
     "text": [
      "           * \n",
      "          * * \n",
      "         * * * \n",
      "        * * * * \n",
      "       * * * * * \n",
      "      * * * * * * \n",
      "     * * * * * * * \n",
      "    * * * * * * * * \n",
      "   * * * * * * * * * \n",
      "  * * * * * * * * * * \n"
     ]
    }
   ],
   "source": [
    "n = 10\n",
    "i = 0\n",
    "while i<n:\n",
    "    print(\" \"*(n-i+1)+\"* \"*(i+1))\n",
    "    i +=1"
   ]
  },
  {
   "cell_type": "code",
   "execution_count": 32,
   "id": "67a0008c",
   "metadata": {},
   "outputs": [
    {
     "name": "stdout",
     "output_type": "stream",
     "text": [
      "           * \n",
      "          * * \n",
      "         * * * \n",
      "        * * * * \n",
      "       * * * * * \n",
      "      * * * * * * \n",
      "     * * * * * * * \n",
      "    * * * * * * * * \n",
      "   * * * * * * * * * \n",
      "  * * * * * * * * * * \n"
     ]
    }
   ],
   "source": [
    "n = 10\n",
    "i = 0\n",
    "while i<n:\n",
    "    print(\" \"*(n-i+1)+\"* \"*(i+1))\n",
    "    i+=1"
   ]
  },
  {
   "cell_type": "code",
   "execution_count": 33,
   "id": "84d5d226",
   "metadata": {},
   "outputs": [],
   "source": [
    "l = list()"
   ]
  },
  {
   "cell_type": "code",
   "execution_count": 34,
   "id": "77d26736",
   "metadata": {},
   "outputs": [],
   "source": [
    "name = \"ankur\"\n",
    "phno = 54585\n",
    "addrs = \"sdmsfmf\"\n",
    "\n",
    "name, phno, addrs = \"sudh\" , 54585,\"fgfd\""
   ]
  },
  {
   "cell_type": "code",
   "execution_count": 35,
   "id": "43716ce3",
   "metadata": {},
   "outputs": [],
   "source": [
    "l = [\"sudh\", 34545, \"ddesed\"]"
   ]
  },
  {
   "cell_type": "code",
   "execution_count": 36,
   "id": "f0fe83a6",
   "metadata": {},
   "outputs": [
    {
     "data": {
      "text/plain": [
       "['sudh', 34545, 'ddesed']"
      ]
     },
     "execution_count": 36,
     "metadata": {},
     "output_type": "execute_result"
    }
   ],
   "source": [
    "l"
   ]
  },
  {
   "cell_type": "code",
   "execution_count": 37,
   "id": "5b041c02",
   "metadata": {},
   "outputs": [
    {
     "data": {
      "text/plain": [
       "'sudh'"
      ]
     },
     "execution_count": 37,
     "metadata": {},
     "output_type": "execute_result"
    }
   ],
   "source": [
    "l[0]"
   ]
  },
  {
   "cell_type": "code",
   "execution_count": 38,
   "id": "7c3e4de2",
   "metadata": {},
   "outputs": [
    {
     "data": {
      "text/plain": [
       "['sudh', 34545, 'ddesed']"
      ]
     },
     "execution_count": 38,
     "metadata": {},
     "output_type": "execute_result"
    }
   ],
   "source": [
    "l[::1]"
   ]
  },
  {
   "cell_type": "code",
   "execution_count": 39,
   "id": "92996bdf",
   "metadata": {},
   "outputs": [
    {
     "data": {
      "text/plain": [
       "type[['sudh', 34545, 'ddesed']]"
      ]
     },
     "execution_count": 39,
     "metadata": {},
     "output_type": "execute_result"
    }
   ],
   "source": [
    "type[l]"
   ]
  },
  {
   "cell_type": "code",
   "execution_count": 40,
   "id": "bb99d06a",
   "metadata": {},
   "outputs": [
    {
     "data": {
      "text/plain": [
       "list"
      ]
     },
     "execution_count": 40,
     "metadata": {},
     "output_type": "execute_result"
    }
   ],
   "source": [
    "type(l)"
   ]
  },
  {
   "cell_type": "code",
   "execution_count": 41,
   "id": "d4491c8d",
   "metadata": {},
   "outputs": [],
   "source": [
    "ll =[]"
   ]
  },
  {
   "cell_type": "code",
   "execution_count": 42,
   "id": "787f5c7d",
   "metadata": {},
   "outputs": [
    {
     "data": {
      "text/plain": [
       "list"
      ]
     },
     "execution_count": 42,
     "metadata": {},
     "output_type": "execute_result"
    }
   ],
   "source": [
    "type(ll)"
   ]
  },
  {
   "cell_type": "code",
   "execution_count": 43,
   "id": "398e3767",
   "metadata": {},
   "outputs": [],
   "source": [
    "l2 = list()"
   ]
  },
  {
   "cell_type": "code",
   "execution_count": 44,
   "id": "46ec12d2",
   "metadata": {},
   "outputs": [],
   "source": [
    "l2 = list()"
   ]
  },
  {
   "cell_type": "code",
   "execution_count": 45,
   "id": "51b98154",
   "metadata": {},
   "outputs": [
    {
     "data": {
      "text/plain": [
       "list"
      ]
     },
     "execution_count": 45,
     "metadata": {},
     "output_type": "execute_result"
    }
   ],
   "source": [
    "type(l2)"
   ]
  },
  {
   "cell_type": "code",
   "execution_count": 6,
   "id": "eb2fd96d",
   "metadata": {},
   "outputs": [],
   "source": [
    "l = [\"ankur\", 3454,\"sdfdfddf\", True, 45+8j, [34,4,5,\"lk\"],35.07]"
   ]
  },
  {
   "cell_type": "code",
   "execution_count": 8,
   "id": "ad4a0951",
   "metadata": {},
   "outputs": [
    {
     "data": {
      "text/plain": [
       "[35.07, [34, 4, 5, 'lk'], (45+8j), True, 'sdfdfddf', 3454, 'ankur']"
      ]
     },
     "execution_count": 8,
     "metadata": {},
     "output_type": "execute_result"
    }
   ],
   "source": [
    "l[::-1]"
   ]
  },
  {
   "cell_type": "code",
   "execution_count": 13,
   "id": "65a18017",
   "metadata": {},
   "outputs": [
    {
     "data": {
      "text/plain": [
       "range(4, 50)"
      ]
     },
     "execution_count": 13,
     "metadata": {},
     "output_type": "execute_result"
    }
   ],
   "source": [
    "range(4,50)"
   ]
  },
  {
   "cell_type": "code",
   "execution_count": 49,
   "id": "3bc41ff0",
   "metadata": {},
   "outputs": [
    {
     "name": "stdout",
     "output_type": "stream",
     "text": [
      "4\n",
      "5\n",
      "6\n",
      "7\n",
      "8\n",
      "9\n"
     ]
    }
   ],
   "source": [
    "for i in range(4,10):\n",
    "    print(i)"
   ]
  },
  {
   "cell_type": "code",
   "execution_count": 50,
   "id": "2a3bc312",
   "metadata": {},
   "outputs": [
    {
     "data": {
      "text/plain": [
       "[0, 1, 2, 3, 4, 5, 6, 7, 8, 9]"
      ]
     },
     "execution_count": 50,
     "metadata": {},
     "output_type": "execute_result"
    }
   ],
   "source": [
    "list(range(10))"
   ]
  },
  {
   "cell_type": "code",
   "execution_count": 51,
   "id": "28bb295e",
   "metadata": {},
   "outputs": [
    {
     "name": "stdout",
     "output_type": "stream",
     "text": [
      "34\n",
      "<class 'int'>\n",
      "38\n",
      "<class 'int'>\n",
      "43\n",
      "<class 'int'>\n",
      "43\n",
      "<class 'str'>\n"
     ]
    }
   ],
   "source": [
    "for i in l:\n",
    "    if type(i) == list:\n",
    "        n = 0\n",
    "        for j in i:\n",
    "            if type(j)== int:\n",
    "                n = n+j\n",
    "            print(n)\n",
    "            \n",
    "            print (type(j))"
   ]
  },
  {
   "cell_type": "code",
   "execution_count": 52,
   "id": "282e5aee",
   "metadata": {},
   "outputs": [
    {
     "data": {
      "text/plain": [
       "7"
      ]
     },
     "execution_count": 52,
     "metadata": {},
     "output_type": "execute_result"
    }
   ],
   "source": [
    "len(l)"
   ]
  },
  {
   "cell_type": "code",
   "execution_count": null,
   "id": "1f15c9ba",
   "metadata": {},
   "outputs": [],
   "source": []
  }
 ],
 "metadata": {
  "kernelspec": {
   "display_name": "Python 3 (ipykernel)",
   "language": "python",
   "name": "python3"
  },
  "language_info": {
   "codemirror_mode": {
    "name": "ipython",
    "version": 3
   },
   "file_extension": ".py",
   "mimetype": "text/x-python",
   "name": "python",
   "nbconvert_exporter": "python",
   "pygments_lexer": "ipython3",
   "version": "3.9.12"
  }
 },
 "nbformat": 4,
 "nbformat_minor": 5
}
