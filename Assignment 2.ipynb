{
 "cells": [
  {
   "cell_type": "code",
   "execution_count": 20,
   "id": "37a757f0",
   "metadata": {},
   "outputs": [
    {
     "name": "stdout",
     "output_type": "stream",
     "text": [
      "True <class 'bool'>\n",
      "False <class 'bool'>\n"
     ]
    }
   ],
   "source": [
    "# Q1.What are the two values of the Boolean data type? \n",
    "# How do you write them?\n",
    "\n",
    "# Ans - The Two Values of boolean data type are True and False. \n",
    "a = True\n",
    "b = False\n",
    "print(a, type(a))\n",
    "print(b, type(b))\n",
    "\n"
   ]
  },
  {
   "cell_type": "code",
   "execution_count": null,
   "id": "29f422e0",
   "metadata": {},
   "outputs": [],
   "source": []
  },
  {
   "cell_type": "code",
   "execution_count": 21,
   "id": "deabb729",
   "metadata": {},
   "outputs": [],
   "source": [
    "# Q2. What are the three different types of Boolean operators?\n",
    "\n",
    "# ans - and , or , not are the three diffrent types of boolean operators."
   ]
  },
  {
   "cell_type": "code",
   "execution_count": null,
   "id": "57cb4d64",
   "metadata": {},
   "outputs": [],
   "source": []
  },
  {
   "cell_type": "code",
   "execution_count": 22,
   "id": "260e4f53",
   "metadata": {},
   "outputs": [
    {
     "ename": "IndentationError",
     "evalue": "unexpected indent (1029013014.py, line 5)",
     "output_type": "error",
     "traceback": [
      "\u001b[1;36m  Input \u001b[1;32mIn [22]\u001b[1;36m\u001b[0m\n\u001b[1;33m    True and True = True\u001b[0m\n\u001b[1;37m    ^\u001b[0m\n\u001b[1;31mIndentationError\u001b[0m\u001b[1;31m:\u001b[0m unexpected indent\n"
     ]
    }
   ],
   "source": [
    "#Q3. Make a list of each Boolean operator's truth tables (i.e. every possible combination of Boolean\n",
    "# values for the operator and what it evaluate ).\n",
    "\n",
    "# Ans - Truth Table for and operaotor\n",
    "        True and True = True\n",
    "        True and False = False\n",
    "        False and True = False\n",
    "        False and False = False\n",
    "\n",
    "        Truth Table for or operaotor\n",
    "        True and True = True\n",
    "        True and False = True\n",
    "        False and True = True\n",
    "        False and False = False\n",
    "\n",
    "        Truth Table for not operaotor\n",
    "        True not = False \n",
    "        False not = True"
   ]
  },
  {
   "cell_type": "code",
   "execution_count": null,
   "id": "4a7024bd",
   "metadata": {},
   "outputs": [],
   "source": []
  },
  {
   "cell_type": "code",
   "execution_count": 23,
   "id": "4d8e31e4",
   "metadata": {
    "scrolled": true
   },
   "outputs": [
    {
     "name": "stdout",
     "output_type": "stream",
     "text": [
      "False\n",
      "False\n",
      "True\n",
      "False\n",
      "False\n",
      "True\n"
     ]
    }
   ],
   "source": [
    "#Q.4 What are the values of the following expressions?\n",
    "print((5 > 4) and (3 == 5))                  #false\n",
    "print(not (5 > 4))                           #false\n",
    "print((5 > 4) or (3 == 5))                   #True\n",
    "print(not ((5 > 4) or (3 == 5)))             #False\n",
    "print((True and True) and (True == False))   #false\n",
    "print((not False) or (not True))             #True"
   ]
  },
  {
   "cell_type": "code",
   "execution_count": null,
   "id": "3f19e377",
   "metadata": {},
   "outputs": [],
   "source": []
  },
  {
   "cell_type": "code",
   "execution_count": 24,
   "id": "b2d4f146",
   "metadata": {},
   "outputs": [
    {
     "ename": "IndentationError",
     "evalue": "unexpected indent (2143430617.py, line 2)",
     "output_type": "error",
     "traceback": [
      "\u001b[1;36m  Input \u001b[1;32mIn [24]\u001b[1;36m\u001b[0m\n\u001b[1;33m    =  Equal to\u001b[0m\n\u001b[1;37m    ^\u001b[0m\n\u001b[1;31mIndentationError\u001b[0m\u001b[1;31m:\u001b[0m unexpected indent\n"
     ]
    }
   ],
   "source": [
    "#Q.5 What are the 6 comparison operators?\n",
    "    =  Equal to\n",
    "    >  Greater than\n",
    "    <  Less than\n",
    "    >= Greater than or equal to"
   ]
  },
  {
   "cell_type": "code",
   "execution_count": null,
   "id": "e5d566b9",
   "metadata": {},
   "outputs": [],
   "source": []
  },
  {
   "cell_type": "code",
   "execution_count": 25,
   "id": "384a2537",
   "metadata": {},
   "outputs": [
    {
     "name": "stdout",
     "output_type": "stream",
     "text": [
      "False\n"
     ]
    }
   ],
   "source": [
    "#Q.6 How do you tell the difference between the equal to and assignment operators?Describe a condition and when you would use one\n",
    "# ans :-\n",
    "#       = assignment operators are used to assigning the value to a variable\n",
    "#       == eual to used to compare between to values. it return as boolean.\n",
    "    #a = 5 - assignment operator assign value to variable a.\n",
    "    # a==b - eual to operator, compare between variable\n",
    "a = 5\n",
    "b = 3\n",
    "if a==b:\n",
    "    print(\"True\")\n",
    "else:\n",
    "    print(\"False\")"
   ]
  },
  {
   "cell_type": "code",
   "execution_count": null,
   "id": "4aa7bbb3",
   "metadata": {},
   "outputs": [],
   "source": []
  },
  {
   "cell_type": "code",
   "execution_count": 26,
   "id": "f4478740",
   "metadata": {},
   "outputs": [
    {
     "name": "stdout",
     "output_type": "stream",
     "text": [
      "ham\n",
      "spam\n",
      "spam\n"
     ]
    }
   ],
   "source": [
    "# 7. Identify the three blocks in this code:\n",
    "spam = 0\n",
    "if spam == 10:\n",
    "    print('eggs') #block\n",
    "if spam > 5:\n",
    "    print('bacon') #block\n",
    "else:\n",
    "    print('ham') #block\n",
    "    print('spam')\n",
    "    print('spam')"
   ]
  },
  {
   "cell_type": "code",
   "execution_count": null,
   "id": "0de04e44",
   "metadata": {},
   "outputs": [],
   "source": []
  },
  {
   "cell_type": "code",
   "execution_count": 29,
   "id": "0505e42e",
   "metadata": {},
   "outputs": [
    {
     "name": "stdout",
     "output_type": "stream",
     "text": [
      "Enter Value : 3\n",
      "Greetings!\n"
     ]
    }
   ],
   "source": [
    "# 8. Write code that prints Hello if 1 is stored in spam, prints Howdy if 2 is stored in spam, and prints Greetings! if anything else is stored in spam.\n",
    "spam = int(input(\"Enter Value : \"))\n",
    "if spam == 1:\n",
    "    print(\"Hello\")\n",
    "elif spam == 2:\n",
    "    print(\"Howdy\")\n",
    "else:\n",
    "    print(\"Greetings!\")"
   ]
  },
  {
   "cell_type": "code",
   "execution_count": null,
   "id": "89c91b53",
   "metadata": {},
   "outputs": [],
   "source": [
    "#Q9. If your programme is stuck in an endless loop, what keys you’ll press?\n",
    "\n",
    "#ans - CTRL - C or Go to kernel menu above and interupt or restart the kernal"
   ]
  },
  {
   "cell_type": "code",
   "execution_count": null,
   "id": "d94623b5",
   "metadata": {},
   "outputs": [],
   "source": []
  },
  {
   "cell_type": "code",
   "execution_count": null,
   "id": "7b0672bf",
   "metadata": {},
   "outputs": [],
   "source": [
    "# 10. How can you tell the difference between break and continue?\n",
    "\n",
    "#ans - break statment terminates the execution of the loop and pass the control to next loop or main body.\n",
    "# whereas, continue statement is encountered, it skips the current iteration and executes the very next iteration in the loop."
   ]
  },
  {
   "cell_type": "code",
   "execution_count": null,
   "id": "483cc297",
   "metadata": {},
   "outputs": [],
   "source": []
  },
  {
   "cell_type": "code",
   "execution_count": 16,
   "id": "bd78f55f",
   "metadata": {},
   "outputs": [],
   "source": [
    "# Q11. In a for loop, what is the difference between range(10), range(0, 10), and range(0, 10, 1)?\n",
    "\n",
    "#ans - range(10) - call the range from 0, 9 but not include 10. it contains 10 elements\n",
    "#     range(0, 10) - it tells the loop to start from 0 and to till 10 but excluding 10.\n",
    "#      range(0,10,1) - it tells the loop to increase variable by 1 on each iteration."
   ]
  },
  {
   "cell_type": "code",
   "execution_count": null,
   "id": "68b8e17f",
   "metadata": {},
   "outputs": [],
   "source": []
  },
  {
   "cell_type": "code",
   "execution_count": 30,
   "id": "343a984c",
   "metadata": {
    "scrolled": true
   },
   "outputs": [
    {
     "name": "stdout",
     "output_type": "stream",
     "text": [
      "Using For loop :- \n",
      "1 2 3 4 5 6 7 8 9 10 \n",
      "\n",
      "Usig While Loop\n",
      "1 2 3 4 5 6 7 8 9 10 "
     ]
    }
   ],
   "source": [
    "#Q.12 Write a short program that prints the numbers 1 to 10 using a for loop. Then write an equivalent\n",
    "#     program that prints the numbers 1 to 10 using a while loop.\n",
    "#ans :-\n",
    "print(\"Using For loop :- \")\n",
    "for i in range(1,11):\n",
    "    print(i , end=\" \")\n",
    "i=1\n",
    "print(\"\\n\")\n",
    "print(\"Usig While Loop\")\n",
    "while i<=10:\n",
    "    print(i, end =\" \")\n",
    "    i += 1"
   ]
  },
  {
   "cell_type": "code",
   "execution_count": null,
   "id": "a2edc855",
   "metadata": {},
   "outputs": [],
   "source": []
  },
  {
   "cell_type": "code",
   "execution_count": null,
   "id": "ceb9c12f",
   "metadata": {},
   "outputs": [],
   "source": [
    "# Q.13 If you had a function named bacon() inside a module named spam, how would you call it after importing spam?\n",
    "# ans - we can call it as spam.function()"
   ]
  }
 ],
 "metadata": {
  "kernelspec": {
   "display_name": "Python 3 (ipykernel)",
   "language": "python",
   "name": "python3"
  },
  "language_info": {
   "codemirror_mode": {
    "name": "ipython",
    "version": 3
   },
   "file_extension": ".py",
   "mimetype": "text/x-python",
   "name": "python",
   "nbconvert_exporter": "python",
   "pygments_lexer": "ipython3",
   "version": "3.9.12"
  }
 },
 "nbformat": 4,
 "nbformat_minor": 5
}
