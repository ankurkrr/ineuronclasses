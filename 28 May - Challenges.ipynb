{
 "cells": [
  {
   "cell_type": "code",
   "execution_count": 1,
   "id": "bf424dd5",
   "metadata": {},
   "outputs": [],
   "source": [
    "l = [[1,2,3,4], (2,3,4,5,6), (3,4,5,6,7) , set([23,4,5,45,4,4,5,45,45,4,5]), {\"k1\" :\"sudh\" , \"k2\" : \"ineuron\", \"k3\" : \"kumar\" , 3:6, 7:8}, [\"ineuron\", \"data science\"]]"
   ]
  },
  {
   "cell_type": "code",
   "execution_count": 2,
   "id": "85c29e6f",
   "metadata": {},
   "outputs": [
    {
     "name": "stdout",
     "output_type": "stream",
     "text": [
      "[1, 2, 3, 4]\n",
      "['ineuron', 'data science']\n"
     ]
    }
   ],
   "source": [
    "for i in l:\n",
    "    if type(i)== list:\n",
    "        print(i)"
   ]
  },
  {
   "cell_type": "code",
   "execution_count": 3,
   "id": "e5aeae91",
   "metadata": {},
   "outputs": [
    {
     "name": "stdout",
     "output_type": "stream",
     "text": [
      "{'k1': 'sudh', 'k2': 'ineuron', 'k3': 'kumar', 3: 6, 7: 8}\n"
     ]
    }
   ],
   "source": [
    "for i in l:\n",
    "    if type(i)== dict:\n",
    "        print(i)"
   ]
  },
  {
   "cell_type": "code",
   "execution_count": 4,
   "id": "ee954b6c",
   "metadata": {},
   "outputs": [
    {
     "name": "stdout",
     "output_type": "stream",
     "text": [
      "(2, 3, 4, 5, 6)\n",
      "(3, 4, 5, 6, 7)\n"
     ]
    }
   ],
   "source": [
    "for i in l:\n",
    "    if type(i)== tuple:\n",
    "        print(i)"
   ]
  },
  {
   "cell_type": "code",
   "execution_count": 5,
   "id": "795a9a3e",
   "metadata": {},
   "outputs": [
    {
     "name": "stdout",
     "output_type": "stream",
     "text": [
      "1 2 3 4 2 3 4 5 6 3 4 5 6 7 45 4 5 23 3 6\n",
      "7 8\n"
     ]
    }
   ],
   "source": [
    "l = [[1,2,3,4], (2,3,4,5,6), (3,4,5,6,7) , set([23,4,5,45,4,4,5,45,45,4,5]), {\"k1\" :\"sudh\" , \"k2\" : \"ineuron\", \"k3\" : \"kumar\" , 3:6, 7:8}, [\"ineuron\", \"data science\"]]\n",
    "l1= []\n",
    "l2 = []\n",
    "for i in l:\n",
    "    if type(i) == list or type(i)==tuple or type(i) == set:\n",
    "        for j in i:\n",
    "            if type(j) == int:\n",
    "                l1.append(j)\n",
    "                print(int(j), end=\" \")\n",
    "    if type(i)==dict:\n",
    "        for k in i:\n",
    "            if type(k) == int:\n",
    "                l2.append(k)\n",
    "                l2.append(i[k])\n",
    "                print(k, i[k])\n",
    "                "
   ]
  },
  {
   "cell_type": "code",
   "execution_count": 6,
   "id": "38bebab7",
   "metadata": {},
   "outputs": [
    {
     "data": {
      "text/plain": [
       "156"
      ]
     },
     "execution_count": 6,
     "metadata": {},
     "output_type": "execute_result"
    }
   ],
   "source": [
    "a= l1+l2\n",
    "sum(a)"
   ]
  },
  {
   "cell_type": "code",
   "execution_count": null,
   "id": "7d695cce",
   "metadata": {},
   "outputs": [],
   "source": []
  },
  {
   "cell_type": "code",
   "execution_count": 7,
   "id": "ea887161",
   "metadata": {},
   "outputs": [
    {
     "name": "stdout",
     "output_type": "stream",
     "text": [
      "ineuron\n"
     ]
    }
   ],
   "source": [
    "for i in l:\n",
    "    if type(i) == list or type(i) == tuple:\n",
    "        for j in i:\n",
    "            if type(j) == str:\n",
    "                if j == \"ineuron\":\n",
    "                    print(j)"
   ]
  },
  {
   "cell_type": "code",
   "execution_count": 8,
   "id": "a58aeceb",
   "metadata": {},
   "outputs": [
    {
     "name": "stdout",
     "output_type": "stream",
     "text": [
      "[1, 2, 3, 4] : 1 : 1\n",
      "[1, 2, 3, 4] : 2 : 1\n",
      "[1, 2, 3, 4] : 3 : 1\n",
      "[1, 2, 3, 4] : 4 : 1\n",
      "(2, 3, 4, 5, 6) : 2 : 1\n",
      "(2, 3, 4, 5, 6) : 3 : 1\n",
      "(2, 3, 4, 5, 6) : 4 : 1\n",
      "(2, 3, 4, 5, 6) : 5 : 1\n",
      "(2, 3, 4, 5, 6) : 6 : 1\n",
      "(3, 4, 5, 6, 7) : 3 : 1\n",
      "(3, 4, 5, 6, 7) : 4 : 1\n",
      "(3, 4, 5, 6, 7) : 5 : 1\n",
      "(3, 4, 5, 6, 7) : 6 : 1\n",
      "(3, 4, 5, 6, 7) : 7 : 1\n",
      "{45, 4, 5, 23} [{45, 4, 5, 23}]\n",
      "['ineuron', 'data science'] : ineuron : 1\n",
      "['ineuron', 'data science'] : data science : 1\n"
     ]
    }
   ],
   "source": [
    "l3 = []\n",
    "l4 = []\n",
    "for i in l:\n",
    "    if type(i) == list or type(i) == tuple or type(i)== str:\n",
    "        for j in i:\n",
    "            print(i, \":\", (j), \":\" , i.count(j))\n",
    "    if type(i)== set:\n",
    "        l4.append(i) == str\n",
    "        l5= str(l4)\n",
    "        print(i, l5)"
   ]
  },
  {
   "cell_type": "code",
   "execution_count": null,
   "id": "98347108",
   "metadata": {},
   "outputs": [],
   "source": []
  },
  {
   "cell_type": "code",
   "execution_count": 9,
   "id": "07c547de",
   "metadata": {},
   "outputs": [
    {
     "name": "stdout",
     "output_type": "stream",
     "text": [
      "5\n"
     ]
    }
   ],
   "source": [
    "for i in l:\n",
    "    if type(i) == dict:\n",
    "        print(len(i))"
   ]
  },
  {
   "cell_type": "code",
   "execution_count": 10,
   "id": "b25e8fb7",
   "metadata": {},
   "outputs": [
    {
     "name": "stdout",
     "output_type": "stream",
     "text": [
      "k1 sudh\n",
      "k2 ineuron\n",
      "k3 kumar\n",
      "ineuron\n",
      "data science\n"
     ]
    }
   ],
   "source": [
    "a1 = []\n",
    "for i in l:\n",
    "    if type(i) == list or type(i) == tuple or type(i) == str:\n",
    "        for j in i:\n",
    "            if type(j) == str:\n",
    "                print(j)\n",
    "    if type(i)==dict:\n",
    "        for x in i:\n",
    "            if type(x) == str:\n",
    "                a1.append(x)\n",
    "                print(x, i[x])"
   ]
  },
  {
   "cell_type": "code",
   "execution_count": 12,
   "id": "fbfa8787",
   "metadata": {},
   "outputs": [
    {
     "data": {
      "text/plain": [
       "1"
      ]
     },
     "execution_count": 12,
     "metadata": {},
     "output_type": "execute_result"
    }
   ],
   "source": [
    "i.count(j)"
   ]
  },
  {
   "cell_type": "code",
   "execution_count": null,
   "id": "011d2fe4",
   "metadata": {},
   "outputs": [],
   "source": []
  },
  {
   "cell_type": "code",
   "execution_count": null,
   "id": "ff3d490c",
   "metadata": {},
   "outputs": [],
   "source": []
  },
  {
   "cell_type": "code",
   "execution_count": null,
   "id": "4a3f9b1a",
   "metadata": {},
   "outputs": [],
   "source": []
  },
  {
   "cell_type": "code",
   "execution_count": null,
   "id": "13d47a41",
   "metadata": {},
   "outputs": [],
   "source": []
  },
  {
   "cell_type": "code",
   "execution_count": null,
   "id": "69ac58bd",
   "metadata": {},
   "outputs": [],
   "source": []
  },
  {
   "cell_type": "code",
   "execution_count": null,
   "id": "9a5ba28b",
   "metadata": {},
   "outputs": [],
   "source": []
  }
 ],
 "metadata": {
  "kernelspec": {
   "display_name": "Python 3 (ipykernel)",
   "language": "python",
   "name": "python3"
  },
  "language_info": {
   "codemirror_mode": {
    "name": "ipython",
    "version": 3
   },
   "file_extension": ".py",
   "mimetype": "text/x-python",
   "name": "python",
   "nbconvert_exporter": "python",
   "pygments_lexer": "ipython3",
   "version": "3.9.12"
  }
 },
 "nbformat": 4,
 "nbformat_minor": 5
}
