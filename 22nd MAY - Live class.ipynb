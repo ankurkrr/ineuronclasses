{
 "cells": [
  {
   "cell_type": "code",
   "execution_count": 5,
   "id": "9e6f215b",
   "metadata": {},
   "outputs": [
    {
     "name": "stdout",
     "output_type": "stream",
     "text": [
      "Enter Your Course Completion -: 39\n",
      "You can't apply for DS Job\n"
     ]
    }
   ],
   "source": [
    "a = int(input(\"Enter Your Course Completion -: \"))\n",
    "if a >= 40 :\n",
    "    print(\"You Can apply for Data Science Job \")\n",
    "else :\n",
    "    print(\"You can't apply for DS Job\")"
   ]
  },
  {
   "cell_type": "code",
   "execution_count": 6,
   "id": "d3d227ff",
   "metadata": {},
   "outputs": [],
   "source": [
    "a = 10\n",
    "if a == 11:\n",
    "    pass"
   ]
  },
  {
   "cell_type": "code",
   "execution_count": 7,
   "id": "4668f5f9",
   "metadata": {},
   "outputs": [],
   "source": [
    "a = 10\n",
    "if a > 5 :\n",
    "    pass"
   ]
  },
  {
   "cell_type": "code",
   "execution_count": 8,
   "id": "2d839950",
   "metadata": {},
   "outputs": [],
   "source": [
    "a = 10\n",
    "if a < 8:\n",
    "    print(\"Print This Condition is True\")"
   ]
  },
  {
   "cell_type": "code",
   "execution_count": 9,
   "id": "6d2610d4",
   "metadata": {},
   "outputs": [
    {
     "name": "stdout",
     "output_type": "stream",
     "text": [
      "My condition is false\n"
     ]
    }
   ],
   "source": [
    "a = 10\n",
    "if a != 11:\n",
    "    print(\"My condition is false\")\n",
    "else :\n",
    "    false"
   ]
  },
  {
   "cell_type": "code",
   "execution_count": 10,
   "id": "492c046c",
   "metadata": {},
   "outputs": [],
   "source": [
    "a = 10\n",
    "if a <5:\n",
    "    print(\"THIS condition is true\")\n",
    "    "
   ]
  },
  {
   "cell_type": "code",
   "execution_count": 9,
   "id": "ba8169c9",
   "metadata": {},
   "outputs": [
    {
     "name": "stdout",
     "output_type": "stream",
     "text": [
      "print this\n"
     ]
    }
   ],
   "source": [
    "a = 10\n",
    "if a ==11:\n",
    "    print(\"My condiion is false\")\n",
    "else:\n",
    "    print(\"print this\")"
   ]
  },
  {
   "cell_type": "code",
   "execution_count": 13,
   "id": "2bcf19be",
   "metadata": {},
   "outputs": [
    {
     "name": "stdout",
     "output_type": "stream",
     "text": [
      "enter a12\n",
      "Here we are trying to compare 10 with 12\n"
     ]
    }
   ],
   "source": [
    "a = int(input(\"enter a\"))\n",
    "if a ==12:\n",
    "    print(\"Here we are trying to compare 10 with 12\")\n",
    "elif a  == 10:\n",
    "    print(\"Trying to compare 10 wid 11\")\n",
    "else:\n",
    "    print(\" if all the block will fail then do this\")"
   ]
  },
  {
   "cell_type": "code",
   "execution_count": 25,
   "id": "6e698429",
   "metadata": {},
   "outputs": [
    {
     "name": "stdout",
     "output_type": "stream",
     "text": [
      "Enter The Price500\n",
      " for sure i will be able to buy\n"
     ]
    }
   ],
   "source": [
    "price = int(input(\"Enter The Price\"))\n",
    "if price > 500:\n",
    "    print(\"I won't be able to buy a jacket\")\n",
    "elif price < 500:\n",
    "    print(\"I will be able to buy a jacket\")\n",
    "elif price == 500:\n",
    "    print(\" for sure i will be able to buy\")\n",
    "else:\n",
    "    print(\" i don't know\")"
   ]
  },
  {
   "cell_type": "code",
   "execution_count": 26,
   "id": "71f59fee",
   "metadata": {},
   "outputs": [
    {
     "data": {
      "text/plain": [
       "False"
      ]
     },
     "execution_count": 26,
     "metadata": {},
     "output_type": "execute_result"
    }
   ],
   "source": [
    "price < 500"
   ]
  },
  {
   "cell_type": "code",
   "execution_count": 27,
   "id": "efd4730e",
   "metadata": {},
   "outputs": [
    {
     "data": {
      "text/plain": [
       "False"
      ]
     },
     "execution_count": 27,
     "metadata": {},
     "output_type": "execute_result"
    }
   ],
   "source": [
    "price > 500"
   ]
  },
  {
   "cell_type": "code",
   "execution_count": 28,
   "id": "69c3312a",
   "metadata": {},
   "outputs": [
    {
     "data": {
      "text/plain": [
       "True"
      ]
     },
     "execution_count": 28,
     "metadata": {},
     "output_type": "execute_result"
    }
   ],
   "source": [
    "price == 500"
   ]
  },
  {
   "cell_type": "code",
   "execution_count": 33,
   "id": "3435d401",
   "metadata": {},
   "outputs": [
    {
     "data": {
      "text/plain": [
       "True"
      ]
     },
     "execution_count": 33,
     "metadata": {},
     "output_type": "execute_result"
    }
   ],
   "source": [
    "l = [1,2,3,4,5,6]\n",
    "2 in l"
   ]
  },
  {
   "cell_type": "code",
   "execution_count": 34,
   "id": "be42f4eb",
   "metadata": {},
   "outputs": [
    {
     "name": "stdout",
     "output_type": "stream",
     "text": [
      "Perform the task\n"
     ]
    }
   ],
   "source": [
    "if 2 in l:\n",
    "    print(\"Perform the task\")\n",
    "else:\n",
    "    print(\"Do not perform this task\")"
   ]
  },
  {
   "cell_type": "code",
   "execution_count": 35,
   "id": "507cad72",
   "metadata": {},
   "outputs": [
    {
     "data": {
      "text/plain": [
       "False"
      ]
     },
     "execution_count": 35,
     "metadata": {},
     "output_type": "execute_result"
    }
   ],
   "source": [
    "60 in l"
   ]
  },
  {
   "cell_type": "code",
   "execution_count": 43,
   "id": "84f545c8",
   "metadata": {},
   "outputs": [],
   "source": [
    "l.remove(2)"
   ]
  },
  {
   "cell_type": "code",
   "execution_count": 47,
   "id": "0b3dc1ff",
   "metadata": {},
   "outputs": [
    {
     "name": "stdout",
     "output_type": "stream",
     "text": [
      "Try to do mul\n",
      "this is new statement\n"
     ]
    }
   ],
   "source": [
    "if 10 in l:\n",
    "    print(\"Try to do addition\")\n",
    "elif 2 in l :\n",
    "    print(\"Try to do sub\")\n",
    "elif 3 in l:\n",
    "    print(\"Try to do mul\")\n",
    "if 4 in l:\n",
    "    print(\"this is new statement\")"
   ]
  },
  {
   "cell_type": "code",
   "execution_count": 40,
   "id": "0d753e5f",
   "metadata": {},
   "outputs": [
    {
     "data": {
      "text/plain": [
       "False"
      ]
     },
     "execution_count": 40,
     "metadata": {},
     "output_type": "execute_result"
    }
   ],
   "source": [
    "10 in l"
   ]
  },
  {
   "cell_type": "code",
   "execution_count": 48,
   "id": "395ad3b7",
   "metadata": {},
   "outputs": [
    {
     "name": "stdout",
     "output_type": "stream",
     "text": [
      "this a new statement\n"
     ]
    }
   ],
   "source": [
    "if 4 in l:\n",
    "    print(\"this a new statement\")"
   ]
  },
  {
   "cell_type": "code",
   "execution_count": 49,
   "id": "c1475f4c",
   "metadata": {},
   "outputs": [],
   "source": [
    "a = 400"
   ]
  },
  {
   "cell_type": "code",
   "execution_count": 17,
   "id": "374baf2c",
   "metadata": {},
   "outputs": [
    {
     "name": "stdout",
     "output_type": "stream",
     "text": [
      "455\n"
     ]
    }
   ],
   "source": [
    "b = input()"
   ]
  },
  {
   "cell_type": "code",
   "execution_count": 18,
   "id": "0f2ca527",
   "metadata": {},
   "outputs": [
    {
     "data": {
      "text/plain": [
       "str"
      ]
     },
     "execution_count": 18,
     "metadata": {},
     "output_type": "execute_result"
    }
   ],
   "source": [
    "type(b)"
   ]
  },
  {
   "cell_type": "code",
   "execution_count": 19,
   "id": "0246b5c9",
   "metadata": {},
   "outputs": [
    {
     "name": "stdout",
     "output_type": "stream",
     "text": [
      "enter a445\n"
     ]
    }
   ],
   "source": [
    "b = int(input(\"enter a\"))"
   ]
  },
  {
   "cell_type": "code",
   "execution_count": 26,
   "id": "6e24b263",
   "metadata": {},
   "outputs": [
    {
     "name": "stdout",
     "output_type": "stream",
     "text": [
      "600\n",
      "I Won'nt be able to anything with this price tag\n"
     ]
    }
   ],
   "source": [
    "price = int(input())\n",
    "if price < 500:\n",
    "    print(\"I will be able to buy Something\")\n",
    "    if price < 400:\n",
    "        print(\"I will buy a jacket\")\n",
    "    elif price <300:\n",
    "        print(\"i will buy a shirt\")\n",
    "else :\n",
    "    print(\"I Won'nt be able to anything with this price tag\")"
   ]
  },
  {
   "cell_type": "code",
   "execution_count": 30,
   "id": "a9e0b230",
   "metadata": {},
   "outputs": [
    {
     "name": "stdout",
     "output_type": "stream",
     "text": [
      "Enter Marks 700\n",
      "Qualified GRE\n",
      "TOEFL\n"
     ]
    }
   ],
   "source": [
    "marks = int(input(\"Enter Marks \"))\n",
    "if marks >= 600:\n",
    "    print(\"Qualified GRE\")\n",
    "elif marks < 600:\n",
    "        print(\"No GRE\")\n",
    "if marks >= 500:\n",
    "    print(\"TOEFL\")\n",
    "else:\n",
    "    print(\"Try do something else\")"
   ]
  },
  {
   "cell_type": "code",
   "execution_count": 34,
   "id": "ba679911",
   "metadata": {},
   "outputs": [
    {
     "name": "stdout",
     "output_type": "stream",
     "text": [
      "Enter the number: 0\n",
      "Enter value is zero\n"
     ]
    }
   ],
   "source": [
    "val = float(input(\"Enter the number: \"))\n",
    "if val >= 0:\n",
    "    if val == 0:\n",
    "        print(\"Enter value is zero\")\n",
    "    else:\n",
    "        print(\"Value is a positive number\")\n",
    "else:\n",
    "    print(\"Enterd number is negative number\")"
   ]
  },
  {
   "cell_type": "code",
   "execution_count": 35,
   "id": "a90a0044",
   "metadata": {},
   "outputs": [
    {
     "name": "stdout",
     "output_type": "stream",
     "text": [
      "statement is false\n"
     ]
    }
   ],
   "source": [
    "a = 10\n",
    "if a < 10 and a > 10:\n",
    "    print(\"try to do something\")\n",
    "else:\n",
    "    print(\"statement is false\")"
   ]
  },
  {
   "cell_type": "code",
   "execution_count": 28,
   "id": "64aa2cba",
   "metadata": {},
   "outputs": [
    {
     "name": "stdout",
     "output_type": "stream",
     "text": [
      "this is sudh\n"
     ]
    }
   ],
   "source": [
    "a = \"sudh\"\n",
    "if a == \"sudh\" or a == \"Sudh\":\n",
    "    print(\"this is sudh\")"
   ]
  },
  {
   "cell_type": "code",
   "execution_count": 36,
   "id": "c86d3eb8",
   "metadata": {},
   "outputs": [
    {
     "name": "stdout",
     "output_type": "stream",
     "text": [
      "True\n"
     ]
    }
   ],
   "source": [
    "a = 10\n",
    "b = 11\n",
    "c = 12\n",
    "d = 13\n",
    "if a == 9 or b == 11 and c == 12 and d == 13:\n",
    "    print(\"True\")"
   ]
  },
  {
   "cell_type": "code",
   "execution_count": 38,
   "id": "776e52c1",
   "metadata": {},
   "outputs": [],
   "source": [
    "d = {'key1' :\"value\" , \"key2\": \"sudh\" , \"key3\": \"iNeuron\"}"
   ]
  },
  {
   "cell_type": "code",
   "execution_count": 39,
   "id": "4d9d2e47",
   "metadata": {},
   "outputs": [
    {
     "name": "stdout",
     "output_type": "stream",
     "text": [
      "All are true\n",
      "dict_values(['value', 'sudh', 'iNeuron'])\n"
     ]
    }
   ],
   "source": [
    "if d['key1']== \"value\" and d['key2']== \"sudh\" and d['key3']== \"iNeuron\":\n",
    "    print(\"All are true\")\n",
    "    print(d.values())\n",
    "else:\n",
    "    print(\"all the values are not verified\")"
   ]
  },
  {
   "cell_type": "code",
   "execution_count": 41,
   "id": "9943b26c",
   "metadata": {},
   "outputs": [],
   "source": [
    "l = [1,2,3,4,5,\"sudh\",234.52]"
   ]
  },
  {
   "cell_type": "code",
   "execution_count": 42,
   "id": "8c856a82",
   "metadata": {},
   "outputs": [
    {
     "data": {
      "text/plain": [
       "1"
      ]
     },
     "execution_count": 42,
     "metadata": {},
     "output_type": "execute_result"
    }
   ],
   "source": [
    "l[0]"
   ]
  },
  {
   "cell_type": "code",
   "execution_count": 43,
   "id": "d19aa61f",
   "metadata": {},
   "outputs": [
    {
     "data": {
      "text/plain": [
       "[3, 4, 5]"
      ]
     },
     "execution_count": 43,
     "metadata": {},
     "output_type": "execute_result"
    }
   ],
   "source": [
    "l[2:5]"
   ]
  },
  {
   "cell_type": "code",
   "execution_count": 44,
   "id": "4406e9d6",
   "metadata": {},
   "outputs": [
    {
     "data": {
      "text/plain": [
       "list"
      ]
     },
     "execution_count": 44,
     "metadata": {},
     "output_type": "execute_result"
    }
   ],
   "source": [
    "type(l)"
   ]
  },
  {
   "cell_type": "code",
   "execution_count": 52,
   "id": "5b0f4b64",
   "metadata": {},
   "outputs": [
    {
     "name": "stdout",
     "output_type": "stream",
     "text": [
      "1\n",
      "2\n",
      "3\n",
      "4\n",
      "5\n",
      "sudh1\n",
      "236.52\n"
     ]
    }
   ],
   "source": [
    "for i in l:\n",
    "    if type(i)== int:\n",
    "        print(i)\n",
    "        i+=1\n",
    "    if type(i) == float:\n",
    "            print(i+2)\n",
    "    elif type(i)== str:\n",
    "        print(i + str(1))"
   ]
  },
  {
   "cell_type": "code",
   "execution_count": 81,
   "id": "99398513",
   "metadata": {},
   "outputs": [
    {
     "data": {
      "text/plain": [
       "<function list.append(object, /)>"
      ]
     },
     "execution_count": 81,
     "metadata": {},
     "output_type": "execute_result"
    }
   ],
   "source": []
  },
  {
   "cell_type": "code",
   "execution_count": null,
   "id": "0acd7c30",
   "metadata": {},
   "outputs": [],
   "source": []
  }
 ],
 "metadata": {
  "kernelspec": {
   "display_name": "Python 3 (ipykernel)",
   "language": "python",
   "name": "python3"
  },
  "language_info": {
   "codemirror_mode": {
    "name": "ipython",
    "version": 3
   },
   "file_extension": ".py",
   "mimetype": "text/x-python",
   "name": "python",
   "nbconvert_exporter": "python",
   "pygments_lexer": "ipython3",
   "version": "3.9.12"
  }
 },
 "nbformat": 4,
 "nbformat_minor": 5
}
