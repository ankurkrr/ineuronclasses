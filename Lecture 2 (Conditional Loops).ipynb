{
 "cells": [
  {
   "cell_type": "code",
   "execution_count": 5,
   "id": "6cb0be1f",
   "metadata": {},
   "outputs": [
    {
     "name": "stdout",
     "output_type": "stream",
     "text": [
      "This is Valid Statement\n"
     ]
    }
   ],
   "source": [
    "a = 10\n",
    "b = 19\n",
    "\n",
    "if a == 10 or b > 20 :\n",
    "    print(\"This is Valid Statement\")\n",
    "elif a == 10 and b<=20:\n",
    "    print(\"This statement is valid inside elif\")\n",
    "else:\n",
    "    print (\"Condition is not valid\")"
   ]
  },
  {
   "cell_type": "code",
   "execution_count": 9,
   "id": "264c986f",
   "metadata": {},
   "outputs": [
    {
     "data": {
      "text/plain": [
       "True"
      ]
     },
     "execution_count": 9,
     "metadata": {},
     "output_type": "execute_result"
    }
   ],
   "source": [
    "a == 10 and b == 20"
   ]
  },
  {
   "cell_type": "code",
   "execution_count": 10,
   "id": "df896021",
   "metadata": {},
   "outputs": [
    {
     "data": {
      "text/plain": [
       "True"
      ]
     },
     "execution_count": 10,
     "metadata": {},
     "output_type": "execute_result"
    }
   ],
   "source": [
    "a == 10"
   ]
  },
  {
   "cell_type": "code",
   "execution_count": 11,
   "id": "e1dc5daa",
   "metadata": {},
   "outputs": [
    {
     "data": {
      "text/plain": [
       "True"
      ]
     },
     "execution_count": 11,
     "metadata": {},
     "output_type": "execute_result"
    }
   ],
   "source": [
    "b == 20"
   ]
  },
  {
   "cell_type": "code",
   "execution_count": 10,
   "id": "35a3e797",
   "metadata": {},
   "outputs": [
    {
     "name": "stdout",
     "output_type": "stream",
     "text": [
      "Write Your First Name Ankur\n",
      "Write Your Last Name Kumar\n",
      "The Statement is True\n"
     ]
    }
   ],
   "source": [
    "#task \n",
    "# take a input from your keyboard as your first name\n",
    "# and last name and then try to validate\n",
    "# write multiple condition by yourself\n",
    "\n",
    "a = str(input(\"Write Your First Name \"))\n",
    "b = str(input(\"Write Your Last Name \"))\n",
    "\n",
    "if a == \"Ankur\" and b == \"Kumar\":\n",
    "    print(\"The Statement is True\")\n",
    "else :\n",
    "    print (\"This is not Valid\")"
   ]
  },
  {
   "cell_type": "code",
   "execution_count": 3,
   "id": "4f6f2241",
   "metadata": {},
   "outputs": [
    {
     "name": "stdout",
     "output_type": "stream",
     "text": [
      "Enter Your Speed20\n",
      "Speed is Good\n",
      "Speed is Good\n",
      "Speed is Good\n",
      "Speed is Good\n",
      "Speed is Good\n",
      "Speed is Good\n",
      "Speed is Good\n",
      "Speed is Good\n",
      "Speed is Good\n"
     ]
    }
   ],
   "source": [
    "# While Loop\n",
    "\n",
    "initial_speed = int(input(\"Enter Your Speed\"))\n",
    "final_speed = 100\n",
    "count = 1\n",
    "while initial_speed <= final_speed:\n",
    "    print(\"Speed is Good\")\n",
    "    count = count+1\n",
    "    if count == 10:\n",
    "        break"
   ]
  },
  {
   "cell_type": "code",
   "execution_count": 23,
   "id": "73794844",
   "metadata": {},
   "outputs": [
    {
     "name": "stdout",
     "output_type": "stream",
     "text": [
      "1\n",
      "2\n",
      "3\n",
      "4\n"
     ]
    }
   ],
   "source": [
    "i = 1\n",
    "j = 5\n",
    "while i<j:\n",
    "    print(i)\n",
    "    i = i+1\n",
    "    "
   ]
  },
  {
   "cell_type": "code",
   "execution_count": null,
   "id": "c3eaaab3",
   "metadata": {},
   "outputs": [],
   "source": []
  }
 ],
 "metadata": {
  "kernelspec": {
   "display_name": "Python 3 (ipykernel)",
   "language": "python",
   "name": "python3"
  },
  "language_info": {
   "codemirror_mode": {
    "name": "ipython",
    "version": 3
   },
   "file_extension": ".py",
   "mimetype": "text/x-python",
   "name": "python",
   "nbconvert_exporter": "python",
   "pygments_lexer": "ipython3",
   "version": "3.9.12"
  }
 },
 "nbformat": 4,
 "nbformat_minor": 5
}
