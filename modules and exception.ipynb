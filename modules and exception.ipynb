{
 "cells": [
  {
   "cell_type": "code",
   "execution_count": 1,
   "id": "34d73b2e",
   "metadata": {},
   "outputs": [],
   "source": [
    "import math"
   ]
  },
  {
   "cell_type": "code",
   "execution_count": 2,
   "id": "c0ccfcd8",
   "metadata": {},
   "outputs": [
    {
     "data": {
      "text/plain": [
       "2.0"
      ]
     },
     "execution_count": 2,
     "metadata": {},
     "output_type": "execute_result"
    }
   ],
   "source": [
    "math.sqrt(4)"
   ]
  },
  {
   "cell_type": "code",
   "execution_count": 3,
   "id": "963dad68",
   "metadata": {},
   "outputs": [],
   "source": [
    "from math import sqrt , pi"
   ]
  },
  {
   "cell_type": "code",
   "execution_count": 4,
   "id": "794f1f0d",
   "metadata": {},
   "outputs": [
    {
     "data": {
      "text/plain": [
       "3.141592653589793"
      ]
     },
     "execution_count": 4,
     "metadata": {},
     "output_type": "execute_result"
    }
   ],
   "source": [
    "pi"
   ]
  },
  {
   "cell_type": "code",
   "execution_count": 5,
   "id": "6729d43a",
   "metadata": {},
   "outputs": [],
   "source": [
    "from math import *"
   ]
  },
  {
   "cell_type": "code",
   "execution_count": 6,
   "id": "9112423e",
   "metadata": {},
   "outputs": [
    {
     "data": {
      "text/plain": [
       "0.0"
      ]
     },
     "execution_count": 6,
     "metadata": {},
     "output_type": "execute_result"
    }
   ],
   "source": [
    "sin(0)"
   ]
  },
  {
   "cell_type": "code",
   "execution_count": 7,
   "id": "afcd17e8",
   "metadata": {},
   "outputs": [
    {
     "data": {
      "text/plain": [
       "2.6457513110645907"
      ]
     },
     "execution_count": 7,
     "metadata": {},
     "output_type": "execute_result"
    }
   ],
   "source": [
    "sqrt(7)"
   ]
  },
  {
   "cell_type": "code",
   "execution_count": 8,
   "id": "c0c8f5d9",
   "metadata": {},
   "outputs": [
    {
     "data": {
      "text/plain": [
       "3.141592653589793"
      ]
     },
     "execution_count": 8,
     "metadata": {},
     "output_type": "execute_result"
    }
   ],
   "source": [
    "pi"
   ]
  },
  {
   "cell_type": "code",
   "execution_count": 15,
   "id": "caa0f306",
   "metadata": {},
   "outputs": [
    {
     "data": {
      "text/plain": [
       "'C:\\\\Users\\\\Ankur\\\\Python code'"
      ]
     },
     "execution_count": 15,
     "metadata": {},
     "output_type": "execute_result"
    }
   ],
   "source": [
    "pwd()"
   ]
  },
  {
   "cell_type": "code",
   "execution_count": 18,
   "id": "56efba1a",
   "metadata": {},
   "outputs": [],
   "source": [
    "import test1"
   ]
  },
  {
   "cell_type": "code",
   "execution_count": 19,
   "id": "bcfaefd2",
   "metadata": {},
   "outputs": [],
   "source": [
    "import imp"
   ]
  },
  {
   "cell_type": "code",
   "execution_count": 20,
   "id": "face3ffa",
   "metadata": {},
   "outputs": [
    {
     "name": "stdout",
     "output_type": "stream",
     "text": [
      "this is my firs impor progrma\n"
     ]
    },
    {
     "data": {
      "text/plain": [
       "<module 'test1' from 'C:\\\\Users\\\\Ankur\\\\Python code\\\\test1.py'>"
      ]
     },
     "execution_count": 20,
     "metadata": {},
     "output_type": "execute_result"
    }
   ],
   "source": [
    "imp.reload(test1)"
   ]
  },
  {
   "cell_type": "code",
   "execution_count": 1,
   "id": "4dbe7323",
   "metadata": {},
   "outputs": [],
   "source": [
    "import addition"
   ]
  },
  {
   "cell_type": "code",
   "execution_count": 4,
   "id": "2663596c",
   "metadata": {},
   "outputs": [],
   "source": [
    "import addition"
   ]
  },
  {
   "cell_type": "code",
   "execution_count": 6,
   "id": "8dbe40b6",
   "metadata": {},
   "outputs": [],
   "source": [
    "import add"
   ]
  },
  {
   "cell_type": "code",
   "execution_count": 7,
   "id": "2e121919",
   "metadata": {},
   "outputs": [
    {
     "data": {
      "text/plain": [
       "10"
      ]
     },
     "execution_count": 7,
     "metadata": {},
     "output_type": "execute_result"
    }
   ],
   "source": [
    "add.addition(4,6)"
   ]
  },
  {
   "cell_type": "code",
   "execution_count": 8,
   "id": "7b2848a8",
   "metadata": {},
   "outputs": [],
   "source": [
    "import addition"
   ]
  },
  {
   "cell_type": "code",
   "execution_count": 9,
   "id": "574126cf",
   "metadata": {},
   "outputs": [
    {
     "data": {
      "text/plain": [
       "10"
      ]
     },
     "execution_count": 9,
     "metadata": {},
     "output_type": "execute_result"
    }
   ],
   "source": [
    "addition.addition(4,6)"
   ]
  },
  {
   "cell_type": "code",
   "execution_count": 12,
   "id": "abf796bf",
   "metadata": {},
   "outputs": [],
   "source": [
    "import add"
   ]
  },
  {
   "cell_type": "code",
   "execution_count": 13,
   "id": "36c0eee8",
   "metadata": {},
   "outputs": [
    {
     "data": {
      "text/plain": [
       "(<function add.addition(a, b)>, (4, 6))"
      ]
     },
     "execution_count": 13,
     "metadata": {},
     "output_type": "execute_result"
    }
   ],
   "source": [
    "add.addition,(4,6)"
   ]
  },
  {
   "cell_type": "code",
   "execution_count": 14,
   "id": "a774d580",
   "metadata": {},
   "outputs": [],
   "source": [
    "import multi"
   ]
  },
  {
   "cell_type": "code",
   "execution_count": 15,
   "id": "aef9440a",
   "metadata": {},
   "outputs": [
    {
     "data": {
      "text/plain": [
       "4096"
      ]
     },
     "execution_count": 15,
     "metadata": {},
     "output_type": "execute_result"
    }
   ],
   "source": [
    "multi.power(4,6)"
   ]
  },
  {
   "cell_type": "code",
   "execution_count": 17,
   "id": "4955c463",
   "metadata": {},
   "outputs": [],
   "source": [
    "import test6"
   ]
  },
  {
   "cell_type": "code",
   "execution_count": 18,
   "id": "44c157b8",
   "metadata": {},
   "outputs": [],
   "source": [
    "import test6"
   ]
  },
  {
   "cell_type": "code",
   "execution_count": 19,
   "id": "168ff92a",
   "metadata": {},
   "outputs": [
    {
     "data": {
      "text/plain": [
       "<module 'test6' from 'C:\\\\Users\\\\Ankur\\\\Python code\\\\test6.py'>"
      ]
     },
     "execution_count": 19,
     "metadata": {},
     "output_type": "execute_result"
    }
   ],
   "source": [
    "test6"
   ]
  },
  {
   "cell_type": "code",
   "execution_count": 25,
   "id": "7a183750",
   "metadata": {},
   "outputs": [
    {
     "ename": "SyntaxError",
     "evalue": "invalid syntax (test7.py, line 4)",
     "output_type": "error",
     "traceback": [
      "Traceback \u001b[1;36m(most recent call last)\u001b[0m:\n",
      "  File \u001b[0;32mC:\\ProgramData\\Anaconda3\\lib\\site-packages\\IPython\\core\\interactiveshell.py:3369\u001b[0m in \u001b[0;35mrun_code\u001b[0m\n    exec(code_obj, self.user_global_ns, self.user_ns)\n",
      "\u001b[1;36m  Input \u001b[1;32mIn [25]\u001b[1;36m in \u001b[1;35m<cell line: 1>\u001b[1;36m\u001b[0m\n\u001b[1;33m    import test7\u001b[0m\n",
      "\u001b[1;36m  File \u001b[1;32m~\\Python code\\test7.py:4\u001b[1;36m\u001b[0m\n\u001b[1;33m    \"msg\":\"this is my class \"\u001b[0m\n\u001b[1;37m    ^\u001b[0m\n\u001b[1;31mSyntaxError\u001b[0m\u001b[1;31m:\u001b[0m invalid syntax\n"
     ]
    }
   ],
   "source": [
    "import test7"
   ]
  },
  {
   "cell_type": "code",
   "execution_count": 28,
   "id": "3b546346",
   "metadata": {},
   "outputs": [
    {
     "ename": "SyntaxError",
     "evalue": "invalid syntax (test7.py, line 4)",
     "output_type": "error",
     "traceback": [
      "Traceback \u001b[1;36m(most recent call last)\u001b[0m:\n",
      "  File \u001b[0;32mC:\\ProgramData\\Anaconda3\\lib\\site-packages\\IPython\\core\\interactiveshell.py:3369\u001b[0m in \u001b[0;35mrun_code\u001b[0m\n    exec(code_obj, self.user_global_ns, self.user_ns)\n",
      "\u001b[1;36m  Input \u001b[1;32mIn [28]\u001b[1;36m in \u001b[1;35m<cell line: 1>\u001b[1;36m\u001b[0m\n\u001b[1;33m    import test7\u001b[0m\n",
      "\u001b[1;36m  File \u001b[1;32m~\\Python code\\test7.py:4\u001b[1;36m\u001b[0m\n\u001b[1;33m    \"msg\":\"this is my class \"\u001b[0m\n\u001b[1;37m    ^\u001b[0m\n\u001b[1;31mSyntaxError\u001b[0m\u001b[1;31m:\u001b[0m invalid syntax\n"
     ]
    }
   ],
   "source": [
    "import test7"
   ]
  },
  {
   "cell_type": "code",
   "execution_count": 2,
   "id": "babf5f36",
   "metadata": {},
   "outputs": [
    {
     "ename": "SyntaxError",
     "evalue": "invalid syntax (test7.py, line 4)",
     "output_type": "error",
     "traceback": [
      "Traceback \u001b[1;36m(most recent call last)\u001b[0m:\n",
      "  File \u001b[0;32mC:\\ProgramData\\Anaconda3\\lib\\site-packages\\IPython\\core\\interactiveshell.py:3369\u001b[0m in \u001b[0;35mrun_code\u001b[0m\n    exec(code_obj, self.user_global_ns, self.user_ns)\n",
      "\u001b[1;36m  Input \u001b[1;32mIn [2]\u001b[1;36m in \u001b[1;35m<cell line: 1>\u001b[1;36m\u001b[0m\n\u001b[1;33m    import test7\u001b[0m\n",
      "\u001b[1;36m  File \u001b[1;32m~\\Python code\\test7.py:4\u001b[1;36m\u001b[0m\n\u001b[1;33m    \"msg\":\"this is my class \"\u001b[0m\n\u001b[1;37m    ^\u001b[0m\n\u001b[1;31mSyntaxError\u001b[0m\u001b[1;31m:\u001b[0m invalid syntax\n"
     ]
    }
   ],
   "source": [
    "import test7"
   ]
  },
  {
   "cell_type": "code",
   "execution_count": 3,
   "id": "3dee9fcf",
   "metadata": {},
   "outputs": [],
   "source": [
    "import logging as ln"
   ]
  },
  {
   "cell_type": "code",
   "execution_count": 4,
   "id": "dd154b59",
   "metadata": {},
   "outputs": [],
   "source": [
    "import os"
   ]
  },
  {
   "cell_type": "code",
   "execution_count": 5,
   "id": "a3568247",
   "metadata": {},
   "outputs": [
    {
     "data": {
      "text/plain": [
       "'C:\\\\Users\\\\Ankur\\\\Python code'"
      ]
     },
     "execution_count": 5,
     "metadata": {},
     "output_type": "execute_result"
    }
   ],
   "source": [
    "os.getcwd()"
   ]
  },
  {
   "cell_type": "code",
   "execution_count": 8,
   "id": "8e0f0fe0",
   "metadata": {},
   "outputs": [],
   "source": [
    "os.mkdir(\"mod1.py\")"
   ]
  },
  {
   "cell_type": "code",
   "execution_count": 8,
   "id": "d82687cc",
   "metadata": {},
   "outputs": [],
   "source": [
    "import test"
   ]
  },
  {
   "cell_type": "code",
   "execution_count": 10,
   "id": "77a8095d",
   "metadata": {},
   "outputs": [],
   "source": [
    "import test123"
   ]
  },
  {
   "cell_type": "code",
   "execution_count": 12,
   "id": "9e19d5db",
   "metadata": {},
   "outputs": [],
   "source": [
    "from test123 import mod1"
   ]
  },
  {
   "cell_type": "code",
   "execution_count": 16,
   "id": "5ed965e9",
   "metadata": {},
   "outputs": [
    {
     "name": "stdout",
     "output_type": "stream",
     "text": [
      "this is my fn2 mod1\n"
     ]
    }
   ],
   "source": [
    "mod1.fn2()"
   ]
  },
  {
   "cell_type": "code",
   "execution_count": 2,
   "id": "fb757637",
   "metadata": {},
   "outputs": [
    {
     "ename": "FileNotFoundError",
     "evalue": "[Errno 2] No such file or directory: 'test1.txt'",
     "output_type": "error",
     "traceback": [
      "\u001b[1;31m---------------------------------------------------------------------------\u001b[0m",
      "\u001b[1;31mFileNotFoundError\u001b[0m                         Traceback (most recent call last)",
      "Input \u001b[1;32mIn [2]\u001b[0m, in \u001b[0;36m<cell line: 1>\u001b[1;34m()\u001b[0m\n\u001b[1;32m----> 1\u001b[0m a \u001b[38;5;241m=\u001b[39m \u001b[38;5;28;43mopen\u001b[39;49m\u001b[43m(\u001b[49m\u001b[38;5;124;43m\"\u001b[39;49m\u001b[38;5;124;43mtest1.txt\u001b[39;49m\u001b[38;5;124;43m\"\u001b[39;49m\u001b[43m,\u001b[49m\u001b[43m \u001b[49m\u001b[38;5;124;43m'\u001b[39;49m\u001b[38;5;124;43mr\u001b[39;49m\u001b[38;5;124;43m'\u001b[39;49m\u001b[43m)\u001b[49m\n",
      "\u001b[1;31mFileNotFoundError\u001b[0m: [Errno 2] No such file or directory: 'test1.txt'"
     ]
    }
   ],
   "source": [
    "a = open(\"test1.txt\", 'r')"
   ]
  },
  {
   "cell_type": "code",
   "execution_count": 30,
   "id": "2be32ae0",
   "metadata": {},
   "outputs": [
    {
     "name": "stdout",
     "output_type": "stream",
     "text": [
      "enter the first no. : 5\n",
      "enter second no. 0\n",
      "there is some issue with my code : division by zero\n"
     ]
    }
   ],
   "source": [
    "try :\n",
    "    \n",
    "    a = int(input(\"enter the first no. : \"))\n",
    "    b = int(input(\"enter second no. \"))\n",
    "    c = a/b\n",
    "except ArithmeticError as e:\n",
    "    print(\"there is some issue with my code :\" , e)\n",
    "    f = open(\"test1.txt\", 'w')\n",
    "else:\n",
    "    print(\"this will executr once try will execute with sucessfully : \", a)\n",
    "    try:\n",
    "        \n",
    "        f = open(\"test1.txt\", 'r')\n",
    "    except:\n",
    "        print(\"there is an isssue with internal try block\")"
   ]
  },
  {
   "cell_type": "code",
   "execution_count": 34,
   "id": "a47b8e1f",
   "metadata": {},
   "outputs": [
    {
     "ename": "IndexError",
     "evalue": "list index out of range",
     "output_type": "error",
     "traceback": [
      "\u001b[1;31m---------------------------------------------------------------------------\u001b[0m",
      "\u001b[1;31mIndexError\u001b[0m                                Traceback (most recent call last)",
      "Input \u001b[1;32mIn [34]\u001b[0m, in \u001b[0;36m<cell line: 2>\u001b[1;34m()\u001b[0m\n\u001b[0;32m      1\u001b[0m l \u001b[38;5;241m=\u001b[39m [\u001b[38;5;241m4\u001b[39m,\u001b[38;5;241m5\u001b[39m,\u001b[38;5;241m6\u001b[39m,\u001b[38;5;241m7\u001b[39m,\u001b[38;5;241m8\u001b[39m,\u001b[38;5;241m9\u001b[39m,\u001b[38;5;241m0\u001b[39m]\n\u001b[1;32m----> 2\u001b[0m \u001b[38;5;28mprint\u001b[39m(\u001b[43ml\u001b[49m\u001b[43m[\u001b[49m\u001b[38;5;241;43m100\u001b[39;49m\u001b[43m]\u001b[49m)\n\u001b[0;32m      3\u001b[0m t \u001b[38;5;241m=\u001b[39m {\u001b[38;5;241m4\u001b[39m,\u001b[38;5;241m5\u001b[39m,\u001b[38;5;241m6\u001b[39m,\u001b[38;5;241m7\u001b[39m,\u001b[38;5;241m8\u001b[39m,\u001b[38;5;241m9\u001b[39m,\u001b[38;5;241m7\u001b[39m,\u001b[38;5;241m9\u001b[39m}\n\u001b[0;32m      4\u001b[0m \u001b[38;5;28mprint\u001b[39m(t)\n",
      "\u001b[1;31mIndexError\u001b[0m: list index out of range"
     ]
    }
   ],
   "source": [
    "l = [4,5,6,7,8,9,0]\n",
    "print(l[100])\n",
    "t = {4,5,6,7,8,9,7,9}\n",
    "print(t)"
   ]
  },
  {
   "cell_type": "code",
   "execution_count": 37,
   "id": "6632c664",
   "metadata": {},
   "outputs": [
    {
     "name": "stdout",
     "output_type": "stream",
     "text": [
      "There is an issue with my code\n",
      "{4, 5, 6, 7, 8, 9}\n"
     ]
    }
   ],
   "source": [
    "try :\n",
    "    l = [4,5,6,7,8,9,0]\n",
    "    l[100]\n",
    "except:\n",
    "    print(\"There is an issue with my code\")\n",
    "    t = {4,5,6,7,8,9,7,9}\n",
    "    print(t)\n",
    "    try:\n",
    "        \n",
    "        t[0]= \"sudh\"\n",
    "        try :\n",
    "            list(t)\n",
    "            print(t)\n",
    "        except:\n",
    "            pass\n",
    "    except:\n",
    "        pass\n",
    "\n",
    "else:\n",
    "    print(\"there is no issue with my code\")"
   ]
  },
  {
   "cell_type": "code",
   "execution_count": 54,
   "id": "a2bfdb33",
   "metadata": {},
   "outputs": [
    {
     "name": "stdout",
     "output_type": "stream",
     "text": [
      "finally i will execute in any case\n",
      "6\n"
     ]
    }
   ],
   "source": [
    "try:\n",
    "    f = open(\"test4.txt\", 'r')\n",
    "except:\n",
    "    pass\n",
    "else:\n",
    "    print(\"else will execute in any case\")\n",
    "finally:\n",
    "    print(\"finally i will execute in any case\")\n",
    "    l= [4,5,6,7]\n",
    "    try:\n",
    "        \n",
    "        print(l[2])\n",
    "    except:\n",
    "        pass"
   ]
  },
  {
   "cell_type": "code",
   "execution_count": 60,
   "id": "c4e79f37",
   "metadata": {},
   "outputs": [
    {
     "name": "stdout",
     "output_type": "stream",
     "text": [
      "this is error :  [Errno 2] No such file or directory: 'test4.txt'\n"
     ]
    }
   ],
   "source": [
    "try:\n",
    "    f = open(\"test4.txt\", 'r')\n",
    "except IOError as e:\n",
    "    print(\"this is error : \" , e)"
   ]
  },
  {
   "cell_type": "code",
   "execution_count": 55,
   "id": "3e737481",
   "metadata": {},
   "outputs": [
    {
     "data": {
      "text/plain": [
       "0.8333333333333334"
      ]
     },
     "execution_count": 55,
     "metadata": {},
     "output_type": "execute_result"
    }
   ],
   "source": [
    "5/6"
   ]
  },
  {
   "cell_type": "code",
   "execution_count": 34,
   "id": "f6e13ea2",
   "metadata": {},
   "outputs": [],
   "source": [
    "def askforint():\n",
    "    while True:\n",
    "        try :\n",
    "            a = int(input(\"enter the integer \"))\n",
    "            c = 8/a\n",
    "        except FileNotFoundError as e:\n",
    "            print(\"This is error :\", e)\n",
    "            continue\n",
    "        except IOError as e:\n",
    "            print(e)\n",
    "        except ValueError as e:\n",
    "            print(e)\n",
    "        except Exception as e:\n",
    "            print(\"This is Coming from parent class\", e)\n",
    "        except ArithmeticError as e:\n",
    "            print(\"This is Arithmetic error\", e)\n",
    "        except ZeroDivisionError as e:\n",
    "            print(e)\n",
    "        else:\n",
    "            print(\"Person enterd a correct value\")\n",
    "            break\n",
    "            \n",
    "        finally:\n",
    "            print(\"close the issue\")"
   ]
  },
  {
   "cell_type": "code",
   "execution_count": 35,
   "id": "74392566",
   "metadata": {},
   "outputs": [
    {
     "name": "stdout",
     "output_type": "stream",
     "text": [
      "enter the integer jhjh\n",
      "invalid literal for int() with base 10: 'jhjh'\n",
      "close the issue\n",
      "enter the integer 0\n",
      "This is Coming from parent class division by zero\n",
      "close the issue\n",
      "enter the integer jnjl\n",
      "invalid literal for int() with base 10: 'jnjl'\n",
      "close the issue\n",
      "enter the integer 0\n",
      "This is Coming from parent class division by zero\n",
      "close the issue\n",
      "enter the integer 5\n",
      "Person enterd a correct value\n",
      "close the issue\n"
     ]
    }
   ],
   "source": [
    "askforint()"
   ]
  },
  {
   "cell_type": "code",
   "execution_count": 67,
   "id": "69d8a8c8",
   "metadata": {},
   "outputs": [],
   "source": [
    "def create_your_exception(a):\n",
    "    if a > 6:\n",
    "        raise Exception(\"error is \", a)\n",
    "    else:\n",
    "        print(\"Input is ok\")\n",
    "    return a"
   ]
  },
  {
   "cell_type": "code",
   "execution_count": 74,
   "id": "2ee7012e",
   "metadata": {},
   "outputs": [
    {
     "name": "stdout",
     "output_type": "stream",
     "text": [
      "('error is ', 10)\n"
     ]
    }
   ],
   "source": [
    "try:\n",
    "    create_your_exception(10)\n",
    "except Exception as e:\n",
    "    print(e) "
   ]
  },
  {
   "cell_type": "code",
   "execution_count": 77,
   "id": "5c639b0f",
   "metadata": {},
   "outputs": [
    {
     "data": {
      "text/plain": [
       "7"
      ]
     },
     "execution_count": 77,
     "metadata": {},
     "output_type": "execute_result"
    }
   ],
   "source": [
    "a"
   ]
  },
  {
   "cell_type": "code",
   "execution_count": null,
   "id": "0678658e",
   "metadata": {},
   "outputs": [],
   "source": []
  }
 ],
 "metadata": {
  "kernelspec": {
   "display_name": "Python 3 (ipykernel)",
   "language": "python",
   "name": "python3"
  },
  "language_info": {
   "codemirror_mode": {
    "name": "ipython",
    "version": 3
   },
   "file_extension": ".py",
   "mimetype": "text/x-python",
   "name": "python",
   "nbconvert_exporter": "python",
   "pygments_lexer": "ipython3",
   "version": "3.9.12"
  }
 },
 "nbformat": 4,
 "nbformat_minor": 5
}
