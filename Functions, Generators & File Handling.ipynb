{
 "cells": [
  {
   "cell_type": "code",
   "execution_count": null,
   "id": "d466e0d7",
   "metadata": {},
   "outputs": [],
   "source": [
    "def test(**kwargs):\n",
    "    print(\"this is args ele\", kwargs.items())"
   ]
  },
  {
   "cell_type": "code",
   "execution_count": null,
   "id": "4f9146f9",
   "metadata": {
    "scrolled": true
   },
   "outputs": [],
   "source": [
    "test(x = \"sudh\", y = 56, z = [45,34,55,22,2])"
   ]
  },
  {
   "cell_type": "code",
   "execution_count": null,
   "id": "f091f2d4",
   "metadata": {},
   "outputs": [],
   "source": []
  },
  {
   "cell_type": "code",
   "execution_count": null,
   "id": "653f11dc",
   "metadata": {},
   "outputs": [],
   "source": [
    "#anonymous function/ lambda function"
   ]
  },
  {
   "cell_type": "code",
   "execution_count": 5,
   "id": "44e1f582",
   "metadata": {},
   "outputs": [],
   "source": [
    "def test(name, mail_id):\n",
    "    con = name + mail_id\n",
    "    return mail_id , name, con"
   ]
  },
  {
   "cell_type": "code",
   "execution_count": 6,
   "id": "7ee50ff8",
   "metadata": {},
   "outputs": [
    {
     "data": {
      "text/plain": [
       "('sudhanshi@gma.com', 'sudh', 'sudhsudhanshi@gma.com')"
      ]
     },
     "execution_count": 6,
     "metadata": {},
     "output_type": "execute_result"
    }
   ],
   "source": [
    "test(\"sudh\", \"sudhanshi@gma.com\")"
   ]
  },
  {
   "cell_type": "code",
   "execution_count": null,
   "id": "2d28881f",
   "metadata": {},
   "outputs": [],
   "source": [
    "a = 10\n",
    "b = 20\n",
    "def test1(x, y):\n",
    "    return x+y"
   ]
  },
  {
   "cell_type": "code",
   "execution_count": null,
   "id": "12b621cb",
   "metadata": {},
   "outputs": [],
   "source": [
    "test1(a,b)"
   ]
  },
  {
   "cell_type": "code",
   "execution_count": null,
   "id": "e25fc2b3",
   "metadata": {},
   "outputs": [],
   "source": [
    "m = lambda x,y : x+y"
   ]
  },
  {
   "cell_type": "code",
   "execution_count": null,
   "id": "a3fbfc51",
   "metadata": {},
   "outputs": [],
   "source": [
    "m(a,b)"
   ]
  },
  {
   "cell_type": "code",
   "execution_count": null,
   "id": "2f7e4d01",
   "metadata": {},
   "outputs": [],
   "source": [
    "m(\"sudh\", \"ankeuedf@gmai\")"
   ]
  },
  {
   "cell_type": "code",
   "execution_count": null,
   "id": "f97cb5d4",
   "metadata": {},
   "outputs": [],
   "source": [
    "b = \"ankur\"\n",
    "c = \"test\"\n",
    "n = lambda arg1 , arg2 : print(arg1, arg2)"
   ]
  },
  {
   "cell_type": "code",
   "execution_count": null,
   "id": "24f9ccc0",
   "metadata": {},
   "outputs": [],
   "source": [
    "n(b,c)"
   ]
  },
  {
   "cell_type": "code",
   "execution_count": null,
   "id": "0f37f368",
   "metadata": {},
   "outputs": [],
   "source": [
    "r = 10\n",
    "def test3(a, b) :\n",
    "    r = a/b\n",
    "    print(r)"
   ]
  },
  {
   "cell_type": "code",
   "execution_count": null,
   "id": "9dbeed81",
   "metadata": {},
   "outputs": [],
   "source": [
    "test3(60,50)"
   ]
  },
  {
   "cell_type": "code",
   "execution_count": null,
   "id": "18deb758",
   "metadata": {},
   "outputs": [],
   "source": [
    "print()"
   ]
  },
  {
   "cell_type": "code",
   "execution_count": null,
   "id": "ae0d4e40",
   "metadata": {},
   "outputs": [],
   "source": [
    "def test4():\n",
    "    \"\"\"\n",
    "    test4()\n",
    "    a= this is going to do this\n",
    "    this is my test function with the\n",
    "    help of this function wiill b abler\n",
    "    to learn basic\n",
    "    \n",
    "    \"\"\"\n",
    "    \n",
    "    print(\"my name is ank\")"
   ]
  },
  {
   "cell_type": "code",
   "execution_count": null,
   "id": "1c64c2f3",
   "metadata": {},
   "outputs": [],
   "source": [
    "test4()"
   ]
  },
  {
   "cell_type": "code",
   "execution_count": null,
   "id": "8e7f9d28",
   "metadata": {},
   "outputs": [],
   "source": [
    "help(print)"
   ]
  },
  {
   "cell_type": "code",
   "execution_count": null,
   "id": "713b6e0c",
   "metadata": {},
   "outputs": [],
   "source": [
    "help(test4)"
   ]
  },
  {
   "cell_type": "code",
   "execution_count": null,
   "id": "43f0d8b6",
   "metadata": {},
   "outputs": [],
   "source": [
    "a = 10"
   ]
  },
  {
   "cell_type": "code",
   "execution_count": null,
   "id": "6ccad46c",
   "metadata": {},
   "outputs": [],
   "source": [
    "for i in a:\n",
    "    print(i)"
   ]
  },
  {
   "cell_type": "code",
   "execution_count": null,
   "id": "3c83cd50",
   "metadata": {},
   "outputs": [],
   "source": [
    "for i in \"sudh\":\n",
    "    print(i)"
   ]
  },
  {
   "cell_type": "code",
   "execution_count": null,
   "id": "7542eaa9",
   "metadata": {},
   "outputs": [],
   "source": [
    "s = \"ankur\"\n",
    "s = iter(s)\n",
    "next(s)"
   ]
  },
  {
   "cell_type": "code",
   "execution_count": null,
   "id": "6a4ee1c5",
   "metadata": {},
   "outputs": [],
   "source": [
    "for i in \"sudh \":\n",
    "    print(i)"
   ]
  },
  {
   "cell_type": "code",
   "execution_count": null,
   "id": "c9dfc3ca",
   "metadata": {},
   "outputs": [],
   "source": [
    "l = [1,2,3,4,5]"
   ]
  },
  {
   "cell_type": "code",
   "execution_count": null,
   "id": "56e59b65",
   "metadata": {},
   "outputs": [],
   "source": [
    "next(l)"
   ]
  },
  {
   "cell_type": "code",
   "execution_count": null,
   "id": "8157ac5b",
   "metadata": {},
   "outputs": [],
   "source": [
    "l = iter(l)"
   ]
  },
  {
   "cell_type": "code",
   "execution_count": null,
   "id": "c00683bf",
   "metadata": {},
   "outputs": [],
   "source": [
    "next(l)"
   ]
  },
  {
   "cell_type": "code",
   "execution_count": null,
   "id": "52c80693",
   "metadata": {},
   "outputs": [],
   "source": [
    "t = {2,3,4,5,6,7}\n",
    "t = iter(t)"
   ]
  },
  {
   "cell_type": "code",
   "execution_count": null,
   "id": "d3c903da",
   "metadata": {},
   "outputs": [],
   "source": [
    "next(t)"
   ]
  },
  {
   "cell_type": "code",
   "execution_count": null,
   "id": "527f9701",
   "metadata": {},
   "outputs": [],
   "source": []
  },
  {
   "cell_type": "code",
   "execution_count": null,
   "id": "94c442c6",
   "metadata": {},
   "outputs": [],
   "source": [
    "#Generator"
   ]
  },
  {
   "cell_type": "code",
   "execution_count": null,
   "id": "1ac9f31b",
   "metadata": {},
   "outputs": [],
   "source": [
    "def test4(n):\n",
    "    l= []\n",
    "    for i in range(n):\n",
    "        l.append(i**3)\n",
    "    return l"
   ]
  },
  {
   "cell_type": "code",
   "execution_count": null,
   "id": "70b569c9",
   "metadata": {},
   "outputs": [],
   "source": []
  },
  {
   "cell_type": "code",
   "execution_count": null,
   "id": "e7549b41",
   "metadata": {},
   "outputs": [],
   "source": [
    "def test5(n):\n",
    "    for i in range(n):\n",
    "        yield i**3"
   ]
  },
  {
   "cell_type": "code",
   "execution_count": null,
   "id": "3c400c6a",
   "metadata": {},
   "outputs": [],
   "source": [
    "test5(30)"
   ]
  },
  {
   "cell_type": "code",
   "execution_count": null,
   "id": "6966fe3a",
   "metadata": {},
   "outputs": [],
   "source": [
    "for i in test5(600):\n",
    "    print(i)"
   ]
  },
  {
   "cell_type": "code",
   "execution_count": null,
   "id": "ecbf1dfa",
   "metadata": {},
   "outputs": [],
   "source": [
    "range(20)"
   ]
  },
  {
   "cell_type": "code",
   "execution_count": null,
   "id": "2fec40b7",
   "metadata": {},
   "outputs": [],
   "source": [
    "list(range(20))"
   ]
  },
  {
   "cell_type": "code",
   "execution_count": null,
   "id": "13331dd8",
   "metadata": {},
   "outputs": [],
   "source": [
    "for i in range(20):\n",
    "    print(i)"
   ]
  },
  {
   "cell_type": "code",
   "execution_count": null,
   "id": "99ae7a5e",
   "metadata": {},
   "outputs": [],
   "source": [
    "def genfib(n):\n",
    "    a = 1\n",
    "    b = 1\n",
    "    output = []\n",
    "    for i in range(n):\n",
    "        output.append(a)\n",
    "        a, b = b, a+b\n",
    "    return output"
   ]
  },
  {
   "cell_type": "code",
   "execution_count": null,
   "id": "79b51baa",
   "metadata": {},
   "outputs": [],
   "source": [
    "genfib(10)"
   ]
  },
  {
   "cell_type": "code",
   "execution_count": 1,
   "id": "65cc2eba",
   "metadata": {},
   "outputs": [
    {
     "name": "stdout",
     "output_type": "stream",
     "text": [
      "1\n",
      "1\n",
      "2\n",
      "3\n",
      "5\n",
      "8\n",
      "13\n",
      "21\n",
      "34\n",
      "55\n",
      "89\n",
      "144\n",
      "233\n",
      "377\n",
      "610\n",
      "987\n",
      "1597\n",
      "2584\n",
      "4181\n",
      "6765\n",
      "10946\n",
      "17711\n",
      "28657\n",
      "46368\n",
      "75025\n",
      "121393\n",
      "196418\n",
      "317811\n",
      "514229\n",
      "832040\n",
      "1346269\n",
      "2178309\n",
      "3524578\n",
      "5702887\n",
      "9227465\n",
      "14930352\n",
      "24157817\n",
      "39088169\n",
      "63245986\n",
      "102334155\n",
      "165580141\n",
      "267914296\n",
      "433494437\n",
      "701408733\n",
      "1134903170\n",
      "1836311903\n",
      "2971215073\n",
      "4807526976\n",
      "7778742049\n",
      "12586269025\n",
      "20365011074\n",
      "32951280099\n",
      "53316291173\n",
      "86267571272\n",
      "139583862445\n",
      "225851433717\n",
      "365435296162\n",
      "591286729879\n",
      "956722026041\n",
      "1548008755920\n"
     ]
    }
   ],
   "source": [
    "def genfib(n):\n",
    "    a = 1\n",
    "    b = 1\n",
    "    for i in range(n):\n",
    "        yield a\n",
    "        a, b = b, a+b\n",
    "for i in genfib(60):\n",
    "        print(i)"
   ]
  },
  {
   "cell_type": "code",
   "execution_count": null,
   "id": "e742a197",
   "metadata": {},
   "outputs": [],
   "source": []
  },
  {
   "cell_type": "code",
   "execution_count": null,
   "id": "7c4fb3a6",
   "metadata": {
    "scrolled": false
   },
   "outputs": [],
   "source": []
  },
  {
   "cell_type": "code",
   "execution_count": null,
   "id": "c1f999a6",
   "metadata": {},
   "outputs": [],
   "source": [
    "f = open(\"test.txt\", 'w')"
   ]
  },
  {
   "cell_type": "code",
   "execution_count": null,
   "id": "754819f2",
   "metadata": {},
   "outputs": [],
   "source": [
    "f.write(\"ankur is a chutiya bkchod lundus gunuds\")"
   ]
  },
  {
   "cell_type": "code",
   "execution_count": null,
   "id": "a34165b1",
   "metadata": {},
   "outputs": [],
   "source": [
    "f.close()"
   ]
  },
  {
   "cell_type": "code",
   "execution_count": null,
   "id": "12ad26f8",
   "metadata": {},
   "outputs": [],
   "source": [
    "f = open(\"test.txt\")"
   ]
  },
  {
   "cell_type": "code",
   "execution_count": null,
   "id": "9b75f93a",
   "metadata": {},
   "outputs": [],
   "source": [
    "f.read(0)"
   ]
  },
  {
   "cell_type": "code",
   "execution_count": null,
   "id": "3dea700e",
   "metadata": {},
   "outputs": [],
   "source": [
    "f.read(25)"
   ]
  },
  {
   "cell_type": "code",
   "execution_count": null,
   "id": "1c38f8b3",
   "metadata": {},
   "outputs": [],
   "source": [
    "f.seek(16)"
   ]
  },
  {
   "cell_type": "code",
   "execution_count": null,
   "id": "20004d48",
   "metadata": {},
   "outputs": [],
   "source": [
    "f.read()"
   ]
  },
  {
   "cell_type": "code",
   "execution_count": null,
   "id": "c592cec1",
   "metadata": {},
   "outputs": [],
   "source": [
    "f.read()"
   ]
  },
  {
   "cell_type": "code",
   "execution_count": null,
   "id": "5e9bbb62",
   "metadata": {},
   "outputs": [],
   "source": [
    "f.close()"
   ]
  },
  {
   "cell_type": "code",
   "execution_count": null,
   "id": "2f97ce72",
   "metadata": {},
   "outputs": [],
   "source": [
    "f.read()"
   ]
  },
  {
   "cell_type": "code",
   "execution_count": null,
   "id": "92cc7874",
   "metadata": {},
   "outputs": [],
   "source": [
    "f.close()"
   ]
  },
  {
   "cell_type": "code",
   "execution_count": null,
   "id": "151f30d5",
   "metadata": {},
   "outputs": [],
   "source": [
    "f = open(\"test.txt\",'w')"
   ]
  },
  {
   "cell_type": "code",
   "execution_count": null,
   "id": "e5b47ac9",
   "metadata": {},
   "outputs": [],
   "source": [
    "f.write(\"dnfnkdjfnjkdfdf\")"
   ]
  },
  {
   "cell_type": "code",
   "execution_count": null,
   "id": "fb57fc3c",
   "metadata": {},
   "outputs": [],
   "source": [
    "f.close()"
   ]
  },
  {
   "cell_type": "code",
   "execution_count": null,
   "id": "87da0c09",
   "metadata": {},
   "outputs": [],
   "source": [
    "f = open(\"test.txt\", \"a\")"
   ]
  },
  {
   "cell_type": "code",
   "execution_count": null,
   "id": "01a28161",
   "metadata": {},
   "outputs": [],
   "source": [
    "f.write(\"dkfmdfmdjnfjdfn\")"
   ]
  },
  {
   "cell_type": "code",
   "execution_count": null,
   "id": "9109a847",
   "metadata": {},
   "outputs": [],
   "source": [
    "f.close()"
   ]
  },
  {
   "cell_type": "code",
   "execution_count": null,
   "id": "cf1ddbaa",
   "metadata": {},
   "outputs": [],
   "source": [
    "f = open(\"test.txt\", 'wb')"
   ]
  },
  {
   "cell_type": "code",
   "execution_count": null,
   "id": "6b9f5698",
   "metadata": {},
   "outputs": [],
   "source": [
    "f.write(b\"dfjdnfkdfdf\")"
   ]
  },
  {
   "cell_type": "code",
   "execution_count": null,
   "id": "d3acc0d8",
   "metadata": {},
   "outputs": [],
   "source": [
    "f.close()"
   ]
  },
  {
   "cell_type": "code",
   "execution_count": null,
   "id": "9fb7d62f",
   "metadata": {},
   "outputs": [],
   "source": [
    "f=open(\"test.txt\", \"rb\")"
   ]
  },
  {
   "cell_type": "code",
   "execution_count": null,
   "id": "46eba1ed",
   "metadata": {},
   "outputs": [],
   "source": [
    "f.read()"
   ]
  },
  {
   "cell_type": "code",
   "execution_count": null,
   "id": "3b31ea90",
   "metadata": {},
   "outputs": [],
   "source": [
    "f.seek(0)"
   ]
  },
  {
   "cell_type": "code",
   "execution_count": null,
   "id": "23f6c644",
   "metadata": {},
   "outputs": [],
   "source": [
    "f.read()"
   ]
  },
  {
   "cell_type": "code",
   "execution_count": null,
   "id": "8ce7030a",
   "metadata": {},
   "outputs": [],
   "source": [
    "f.seek(-4,2)"
   ]
  },
  {
   "cell_type": "code",
   "execution_count": null,
   "id": "25bedfa3",
   "metadata": {},
   "outputs": [],
   "source": [
    "f = open(\"test.txt\" , \"w\")"
   ]
  },
  {
   "cell_type": "code",
   "execution_count": null,
   "id": "b64b247d",
   "metadata": {},
   "outputs": [],
   "source": [
    "f.write(\"djfndkjfnkdndjfddfdjnvks\")"
   ]
  },
  {
   "cell_type": "code",
   "execution_count": null,
   "id": "98b47d51",
   "metadata": {},
   "outputs": [],
   "source": [
    "f.close()"
   ]
  },
  {
   "cell_type": "code",
   "execution_count": null,
   "id": "4ed71b30",
   "metadata": {},
   "outputs": [],
   "source": [
    "f = open(\"test.txt\", \"r\")"
   ]
  },
  {
   "cell_type": "code",
   "execution_count": null,
   "id": "5a0b9bc4",
   "metadata": {},
   "outputs": [],
   "source": [
    "f.readline(11)"
   ]
  },
  {
   "cell_type": "code",
   "execution_count": null,
   "id": "6ba44e83",
   "metadata": {},
   "outputs": [],
   "source": [
    "f.read()"
   ]
  },
  {
   "cell_type": "code",
   "execution_count": null,
   "id": "9c102880",
   "metadata": {},
   "outputs": [],
   "source": [
    "f.readline()"
   ]
  },
  {
   "cell_type": "code",
   "execution_count": null,
   "id": "8921376c",
   "metadata": {},
   "outputs": [],
   "source": [
    "f = open(\"test.txt\", \"r\")"
   ]
  },
  {
   "cell_type": "code",
   "execution_count": null,
   "id": "7f9111df",
   "metadata": {},
   "outputs": [],
   "source": [
    "for i in f:\n",
    "    print(i, end =\" \")"
   ]
  },
  {
   "cell_type": "code",
   "execution_count": null,
   "id": "408f1685",
   "metadata": {},
   "outputs": [],
   "source": [
    "f.close()"
   ]
  },
  {
   "cell_type": "code",
   "execution_count": null,
   "id": "f492176f",
   "metadata": {},
   "outputs": [],
   "source": [
    "f = open(\"test.txt\", 'w')"
   ]
  },
  {
   "cell_type": "code",
   "execution_count": null,
   "id": "ba13ab42",
   "metadata": {},
   "outputs": [],
   "source": [
    "list(f)"
   ]
  },
  {
   "cell_type": "code",
   "execution_count": null,
   "id": "8bd48b58",
   "metadata": {},
   "outputs": [],
   "source": [
    "f.write(\"ankurrrrrrrrrrrrrrrrf\")"
   ]
  },
  {
   "cell_type": "code",
   "execution_count": null,
   "id": "5ad00478",
   "metadata": {},
   "outputs": [],
   "source": [
    "f.close()"
   ]
  },
  {
   "cell_type": "code",
   "execution_count": null,
   "id": "03d52873",
   "metadata": {},
   "outputs": [],
   "source": [
    "f = open(\"test2.txt\", \"r+\")"
   ]
  },
  {
   "cell_type": "code",
   "execution_count": null,
   "id": "253b1e32",
   "metadata": {},
   "outputs": [],
   "source": [
    "f.writelines(\"fchgfygfyrdftrdtrtfyhhjg\")"
   ]
  },
  {
   "cell_type": "code",
   "execution_count": null,
   "id": "27ea0dfa",
   "metadata": {},
   "outputs": [],
   "source": [
    "f.close()"
   ]
  },
  {
   "cell_type": "code",
   "execution_count": null,
   "id": "8d9ad099",
   "metadata": {},
   "outputs": [],
   "source": [
    "f.seek(45)"
   ]
  },
  {
   "cell_type": "code",
   "execution_count": null,
   "id": "e0a88c52",
   "metadata": {},
   "outputs": [],
   "source": [
    "f.read()"
   ]
  },
  {
   "cell_type": "code",
   "execution_count": null,
   "id": "d0dd4d22",
   "metadata": {},
   "outputs": [],
   "source": [
    "\n",
    "f = open(\"test2.txt\",\"r+\")"
   ]
  },
  {
   "cell_type": "code",
   "execution_count": null,
   "id": "e9db5245",
   "metadata": {},
   "outputs": [],
   "source": [
    "f.fileno()"
   ]
  },
  {
   "cell_type": "code",
   "execution_count": null,
   "id": "97d784d6",
   "metadata": {},
   "outputs": [],
   "source": [
    "%%writefile test5.txt\n",
    "my name is ankurwa"
   ]
  },
  {
   "cell_type": "code",
   "execution_count": null,
   "id": "7f9138ef",
   "metadata": {},
   "outputs": [],
   "source": [
    "import os"
   ]
  },
  {
   "cell_type": "code",
   "execution_count": null,
   "id": "b42a8065",
   "metadata": {},
   "outputs": [],
   "source": [
    "pwd()"
   ]
  },
  {
   "cell_type": "code",
   "execution_count": null,
   "id": "a9542585",
   "metadata": {},
   "outputs": [],
   "source": [
    "os.getcwd()"
   ]
  },
  {
   "cell_type": "code",
   "execution_count": null,
   "id": "77f89629",
   "metadata": {},
   "outputs": [],
   "source": [
    "os.listdir()"
   ]
  },
  {
   "cell_type": "code",
   "execution_count": null,
   "id": "4df122d7",
   "metadata": {},
   "outputs": [],
   "source": [
    "os.listdir(\"C:\\\\Users\\\\Ankur\")"
   ]
  },
  {
   "cell_type": "code",
   "execution_count": null,
   "id": "189ac467",
   "metadata": {},
   "outputs": [],
   "source": [
    "os.getcwd()"
   ]
  },
  {
   "cell_type": "code",
   "execution_count": null,
   "id": "f4d57f22",
   "metadata": {},
   "outputs": [],
   "source": [
    "os.chdir(\"C:\\\\Users\\\\Ankur\")"
   ]
  },
  {
   "cell_type": "code",
   "execution_count": null,
   "id": "d4fc1a02",
   "metadata": {},
   "outputs": [],
   "source": [
    "pwd()"
   ]
  },
  {
   "cell_type": "code",
   "execution_count": null,
   "id": "8515a6c2",
   "metadata": {},
   "outputs": [],
   "source": [
    "os.chdir(\"C:\\\\Users\\\\Ankur\\\\Python code\")"
   ]
  },
  {
   "cell_type": "code",
   "execution_count": null,
   "id": "3ead7837",
   "metadata": {},
   "outputs": [],
   "source": [
    "pwd()"
   ]
  },
  {
   "cell_type": "code",
   "execution_count": null,
   "id": "4bf41117",
   "metadata": {},
   "outputs": [],
   "source": [
    "os.mkdir(\"ankur\")"
   ]
  },
  {
   "cell_type": "code",
   "execution_count": null,
   "id": "e414e659",
   "metadata": {},
   "outputs": [],
   "source": [
    "os.listdir()"
   ]
  },
  {
   "cell_type": "code",
   "execution_count": null,
   "id": "f4ebeb48",
   "metadata": {},
   "outputs": [],
   "source": [
    "if \"test5.txt\" in os.listdir():\n",
    "    print(\"File is available in this directory\")\n",
    "    f = open(\"test5.txt\", \"r+\")\n",
    "    for i in f:\n",
    "        print(i)\n",
    "else:\n",
    "    print(\"File is not preseetn oin this directiry\")"
   ]
  },
  {
   "cell_type": "code",
   "execution_count": null,
   "id": "25ab6352",
   "metadata": {},
   "outputs": [],
   "source": [
    "os.mkdir(\"ankur\")"
   ]
  },
  {
   "cell_type": "code",
   "execution_count": null,
   "id": "27da9fb5",
   "metadata": {},
   "outputs": [],
   "source": [
    "if not os.path.isdir(\"ankur\"):\n",
    "    os.mkdir(\"ankur\")"
   ]
  },
  {
   "cell_type": "code",
   "execution_count": null,
   "id": "1175abff",
   "metadata": {},
   "outputs": [],
   "source": [
    "os.rename(\"test2.txt\" , \"xyz.txt\")"
   ]
  },
  {
   "cell_type": "code",
   "execution_count": null,
   "id": "d84b5bde",
   "metadata": {},
   "outputs": [],
   "source": [
    "f = open(\"test2.txt\", \"r+\")\n",
    "f.close"
   ]
  },
  {
   "cell_type": "code",
   "execution_count": null,
   "id": "9818f16b",
   "metadata": {},
   "outputs": [],
   "source": [
    "f.close()"
   ]
  },
  {
   "cell_type": "code",
   "execution_count": null,
   "id": "34ee36f9",
   "metadata": {},
   "outputs": [],
   "source": [
    "os.rm(\"ankurwa\")"
   ]
  },
  {
   "cell_type": "code",
   "execution_count": null,
   "id": "031fff9b",
   "metadata": {},
   "outputs": [],
   "source": [
    "import shutil"
   ]
  },
  {
   "cell_type": "code",
   "execution_count": null,
   "id": "409bb3f7",
   "metadata": {},
   "outputs": [],
   "source": [
    "shutil.move(\"C:\\\\Users\\\\Ankur\\\\Python code\", \"C:\\\\Users\\\\Ankur\")"
   ]
  },
  {
   "cell_type": "code",
   "execution_count": null,
   "id": "22c7899e",
   "metadata": {},
   "outputs": [],
   "source": [
    "#1. create a new directory\n",
    "#2. create 10 txt file and write some data in all \n",
    "#txt at a time\n",
    "#3. read all the data from this dir/file print in\n",
    "#console\n",
    "#4. hold all the data in list\n",
    "#5. write all the data in a new file from the list\n",
    "#6. keep only the nw file in present diectory and\n",
    "# move rest in new directory"
   ]
  },
  {
   "cell_type": "code",
   "execution_count": null,
   "id": "7bd13387",
   "metadata": {},
   "outputs": [],
   "source": [
    "f = open(\"dir.txt\", \"x\",(10))"
   ]
  },
  {
   "cell_type": "code",
   "execution_count": null,
   "id": "ceb95cf1",
   "metadata": {},
   "outputs": [],
   "source": [
    "f.write(\"\")"
   ]
  },
  {
   "cell_type": "code",
   "execution_count": null,
   "id": "afcbcd74",
   "metadata": {},
   "outputs": [],
   "source": [
    "import os"
   ]
  },
  {
   "cell_type": "code",
   "execution_count": null,
   "id": "547cc934",
   "metadata": {},
   "outputs": [],
   "source": [
    "os.mkdir(\"quest\")"
   ]
  },
  {
   "cell_type": "code",
   "execution_count": null,
   "id": "d437b199",
   "metadata": {},
   "outputs": [],
   "source": []
  },
  {
   "cell_type": "code",
   "execution_count": null,
   "id": "95ebb371",
   "metadata": {},
   "outputs": [],
   "source": []
  },
  {
   "cell_type": "code",
   "execution_count": null,
   "id": "51daa920",
   "metadata": {},
   "outputs": [],
   "source": []
  },
  {
   "cell_type": "code",
   "execution_count": null,
   "id": "e3f98e15",
   "metadata": {},
   "outputs": [],
   "source": [
    "os.chdir(\"C:\\\\Users\\\\Ankur\\\\Python code\\\\quest\")"
   ]
  },
  {
   "cell_type": "code",
   "execution_count": null,
   "id": "cc33b1d2",
   "metadata": {},
   "outputs": [],
   "source": [
    "os.getcwd()"
   ]
  },
  {
   "cell_type": "code",
   "execution_count": null,
   "id": "8c886926",
   "metadata": {},
   "outputs": [],
   "source": [
    "f = open(\"test3.txt\", \"x\")\n",
    "if test3.txt:\n",
    "    test3.txt == test3.txt+1"
   ]
  },
  {
   "cell_type": "code",
   "execution_count": 7,
   "id": "77cef3cb",
   "metadata": {},
   "outputs": [
    {
     "data": {
      "text/plain": [
       "('sudhanshi@gma.com', 'sudh', 'sudhsudhanshi@gma.com')"
      ]
     },
     "execution_count": 7,
     "metadata": {},
     "output_type": "execute_result"
    }
   ],
   "source": [
    "def test(name, mail_id):\n",
    "    con = name + mail_id\n",
    "    return mail_id , name, con\n",
    "\n",
    "test(\"sudh\", \"sudhanshi@gma.com\")"
   ]
  },
  {
   "cell_type": "code",
   "execution_count": null,
   "id": "01c4e5eb",
   "metadata": {},
   "outputs": [],
   "source": []
  }
 ],
 "metadata": {
  "kernelspec": {
   "display_name": "Python 3 (ipykernel)",
   "language": "python",
   "name": "python3"
  },
  "language_info": {
   "codemirror_mode": {
    "name": "ipython",
    "version": 3
   },
   "file_extension": ".py",
   "mimetype": "text/x-python",
   "name": "python",
   "nbconvert_exporter": "python",
   "pygments_lexer": "ipython3",
   "version": "3.9.12"
  }
 },
 "nbformat": 4,
 "nbformat_minor": 5
}
